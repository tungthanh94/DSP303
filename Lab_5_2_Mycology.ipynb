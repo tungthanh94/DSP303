{
 "cells": [
  {
   "cell_type": "markdown",
   "metadata": {
    "id": "_qDPKA2afOz4"
   },
   "source": [
    "## Lab Introduction\n",
    "Mycology is a branch of biology that generally deals with the study of fungi and mushrooms, and particularly their genetic and biochemical make-up, and their use to humans. Throughout history, fungi have been used for tinder, medicine, and food. For hundreds of years, specific mushrooms have been used as folk medicine in Russian, China, and Japan. Scientists elsewhere have also documented many medicinal uses of mushrooms as well, but not all mushrooms are beneficial--some are quite deadly.\n",
    "\n",
    "In this lab, you're going to use decision trees to peruse The Mushroom Data Set, drawn from the Audobon Society Field Guide to North American Mushrooms (1981). The data set details mushrooms described in terms of many physical characteristics, such as cap size and stalk length, along with a classification of poisonous or edible.\n",
    "\n",
    "As a standard disclaimer, if you eat a random mushroom you find, you are doing so at your own risk. While every effort has been made to ensure that the information contained with the data set is correct, please understand that no one associated with this course accepts any responsibility or liability for errors, omissions or representations, expressed or implied, contained therein, or that might arise from you mistakenly identifying a mushroom. Exercise due caution and just take this lab as informational purposes only."
   ]
  },
  {
   "cell_type": "code",
   "execution_count": 1,
   "metadata": {
    "id": "1jWLXHWkfOz6"
   },
   "outputs": [],
   "source": [
    "import pandas as pd\n",
    "import numpy as np\n",
    "import matplotlib.pyplot as plt\n",
    "import seaborn as sns"
   ]
  },
  {
   "cell_type": "markdown",
   "metadata": {
    "collapsed": true,
    "id": "8QnhGwaLfO0H"
   },
   "source": [
    "## 1. Data Preparation\n",
    "Visit the [data set's page](https://archive.ics.uci.edu/ml/datasets/Mushroom), read through it carefully and download the dataset."
   ]
  },
  {
   "cell_type": "markdown",
   "metadata": {
    "id": "kr1lE3nvfO0I"
   },
   "source": [
    "Load up the mushroom dataset into dataframe `X` and verify you did it properly, and that you have not included any features that clearly shouldn't be part of the dataset.\n",
    "\n",
    "You should not have any doubled indices. You can check out information about the headers present in the dataset using the link we provided above. Also make sure you've properly captured any NA values."
   ]
  },
  {
   "cell_type": "code",
   "execution_count": 2,
   "metadata": {
    "id": "HqEs9qhcfO0J"
   },
   "outputs": [
    {
     "data": {
      "text/html": [
       "<div>\n",
       "<style scoped>\n",
       "    .dataframe tbody tr th:only-of-type {\n",
       "        vertical-align: middle;\n",
       "    }\n",
       "\n",
       "    .dataframe tbody tr th {\n",
       "        vertical-align: top;\n",
       "    }\n",
       "\n",
       "    .dataframe thead th {\n",
       "        text-align: right;\n",
       "    }\n",
       "</style>\n",
       "<table border=\"1\" class=\"dataframe\">\n",
       "  <thead>\n",
       "    <tr style=\"text-align: right;\">\n",
       "      <th></th>\n",
       "      <th>class</th>\n",
       "      <th>cap-shape</th>\n",
       "      <th>cap-surface</th>\n",
       "      <th>cap-color</th>\n",
       "      <th>bruises</th>\n",
       "      <th>odor</th>\n",
       "      <th>gill-attachment</th>\n",
       "      <th>gill-spacing</th>\n",
       "      <th>gill-size</th>\n",
       "      <th>gill-color</th>\n",
       "      <th>...</th>\n",
       "      <th>stalk-surface-below-ring</th>\n",
       "      <th>stalk-color-above-ring</th>\n",
       "      <th>stalk-color-below-ring</th>\n",
       "      <th>veil-type</th>\n",
       "      <th>veil-color</th>\n",
       "      <th>ring-number</th>\n",
       "      <th>ring-type</th>\n",
       "      <th>spore-print-color</th>\n",
       "      <th>population</th>\n",
       "      <th>habitat</th>\n",
       "    </tr>\n",
       "  </thead>\n",
       "  <tbody>\n",
       "    <tr>\n",
       "      <th>0</th>\n",
       "      <td>p</td>\n",
       "      <td>x</td>\n",
       "      <td>s</td>\n",
       "      <td>n</td>\n",
       "      <td>t</td>\n",
       "      <td>p</td>\n",
       "      <td>f</td>\n",
       "      <td>c</td>\n",
       "      <td>n</td>\n",
       "      <td>k</td>\n",
       "      <td>...</td>\n",
       "      <td>s</td>\n",
       "      <td>w</td>\n",
       "      <td>w</td>\n",
       "      <td>p</td>\n",
       "      <td>w</td>\n",
       "      <td>o</td>\n",
       "      <td>p</td>\n",
       "      <td>k</td>\n",
       "      <td>s</td>\n",
       "      <td>u</td>\n",
       "    </tr>\n",
       "    <tr>\n",
       "      <th>1</th>\n",
       "      <td>e</td>\n",
       "      <td>x</td>\n",
       "      <td>s</td>\n",
       "      <td>y</td>\n",
       "      <td>t</td>\n",
       "      <td>a</td>\n",
       "      <td>f</td>\n",
       "      <td>c</td>\n",
       "      <td>b</td>\n",
       "      <td>k</td>\n",
       "      <td>...</td>\n",
       "      <td>s</td>\n",
       "      <td>w</td>\n",
       "      <td>w</td>\n",
       "      <td>p</td>\n",
       "      <td>w</td>\n",
       "      <td>o</td>\n",
       "      <td>p</td>\n",
       "      <td>n</td>\n",
       "      <td>n</td>\n",
       "      <td>g</td>\n",
       "    </tr>\n",
       "    <tr>\n",
       "      <th>2</th>\n",
       "      <td>e</td>\n",
       "      <td>b</td>\n",
       "      <td>s</td>\n",
       "      <td>w</td>\n",
       "      <td>t</td>\n",
       "      <td>l</td>\n",
       "      <td>f</td>\n",
       "      <td>c</td>\n",
       "      <td>b</td>\n",
       "      <td>n</td>\n",
       "      <td>...</td>\n",
       "      <td>s</td>\n",
       "      <td>w</td>\n",
       "      <td>w</td>\n",
       "      <td>p</td>\n",
       "      <td>w</td>\n",
       "      <td>o</td>\n",
       "      <td>p</td>\n",
       "      <td>n</td>\n",
       "      <td>n</td>\n",
       "      <td>m</td>\n",
       "    </tr>\n",
       "    <tr>\n",
       "      <th>3</th>\n",
       "      <td>p</td>\n",
       "      <td>x</td>\n",
       "      <td>y</td>\n",
       "      <td>w</td>\n",
       "      <td>t</td>\n",
       "      <td>p</td>\n",
       "      <td>f</td>\n",
       "      <td>c</td>\n",
       "      <td>n</td>\n",
       "      <td>n</td>\n",
       "      <td>...</td>\n",
       "      <td>s</td>\n",
       "      <td>w</td>\n",
       "      <td>w</td>\n",
       "      <td>p</td>\n",
       "      <td>w</td>\n",
       "      <td>o</td>\n",
       "      <td>p</td>\n",
       "      <td>k</td>\n",
       "      <td>s</td>\n",
       "      <td>u</td>\n",
       "    </tr>\n",
       "    <tr>\n",
       "      <th>4</th>\n",
       "      <td>e</td>\n",
       "      <td>x</td>\n",
       "      <td>s</td>\n",
       "      <td>g</td>\n",
       "      <td>f</td>\n",
       "      <td>n</td>\n",
       "      <td>f</td>\n",
       "      <td>w</td>\n",
       "      <td>b</td>\n",
       "      <td>k</td>\n",
       "      <td>...</td>\n",
       "      <td>s</td>\n",
       "      <td>w</td>\n",
       "      <td>w</td>\n",
       "      <td>p</td>\n",
       "      <td>w</td>\n",
       "      <td>o</td>\n",
       "      <td>e</td>\n",
       "      <td>n</td>\n",
       "      <td>a</td>\n",
       "      <td>g</td>\n",
       "    </tr>\n",
       "  </tbody>\n",
       "</table>\n",
       "<p>5 rows × 23 columns</p>\n",
       "</div>"
      ],
      "text/plain": [
       "  class cap-shape cap-surface cap-color bruises odor gill-attachment  \\\n",
       "0     p         x           s         n       t    p               f   \n",
       "1     e         x           s         y       t    a               f   \n",
       "2     e         b           s         w       t    l               f   \n",
       "3     p         x           y         w       t    p               f   \n",
       "4     e         x           s         g       f    n               f   \n",
       "\n",
       "  gill-spacing gill-size gill-color  ... stalk-surface-below-ring  \\\n",
       "0            c         n          k  ...                        s   \n",
       "1            c         b          k  ...                        s   \n",
       "2            c         b          n  ...                        s   \n",
       "3            c         n          n  ...                        s   \n",
       "4            w         b          k  ...                        s   \n",
       "\n",
       "  stalk-color-above-ring stalk-color-below-ring veil-type veil-color  \\\n",
       "0                      w                      w         p          w   \n",
       "1                      w                      w         p          w   \n",
       "2                      w                      w         p          w   \n",
       "3                      w                      w         p          w   \n",
       "4                      w                      w         p          w   \n",
       "\n",
       "  ring-number ring-type spore-print-color population habitat  \n",
       "0           o         p                 k          s       u  \n",
       "1           o         p                 n          n       g  \n",
       "2           o         p                 n          n       m  \n",
       "3           o         p                 k          s       u  \n",
       "4           o         e                 n          a       g  \n",
       "\n",
       "[5 rows x 23 columns]"
      ]
     },
     "execution_count": 2,
     "metadata": {},
     "output_type": "execute_result"
    }
   ],
   "source": [
    "df = pd.read_csv('agaricus-lepiota.data', names = ['class', 'cap-shape', 'cap-surface', 'cap-color', 'bruises',\n",
    "       'odor', 'gill-attachment', 'gill-spacing', 'gill-size',\n",
    "       'gill-color', 'stalk-shape', 'stalk-root',\n",
    "       'stalk-surface-above-ring', 'stalk-surface-below-ring',\n",
    "       'stalk-color-above-ring', 'stalk-color-below-ring', 'veil-type',\n",
    "       'veil-color', 'ring-number', 'ring-type', 'spore-print-color',\n",
    "       'population', 'habitat'])\n",
    "df.head()"
   ]
  },
  {
   "cell_type": "code",
   "execution_count": 9,
   "metadata": {},
   "outputs": [
    {
     "name": "stdout",
     "output_type": "stream",
     "text": [
      "<class 'pandas.core.frame.DataFrame'>\n",
      "RangeIndex: 8124 entries, 0 to 8123\n",
      "Data columns (total 23 columns):\n",
      " #   Column                    Non-Null Count  Dtype \n",
      "---  ------                    --------------  ----- \n",
      " 0   class                     8124 non-null   object\n",
      " 1   cap-shape                 8124 non-null   object\n",
      " 2   cap-surface               8124 non-null   object\n",
      " 3   cap-color                 8124 non-null   object\n",
      " 4   bruises                   8124 non-null   object\n",
      " 5   odor                      8124 non-null   object\n",
      " 6   gill-attachment           8124 non-null   object\n",
      " 7   gill-spacing              8124 non-null   object\n",
      " 8   gill-size                 8124 non-null   object\n",
      " 9   gill-color                8124 non-null   object\n",
      " 10  stalk-shape               8124 non-null   object\n",
      " 11  stalk-root                8124 non-null   object\n",
      " 12  stalk-surface-above-ring  8124 non-null   object\n",
      " 13  stalk-surface-below-ring  8124 non-null   object\n",
      " 14  stalk-color-above-ring    8124 non-null   object\n",
      " 15  stalk-color-below-ring    8124 non-null   object\n",
      " 16  veil-type                 8124 non-null   object\n",
      " 17  veil-color                8124 non-null   object\n",
      " 18  ring-number               8124 non-null   object\n",
      " 19  ring-type                 8124 non-null   object\n",
      " 20  spore-print-color         8124 non-null   object\n",
      " 21  population                8124 non-null   object\n",
      " 22  habitat                   8124 non-null   object\n",
      "dtypes: object(23)\n",
      "memory usage: 1.4+ MB\n"
     ]
    }
   ],
   "source": [
    "df.info()"
   ]
  },
  {
   "cell_type": "code",
   "execution_count": 5,
   "metadata": {
    "id": "Rpww5XMffO0R"
   },
   "outputs": [
    {
     "data": {
      "text/html": [
       "<div>\n",
       "<style scoped>\n",
       "    .dataframe tbody tr th:only-of-type {\n",
       "        vertical-align: middle;\n",
       "    }\n",
       "\n",
       "    .dataframe tbody tr th {\n",
       "        vertical-align: top;\n",
       "    }\n",
       "\n",
       "    .dataframe thead th {\n",
       "        text-align: right;\n",
       "    }\n",
       "</style>\n",
       "<table border=\"1\" class=\"dataframe\">\n",
       "  <thead>\n",
       "    <tr style=\"text-align: right;\">\n",
       "      <th></th>\n",
       "      <th>class</th>\n",
       "      <th>cap-shape</th>\n",
       "      <th>cap-surface</th>\n",
       "      <th>cap-color</th>\n",
       "      <th>bruises</th>\n",
       "      <th>odor</th>\n",
       "      <th>gill-attachment</th>\n",
       "      <th>gill-spacing</th>\n",
       "      <th>gill-size</th>\n",
       "      <th>gill-color</th>\n",
       "      <th>...</th>\n",
       "      <th>stalk-surface-below-ring</th>\n",
       "      <th>stalk-color-above-ring</th>\n",
       "      <th>stalk-color-below-ring</th>\n",
       "      <th>veil-type</th>\n",
       "      <th>veil-color</th>\n",
       "      <th>ring-number</th>\n",
       "      <th>ring-type</th>\n",
       "      <th>spore-print-color</th>\n",
       "      <th>population</th>\n",
       "      <th>habitat</th>\n",
       "    </tr>\n",
       "  </thead>\n",
       "  <tbody>\n",
       "  </tbody>\n",
       "</table>\n",
       "<p>0 rows × 23 columns</p>\n",
       "</div>"
      ],
      "text/plain": [
       "Empty DataFrame\n",
       "Columns: [class, cap-shape, cap-surface, cap-color, bruises, odor, gill-attachment, gill-spacing, gill-size, gill-color, stalk-shape, stalk-root, stalk-surface-above-ring, stalk-surface-below-ring, stalk-color-above-ring, stalk-color-below-ring, veil-type, veil-color, ring-number, ring-type, spore-print-color, population, habitat]\n",
       "Index: []\n",
       "\n",
       "[0 rows x 23 columns]"
      ]
     },
     "execution_count": 5,
     "metadata": {},
     "output_type": "execute_result"
    }
   ],
   "source": [
    "# An easy way to show which rows have nans in them:\n",
    "df[pd.isnull(df).any(axis=1)]"
   ]
  },
  {
   "cell_type": "markdown",
   "metadata": {
    "id": "SrfjzMUnfO0d"
   },
   "source": [
    "For this simple lab, just drop any row with a nan in it, and then print out your dataset's shape:"
   ]
  },
  {
   "cell_type": "markdown",
   "metadata": {
    "id": "gZk3V5y0fO0q"
   },
   "source": [
    "Copy the labels out of the dataframe into variable `y`, then remove them from `X`.\n",
    "\n",
    "Encode the labels, using the `.map()` trick we presented you in Module 5, using `canadian:0`, `kama:1`, and `rosa:2`."
   ]
  },
  {
   "cell_type": "code",
   "execution_count": 19,
   "metadata": {
    "id": "RVz-WkzGfO0s"
   },
   "outputs": [],
   "source": [
    "X = df.drop('class', axis = 1)\n",
    "y = df['class']"
   ]
  },
  {
   "cell_type": "code",
   "execution_count": 26,
   "metadata": {},
   "outputs": [],
   "source": [
    "X = pd.get_dummies(X, drop_first=True)"
   ]
  },
  {
   "cell_type": "markdown",
   "metadata": {
    "id": "z6GNKmKDfO0z"
   },
   "source": [
    "Encode the entire dataframe using dummies:"
   ]
  },
  {
   "cell_type": "markdown",
   "metadata": {
    "collapsed": true,
    "id": "p2kiIkNbfO00"
   },
   "source": [
    "Split your data into `test` and `train` sets. Your `test` size should be 30% with `random_state` 7.\n",
    "\n",
    "Please use variable names: `X_train`, `X_test`, `y_train`, and `y_test`:"
   ]
  },
  {
   "cell_type": "code",
   "execution_count": 27,
   "metadata": {},
   "outputs": [],
   "source": [
    "from sklearn.model_selection import train_test_split"
   ]
  },
  {
   "cell_type": "code",
   "execution_count": 28,
   "metadata": {
    "id": "60C2Py7jfO03"
   },
   "outputs": [],
   "source": [
    "X_train, X_test, y_train, y_test = train_test_split(X, y, test_size=0.3, random_state=7)"
   ]
  },
  {
   "cell_type": "markdown",
   "metadata": {
    "id": "7IszxDQtgoHO"
   },
   "source": [
    "## 2. Training and Evaluating the Model"
   ]
  },
  {
   "cell_type": "markdown",
   "metadata": {
    "collapsed": true,
    "id": "YXe9dcd1fO1C"
   },
   "source": [
    "Create an DT classifier. No need to set any parameters:"
   ]
  },
  {
   "cell_type": "code",
   "execution_count": 35,
   "metadata": {},
   "outputs": [],
   "source": [
    "from sklearn.tree import DecisionTreeClassifier, plot_tree, export_graphviz\n",
    "from sklearn.ensemble import AdaBoostClassifier, RandomForestClassifier\n",
    "from sklearn.metrics import classification_report, plot_confusion_matrix, accuracy_score, f1_score"
   ]
  },
  {
   "cell_type": "code",
   "execution_count": 30,
   "metadata": {
    "id": "mNGFjNAwfO1E"
   },
   "outputs": [],
   "source": [
    "model = DecisionTreeClassifier()"
   ]
  },
  {
   "cell_type": "markdown",
   "metadata": {
    "id": "vhZXcSGUfO1P"
   },
   "source": [
    "Train the classifier on the `training` data and labels; then, score the classifier by accuracy and F1 score on the `testing` data and labels:"
   ]
  },
  {
   "cell_type": "code",
   "execution_count": 33,
   "metadata": {
    "id": "vKaSAVhifO1R"
   },
   "outputs": [],
   "source": [
    "model.fit(X_train, y_train)\n",
    "ypred = model.predict(X_test)\n",
    "score = accuracy_score(y_test, ypred)"
   ]
  },
  {
   "cell_type": "code",
   "execution_count": 34,
   "metadata": {
    "id": "DmrKZ_5yfO1g"
   },
   "outputs": [
    {
     "name": "stdout",
     "output_type": "stream",
     "text": [
      "High-Dimensionality Score:  100.0\n"
     ]
    }
   ],
   "source": [
    "print(\"High-Dimensionality Score: \", round((score*100), 3))"
   ]
  },
  {
   "cell_type": "markdown",
   "metadata": {
    "id": "_xpXZ9IJfO1m"
   },
   "source": [
    "Use the code on the course's SciKit-Learn page to output a .DOT file, then render the .DOT to .PNGs.\n",
    "\n",
    "You will need graphviz installed to do this. On macOS, you can `brew install graphviz`. On Windows 10, graphviz installs via a .msi installer that you can download from the graphviz website. Also, a graph editor, gvedit.exe can be used to view the tree directly from the exported tree.dot file without having to issue a call. On other systems, use analogous commands.\n",
    "\n",
    "If you encounter issues installing graphviz or don't have the rights to, you can always visualize your .dot file on the website: http://webgraphviz.com/."
   ]
  },
  {
   "cell_type": "code",
   "execution_count": 54,
   "metadata": {},
   "outputs": [
    {
     "data": {
      "text/plain": [
       "array(['p', 'e'], dtype=object)"
      ]
     },
     "execution_count": 54,
     "metadata": {},
     "output_type": "execute_result"
    }
   ],
   "source": [
    "y.unique()"
   ]
  },
  {
   "cell_type": "code",
   "execution_count": 55,
   "metadata": {},
   "outputs": [
    {
     "data": {
      "text/plain": [
       "array(['e', 'p'], dtype=object)"
      ]
     },
     "execution_count": 55,
     "metadata": {},
     "output_type": "execute_result"
    }
   ],
   "source": [
    "model.classes_"
   ]
  },
  {
   "cell_type": "code",
   "execution_count": 65,
   "metadata": {},
   "outputs": [
    {
     "data": {
      "text/plain": [
       "e    2956\n",
       "p    2730\n",
       "Name: class, dtype: int64"
      ]
     },
     "execution_count": 65,
     "metadata": {},
     "output_type": "execute_result"
    }
   ],
   "source": [
    "y_train.value_counts()"
   ]
  },
  {
   "cell_type": "code",
   "execution_count": 72,
   "metadata": {},
   "outputs": [
    {
     "data": {
      "text/plain": [
       "e    2384\n",
       "p      88\n",
       "Name: class, dtype: int64"
      ]
     },
     "execution_count": 72,
     "metadata": {},
     "output_type": "execute_result"
    }
   ],
   "source": [
    "y_train[X_train['odor_n'] > 0.5].value_counts()"
   ]
  },
  {
   "cell_type": "code",
   "execution_count": 66,
   "metadata": {},
   "outputs": [
    {
     "data": {
      "text/plain": [
       "'p'"
      ]
     },
     "execution_count": 66,
     "metadata": {},
     "output_type": "execute_result"
    }
   ],
   "source": [
    "y[0]"
   ]
  },
  {
   "cell_type": "code",
   "execution_count": 73,
   "metadata": {
    "id": "lcgsCBmbfO1o"
   },
   "outputs": [
    {
     "data": {
      "image/svg+xml": [
       "<?xml version=\"1.0\" encoding=\"UTF-8\" standalone=\"no\"?>\r\n",
       "<!DOCTYPE svg PUBLIC \"-//W3C//DTD SVG 1.1//EN\"\r\n",
       " \"http://www.w3.org/Graphics/SVG/1.1/DTD/svg11.dtd\">\r\n",
       "<!-- Generated by graphviz version 2.38.0 (20140413.2041)\r\n",
       " -->\r\n",
       "<!-- Title: Tree Pages: 1 -->\r\n",
       "<svg width=\"923pt\" height=\"909pt\"\r\n",
       " viewBox=\"0.00 0.00 922.50 909.00\" xmlns=\"http://www.w3.org/2000/svg\" xmlns:xlink=\"http://www.w3.org/1999/xlink\">\r\n",
       "<g id=\"graph0\" class=\"graph\" transform=\"scale(1 1) rotate(0) translate(4 905)\">\r\n",
       "<title>Tree</title>\r\n",
       "<polygon fill=\"white\" stroke=\"none\" points=\"-4,4 -4,-905 918.5,-905 918.5,4 -4,4\"/>\r\n",
       "<!-- 0 -->\r\n",
       "<g id=\"node1\" class=\"node\"><title>0</title>\r\n",
       "<polygon fill=\"#fdf5f0\" stroke=\"black\" points=\"569,-901 438,-901 438,-818 569,-818 569,-901\"/>\r\n",
       "<text text-anchor=\"middle\" x=\"503.5\" y=\"-885.8\" font-family=\"Times New Roman,serif\" font-size=\"14.00\">odor_n &lt;= 0.5</text>\r\n",
       "<text text-anchor=\"middle\" x=\"503.5\" y=\"-870.8\" font-family=\"Times New Roman,serif\" font-size=\"14.00\">gini = 0.499</text>\r\n",
       "<text text-anchor=\"middle\" x=\"503.5\" y=\"-855.8\" font-family=\"Times New Roman,serif\" font-size=\"14.00\">samples = 5686</text>\r\n",
       "<text text-anchor=\"middle\" x=\"503.5\" y=\"-840.8\" font-family=\"Times New Roman,serif\" font-size=\"14.00\">value = [2956, 2730]</text>\r\n",
       "<text text-anchor=\"middle\" x=\"503.5\" y=\"-825.8\" font-family=\"Times New Roman,serif\" font-size=\"14.00\">class = e</text>\r\n",
       "</g>\r\n",
       "<!-- 1 -->\r\n",
       "<g id=\"node2\" class=\"node\"><title>1</title>\r\n",
       "<polygon fill=\"#64b2eb\" stroke=\"black\" points=\"462,-782 337,-782 337,-699 462,-699 462,-782\"/>\r\n",
       "<text text-anchor=\"middle\" x=\"399.5\" y=\"-766.8\" font-family=\"Times New Roman,serif\" font-size=\"14.00\">stalk&#45;root_c &lt;= 0.5</text>\r\n",
       "<text text-anchor=\"middle\" x=\"399.5\" y=\"-751.8\" font-family=\"Times New Roman,serif\" font-size=\"14.00\">gini = 0.293</text>\r\n",
       "<text text-anchor=\"middle\" x=\"399.5\" y=\"-736.8\" font-family=\"Times New Roman,serif\" font-size=\"14.00\">samples = 3214</text>\r\n",
       "<text text-anchor=\"middle\" x=\"399.5\" y=\"-721.8\" font-family=\"Times New Roman,serif\" font-size=\"14.00\">value = [572, 2642]</text>\r\n",
       "<text text-anchor=\"middle\" x=\"399.5\" y=\"-706.8\" font-family=\"Times New Roman,serif\" font-size=\"14.00\">class = p</text>\r\n",
       "</g>\r\n",
       "<!-- 0&#45;&gt;1 -->\r\n",
       "<g id=\"edge1\" class=\"edge\"><title>0&#45;&gt;1</title>\r\n",
       "<path fill=\"none\" stroke=\"black\" d=\"M467.418,-817.907C459.351,-808.832 450.719,-799.121 442.406,-789.769\"/>\r\n",
       "<polygon fill=\"black\" stroke=\"black\" points=\"444.778,-787.17 435.518,-782.021 439.546,-791.82 444.778,-787.17\"/>\r\n",
       "<text text-anchor=\"middle\" x=\"434.05\" y=\"-803.278\" font-family=\"Times New Roman,serif\" font-size=\"14.00\">True</text>\r\n",
       "</g>\r\n",
       "<!-- 16 -->\r\n",
       "<g id=\"node17\" class=\"node\"><title>16</title>\r\n",
       "<polygon fill=\"#e68640\" stroke=\"black\" points=\"690,-782 525,-782 525,-699 690,-699 690,-782\"/>\r\n",
       "<text text-anchor=\"middle\" x=\"607.5\" y=\"-766.8\" font-family=\"Times New Roman,serif\" font-size=\"14.00\">spore&#45;print&#45;color_r &lt;= 0.5</text>\r\n",
       "<text text-anchor=\"middle\" x=\"607.5\" y=\"-751.8\" font-family=\"Times New Roman,serif\" font-size=\"14.00\">gini = 0.069</text>\r\n",
       "<text text-anchor=\"middle\" x=\"607.5\" y=\"-736.8\" font-family=\"Times New Roman,serif\" font-size=\"14.00\">samples = 2472</text>\r\n",
       "<text text-anchor=\"middle\" x=\"607.5\" y=\"-721.8\" font-family=\"Times New Roman,serif\" font-size=\"14.00\">value = [2384, 88]</text>\r\n",
       "<text text-anchor=\"middle\" x=\"607.5\" y=\"-706.8\" font-family=\"Times New Roman,serif\" font-size=\"14.00\">class = e</text>\r\n",
       "</g>\r\n",
       "<!-- 0&#45;&gt;16 -->\r\n",
       "<g id=\"edge16\" class=\"edge\"><title>0&#45;&gt;16</title>\r\n",
       "<path fill=\"none\" stroke=\"black\" d=\"M539.582,-817.907C547.649,-808.832 556.281,-799.121 564.594,-789.769\"/>\r\n",
       "<polygon fill=\"black\" stroke=\"black\" points=\"567.454,-791.82 571.482,-782.021 562.222,-787.17 567.454,-791.82\"/>\r\n",
       "<text text-anchor=\"middle\" x=\"572.95\" y=\"-803.278\" font-family=\"Times New Roman,serif\" font-size=\"14.00\">False</text>\r\n",
       "</g>\r\n",
       "<!-- 2 -->\r\n",
       "<g id=\"node3\" class=\"node\"><title>2</title>\r\n",
       "<polygon fill=\"#48a5e7\" stroke=\"black\" points=\"293,-663 168,-663 168,-580 293,-580 293,-663\"/>\r\n",
       "<text text-anchor=\"middle\" x=\"230.5\" y=\"-647.8\" font-family=\"Times New Roman,serif\" font-size=\"14.00\">stalk&#45;root_r &lt;= 0.5</text>\r\n",
       "<text text-anchor=\"middle\" x=\"230.5\" y=\"-632.8\" font-family=\"Times New Roman,serif\" font-size=\"14.00\">gini = 0.134</text>\r\n",
       "<text text-anchor=\"middle\" x=\"230.5\" y=\"-617.8\" font-family=\"Times New Roman,serif\" font-size=\"14.00\">samples = 2819</text>\r\n",
       "<text text-anchor=\"middle\" x=\"230.5\" y=\"-602.8\" font-family=\"Times New Roman,serif\" font-size=\"14.00\">value = [203, 2616]</text>\r\n",
       "<text text-anchor=\"middle\" x=\"230.5\" y=\"-587.8\" font-family=\"Times New Roman,serif\" font-size=\"14.00\">class = p</text>\r\n",
       "</g>\r\n",
       "<!-- 1&#45;&gt;2 -->\r\n",
       "<g id=\"edge2\" class=\"edge\"><title>1&#45;&gt;2</title>\r\n",
       "<path fill=\"none\" stroke=\"black\" d=\"M340.866,-698.907C326.84,-689.197 311.762,-678.758 297.394,-668.811\"/>\r\n",
       "<polygon fill=\"black\" stroke=\"black\" points=\"299.244,-665.835 289.03,-663.021 295.26,-671.591 299.244,-665.835\"/>\r\n",
       "</g>\r\n",
       "<!-- 13 -->\r\n",
       "<g id=\"node14\" class=\"node\"><title>13</title>\r\n",
       "<polygon fill=\"#e78a47\" stroke=\"black\" points=\"460.5,-663 338.5,-663 338.5,-580 460.5,-580 460.5,-663\"/>\r\n",
       "<text text-anchor=\"middle\" x=\"399.5\" y=\"-647.8\" font-family=\"Times New Roman,serif\" font-size=\"14.00\">ring&#45;type_n &lt;= 0.5</text>\r\n",
       "<text text-anchor=\"middle\" x=\"399.5\" y=\"-632.8\" font-family=\"Times New Roman,serif\" font-size=\"14.00\">gini = 0.123</text>\r\n",
       "<text text-anchor=\"middle\" x=\"399.5\" y=\"-617.8\" font-family=\"Times New Roman,serif\" font-size=\"14.00\">samples = 395</text>\r\n",
       "<text text-anchor=\"middle\" x=\"399.5\" y=\"-602.8\" font-family=\"Times New Roman,serif\" font-size=\"14.00\">value = [369, 26]</text>\r\n",
       "<text text-anchor=\"middle\" x=\"399.5\" y=\"-587.8\" font-family=\"Times New Roman,serif\" font-size=\"14.00\">class = e</text>\r\n",
       "</g>\r\n",
       "<!-- 1&#45;&gt;13 -->\r\n",
       "<g id=\"edge13\" class=\"edge\"><title>1&#45;&gt;13</title>\r\n",
       "<path fill=\"none\" stroke=\"black\" d=\"M399.5,-698.907C399.5,-690.649 399.5,-681.864 399.5,-673.302\"/>\r\n",
       "<polygon fill=\"black\" stroke=\"black\" points=\"403,-673.021 399.5,-663.021 396,-673.021 403,-673.021\"/>\r\n",
       "</g>\r\n",
       "<!-- 3 -->\r\n",
       "<g id=\"node4\" class=\"node\"><title>3</title>\r\n",
       "<polygon fill=\"#3ea0e6\" stroke=\"black\" points=\"160.5,-544 42.5,-544 42.5,-461 160.5,-461 160.5,-544\"/>\r\n",
       "<text text-anchor=\"middle\" x=\"101.5\" y=\"-528.8\" font-family=\"Times New Roman,serif\" font-size=\"14.00\">odor_l &lt;= 0.5</text>\r\n",
       "<text text-anchor=\"middle\" x=\"101.5\" y=\"-513.8\" font-family=\"Times New Roman,serif\" font-size=\"14.00\">gini = 0.051</text>\r\n",
       "<text text-anchor=\"middle\" x=\"101.5\" y=\"-498.8\" font-family=\"Times New Roman,serif\" font-size=\"14.00\">samples = 2686</text>\r\n",
       "<text text-anchor=\"middle\" x=\"101.5\" y=\"-483.8\" font-family=\"Times New Roman,serif\" font-size=\"14.00\">value = [70, 2616]</text>\r\n",
       "<text text-anchor=\"middle\" x=\"101.5\" y=\"-468.8\" font-family=\"Times New Roman,serif\" font-size=\"14.00\">class = p</text>\r\n",
       "</g>\r\n",
       "<!-- 2&#45;&gt;3 -->\r\n",
       "<g id=\"edge3\" class=\"edge\"><title>2&#45;&gt;3</title>\r\n",
       "<path fill=\"none\" stroke=\"black\" d=\"M185.744,-579.907C175.438,-570.56 164.388,-560.538 153.793,-550.929\"/>\r\n",
       "<polygon fill=\"black\" stroke=\"black\" points=\"155.935,-548.146 146.177,-544.021 151.233,-553.332 155.935,-548.146\"/>\r\n",
       "</g>\r\n",
       "<!-- 12 -->\r\n",
       "<g id=\"node13\" class=\"node\"><title>12</title>\r\n",
       "<polygon fill=\"#e58139\" stroke=\"black\" points=\"282.5,-536.5 178.5,-536.5 178.5,-468.5 282.5,-468.5 282.5,-536.5\"/>\r\n",
       "<text text-anchor=\"middle\" x=\"230.5\" y=\"-521.3\" font-family=\"Times New Roman,serif\" font-size=\"14.00\">gini = 0.0</text>\r\n",
       "<text text-anchor=\"middle\" x=\"230.5\" y=\"-506.3\" font-family=\"Times New Roman,serif\" font-size=\"14.00\">samples = 133</text>\r\n",
       "<text text-anchor=\"middle\" x=\"230.5\" y=\"-491.3\" font-family=\"Times New Roman,serif\" font-size=\"14.00\">value = [133, 0]</text>\r\n",
       "<text text-anchor=\"middle\" x=\"230.5\" y=\"-476.3\" font-family=\"Times New Roman,serif\" font-size=\"14.00\">class = e</text>\r\n",
       "</g>\r\n",
       "<!-- 2&#45;&gt;12 -->\r\n",
       "<g id=\"edge12\" class=\"edge\"><title>2&#45;&gt;12</title>\r\n",
       "<path fill=\"none\" stroke=\"black\" d=\"M230.5,-579.907C230.5,-569.204 230.5,-557.615 230.5,-546.776\"/>\r\n",
       "<polygon fill=\"black\" stroke=\"black\" points=\"234,-546.667 230.5,-536.667 227,-546.667 234,-546.667\"/>\r\n",
       "</g>\r\n",
       "<!-- 4 -->\r\n",
       "<g id=\"node5\" class=\"node\"><title>4</title>\r\n",
       "<polygon fill=\"#3b9ee5\" stroke=\"black\" points=\"175,-425 8,-425 8,-342 175,-342 175,-425\"/>\r\n",
       "<text text-anchor=\"middle\" x=\"91.5\" y=\"-409.8\" font-family=\"Times New Roman,serif\" font-size=\"14.00\">spore&#45;print&#45;color_u &lt;= 0.5</text>\r\n",
       "<text text-anchor=\"middle\" x=\"91.5\" y=\"-394.8\" font-family=\"Times New Roman,serif\" font-size=\"14.00\">gini = 0.025</text>\r\n",
       "<text text-anchor=\"middle\" x=\"91.5\" y=\"-379.8\" font-family=\"Times New Roman,serif\" font-size=\"14.00\">samples = 2649</text>\r\n",
       "<text text-anchor=\"middle\" x=\"91.5\" y=\"-364.8\" font-family=\"Times New Roman,serif\" font-size=\"14.00\">value = [33, 2616]</text>\r\n",
       "<text text-anchor=\"middle\" x=\"91.5\" y=\"-349.8\" font-family=\"Times New Roman,serif\" font-size=\"14.00\">class = p</text>\r\n",
       "</g>\r\n",
       "<!-- 3&#45;&gt;4 -->\r\n",
       "<g id=\"edge4\" class=\"edge\"><title>3&#45;&gt;4</title>\r\n",
       "<path fill=\"none\" stroke=\"black\" d=\"M98.0305,-460.907C97.317,-452.558 96.5573,-443.671 95.818,-435.02\"/>\r\n",
       "<polygon fill=\"black\" stroke=\"black\" points=\"99.3023,-434.686 94.9633,-425.021 92.3277,-435.283 99.3023,-434.686\"/>\r\n",
       "</g>\r\n",
       "<!-- 11 -->\r\n",
       "<g id=\"node12\" class=\"node\"><title>11</title>\r\n",
       "<polygon fill=\"#e58139\" stroke=\"black\" points=\"291.5,-417.5 193.5,-417.5 193.5,-349.5 291.5,-349.5 291.5,-417.5\"/>\r\n",
       "<text text-anchor=\"middle\" x=\"242.5\" y=\"-402.3\" font-family=\"Times New Roman,serif\" font-size=\"14.00\">gini = 0.0</text>\r\n",
       "<text text-anchor=\"middle\" x=\"242.5\" y=\"-387.3\" font-family=\"Times New Roman,serif\" font-size=\"14.00\">samples = 37</text>\r\n",
       "<text text-anchor=\"middle\" x=\"242.5\" y=\"-372.3\" font-family=\"Times New Roman,serif\" font-size=\"14.00\">value = [37, 0]</text>\r\n",
       "<text text-anchor=\"middle\" x=\"242.5\" y=\"-357.3\" font-family=\"Times New Roman,serif\" font-size=\"14.00\">class = e</text>\r\n",
       "</g>\r\n",
       "<!-- 3&#45;&gt;11 -->\r\n",
       "<g id=\"edge11\" class=\"edge\"><title>3&#45;&gt;11</title>\r\n",
       "<path fill=\"none\" stroke=\"black\" d=\"M150.419,-460.907C164.781,-448.99 180.465,-435.976 194.753,-424.12\"/>\r\n",
       "<polygon fill=\"black\" stroke=\"black\" points=\"197.069,-426.746 202.53,-417.667 192.599,-421.359 197.069,-426.746\"/>\r\n",
       "</g>\r\n",
       "<!-- 5 -->\r\n",
       "<g id=\"node6\" class=\"node\"><title>5</title>\r\n",
       "<polygon fill=\"#3a9ee5\" stroke=\"black\" points=\"155.5,-306 17.5,-306 17.5,-223 155.5,-223 155.5,-306\"/>\r\n",
       "<text text-anchor=\"middle\" x=\"86.5\" y=\"-290.8\" font-family=\"Times New Roman,serif\" font-size=\"14.00\">gill&#45;spacing_w &lt;= 0.5</text>\r\n",
       "<text text-anchor=\"middle\" x=\"86.5\" y=\"-275.8\" font-family=\"Times New Roman,serif\" font-size=\"14.00\">gini = 0.014</text>\r\n",
       "<text text-anchor=\"middle\" x=\"86.5\" y=\"-260.8\" font-family=\"Times New Roman,serif\" font-size=\"14.00\">samples = 2634</text>\r\n",
       "<text text-anchor=\"middle\" x=\"86.5\" y=\"-245.8\" font-family=\"Times New Roman,serif\" font-size=\"14.00\">value = [18, 2616]</text>\r\n",
       "<text text-anchor=\"middle\" x=\"86.5\" y=\"-230.8\" font-family=\"Times New Roman,serif\" font-size=\"14.00\">class = p</text>\r\n",
       "</g>\r\n",
       "<!-- 4&#45;&gt;5 -->\r\n",
       "<g id=\"edge5\" class=\"edge\"><title>4&#45;&gt;5</title>\r\n",
       "<path fill=\"none\" stroke=\"black\" d=\"M89.7653,-341.907C89.4085,-333.558 89.0287,-324.671 88.659,-316.02\"/>\r\n",
       "<polygon fill=\"black\" stroke=\"black\" points=\"92.1555,-315.862 88.2317,-306.021 85.1619,-316.161 92.1555,-315.862\"/>\r\n",
       "</g>\r\n",
       "<!-- 10 -->\r\n",
       "<g id=\"node11\" class=\"node\"><title>10</title>\r\n",
       "<polygon fill=\"#e58139\" stroke=\"black\" points=\"271.5,-298.5 173.5,-298.5 173.5,-230.5 271.5,-230.5 271.5,-298.5\"/>\r\n",
       "<text text-anchor=\"middle\" x=\"222.5\" y=\"-283.3\" font-family=\"Times New Roman,serif\" font-size=\"14.00\">gini = 0.0</text>\r\n",
       "<text text-anchor=\"middle\" x=\"222.5\" y=\"-268.3\" font-family=\"Times New Roman,serif\" font-size=\"14.00\">samples = 15</text>\r\n",
       "<text text-anchor=\"middle\" x=\"222.5\" y=\"-253.3\" font-family=\"Times New Roman,serif\" font-size=\"14.00\">value = [15, 0]</text>\r\n",
       "<text text-anchor=\"middle\" x=\"222.5\" y=\"-238.3\" font-family=\"Times New Roman,serif\" font-size=\"14.00\">class = e</text>\r\n",
       "</g>\r\n",
       "<!-- 4&#45;&gt;10 -->\r\n",
       "<g id=\"edge10\" class=\"edge\"><title>4&#45;&gt;10</title>\r\n",
       "<path fill=\"none\" stroke=\"black\" d=\"M136.95,-341.907C150.17,-330.101 164.595,-317.217 177.77,-305.45\"/>\r\n",
       "<polygon fill=\"black\" stroke=\"black\" points=\"180.237,-307.939 185.364,-298.667 175.575,-302.718 180.237,-307.939\"/>\r\n",
       "</g>\r\n",
       "<!-- 6 -->\r\n",
       "<g id=\"node7\" class=\"node\"><title>6</title>\r\n",
       "<polygon fill=\"#399de5\" stroke=\"black\" points=\"111,-179.5 0,-179.5 0,-111.5 111,-111.5 111,-179.5\"/>\r\n",
       "<text text-anchor=\"middle\" x=\"55.5\" y=\"-164.3\" font-family=\"Times New Roman,serif\" font-size=\"14.00\">gini = 0.0</text>\r\n",
       "<text text-anchor=\"middle\" x=\"55.5\" y=\"-149.3\" font-family=\"Times New Roman,serif\" font-size=\"14.00\">samples = 2548</text>\r\n",
       "<text text-anchor=\"middle\" x=\"55.5\" y=\"-134.3\" font-family=\"Times New Roman,serif\" font-size=\"14.00\">value = [0, 2548]</text>\r\n",
       "<text text-anchor=\"middle\" x=\"55.5\" y=\"-119.3\" font-family=\"Times New Roman,serif\" font-size=\"14.00\">class = p</text>\r\n",
       "</g>\r\n",
       "<!-- 5&#45;&gt;6 -->\r\n",
       "<g id=\"edge6\" class=\"edge\"><title>5&#45;&gt;6</title>\r\n",
       "<path fill=\"none\" stroke=\"black\" d=\"M75.7447,-222.907C72.8795,-212.094 69.7749,-200.376 66.8776,-189.441\"/>\r\n",
       "<polygon fill=\"black\" stroke=\"black\" points=\"70.2323,-188.437 64.2878,-179.667 63.4658,-190.23 70.2323,-188.437\"/>\r\n",
       "</g>\r\n",
       "<!-- 7 -->\r\n",
       "<g id=\"node8\" class=\"node\"><title>7</title>\r\n",
       "<polygon fill=\"#6db7ec\" stroke=\"black\" points=\"260,-187 129,-187 129,-104 260,-104 260,-187\"/>\r\n",
       "<text text-anchor=\"middle\" x=\"194.5\" y=\"-171.8\" font-family=\"Times New Roman,serif\" font-size=\"14.00\">stalk&#45;shape_t &lt;= 0.5</text>\r\n",
       "<text text-anchor=\"middle\" x=\"194.5\" y=\"-156.8\" font-family=\"Times New Roman,serif\" font-size=\"14.00\">gini = 0.331</text>\r\n",
       "<text text-anchor=\"middle\" x=\"194.5\" y=\"-141.8\" font-family=\"Times New Roman,serif\" font-size=\"14.00\">samples = 86</text>\r\n",
       "<text text-anchor=\"middle\" x=\"194.5\" y=\"-126.8\" font-family=\"Times New Roman,serif\" font-size=\"14.00\">value = [18, 68]</text>\r\n",
       "<text text-anchor=\"middle\" x=\"194.5\" y=\"-111.8\" font-family=\"Times New Roman,serif\" font-size=\"14.00\">class = p</text>\r\n",
       "</g>\r\n",
       "<!-- 5&#45;&gt;7 -->\r\n",
       "<g id=\"edge7\" class=\"edge\"><title>5&#45;&gt;7</title>\r\n",
       "<path fill=\"none\" stroke=\"black\" d=\"M123.97,-222.907C132.431,-213.742 141.491,-203.927 150.202,-194.489\"/>\r\n",
       "<polygon fill=\"black\" stroke=\"black\" points=\"152.885,-196.743 157.096,-187.021 147.742,-191.995 152.885,-196.743\"/>\r\n",
       "</g>\r\n",
       "<!-- 8 -->\r\n",
       "<g id=\"node9\" class=\"node\"><title>8</title>\r\n",
       "<polygon fill=\"#399de5\" stroke=\"black\" points=\"205.5,-68 107.5,-68 107.5,-0 205.5,-0 205.5,-68\"/>\r\n",
       "<text text-anchor=\"middle\" x=\"156.5\" y=\"-52.8\" font-family=\"Times New Roman,serif\" font-size=\"14.00\">gini = 0.0</text>\r\n",
       "<text text-anchor=\"middle\" x=\"156.5\" y=\"-37.8\" font-family=\"Times New Roman,serif\" font-size=\"14.00\">samples = 68</text>\r\n",
       "<text text-anchor=\"middle\" x=\"156.5\" y=\"-22.8\" font-family=\"Times New Roman,serif\" font-size=\"14.00\">value = [0, 68]</text>\r\n",
       "<text text-anchor=\"middle\" x=\"156.5\" y=\"-7.8\" font-family=\"Times New Roman,serif\" font-size=\"14.00\">class = p</text>\r\n",
       "</g>\r\n",
       "<!-- 7&#45;&gt;8 -->\r\n",
       "<g id=\"edge8\" class=\"edge\"><title>7&#45;&gt;8</title>\r\n",
       "<path fill=\"none\" stroke=\"black\" d=\"M180.35,-103.726C177.438,-95.3351 174.363,-86.4745 171.425,-78.0072\"/>\r\n",
       "<polygon fill=\"black\" stroke=\"black\" points=\"174.641,-76.5994 168.056,-68.2996 168.028,-78.8944 174.641,-76.5994\"/>\r\n",
       "</g>\r\n",
       "<!-- 9 -->\r\n",
       "<g id=\"node10\" class=\"node\"><title>9</title>\r\n",
       "<polygon fill=\"#e58139\" stroke=\"black\" points=\"321.5,-68 223.5,-68 223.5,-0 321.5,-0 321.5,-68\"/>\r\n",
       "<text text-anchor=\"middle\" x=\"272.5\" y=\"-52.8\" font-family=\"Times New Roman,serif\" font-size=\"14.00\">gini = 0.0</text>\r\n",
       "<text text-anchor=\"middle\" x=\"272.5\" y=\"-37.8\" font-family=\"Times New Roman,serif\" font-size=\"14.00\">samples = 18</text>\r\n",
       "<text text-anchor=\"middle\" x=\"272.5\" y=\"-22.8\" font-family=\"Times New Roman,serif\" font-size=\"14.00\">value = [18, 0]</text>\r\n",
       "<text text-anchor=\"middle\" x=\"272.5\" y=\"-7.8\" font-family=\"Times New Roman,serif\" font-size=\"14.00\">class = e</text>\r\n",
       "</g>\r\n",
       "<!-- 7&#45;&gt;9 -->\r\n",
       "<g id=\"edge9\" class=\"edge\"><title>7&#45;&gt;9</title>\r\n",
       "<path fill=\"none\" stroke=\"black\" d=\"M223.544,-103.726C229.846,-94.879 236.52,-85.51 242.846,-76.6303\"/>\r\n",
       "<polygon fill=\"black\" stroke=\"black\" points=\"245.829,-78.4751 248.78,-68.2996 240.127,-74.4138 245.829,-78.4751\"/>\r\n",
       "</g>\r\n",
       "<!-- 14 -->\r\n",
       "<g id=\"node15\" class=\"node\"><title>14</title>\r\n",
       "<polygon fill=\"#e58139\" stroke=\"black\" points=\"404.5,-536.5 300.5,-536.5 300.5,-468.5 404.5,-468.5 404.5,-536.5\"/>\r\n",
       "<text text-anchor=\"middle\" x=\"352.5\" y=\"-521.3\" font-family=\"Times New Roman,serif\" font-size=\"14.00\">gini = 0.0</text>\r\n",
       "<text text-anchor=\"middle\" x=\"352.5\" y=\"-506.3\" font-family=\"Times New Roman,serif\" font-size=\"14.00\">samples = 369</text>\r\n",
       "<text text-anchor=\"middle\" x=\"352.5\" y=\"-491.3\" font-family=\"Times New Roman,serif\" font-size=\"14.00\">value = [369, 0]</text>\r\n",
       "<text text-anchor=\"middle\" x=\"352.5\" y=\"-476.3\" font-family=\"Times New Roman,serif\" font-size=\"14.00\">class = e</text>\r\n",
       "</g>\r\n",
       "<!-- 13&#45;&gt;14 -->\r\n",
       "<g id=\"edge14\" class=\"edge\"><title>13&#45;&gt;14</title>\r\n",
       "<path fill=\"none\" stroke=\"black\" d=\"M383.194,-579.907C378.805,-568.983 374.047,-557.137 369.616,-546.107\"/>\r\n",
       "<polygon fill=\"black\" stroke=\"black\" points=\"372.799,-544.642 365.823,-536.667 366.303,-547.251 372.799,-544.642\"/>\r\n",
       "</g>\r\n",
       "<!-- 15 -->\r\n",
       "<g id=\"node16\" class=\"node\"><title>15</title>\r\n",
       "<polygon fill=\"#399de5\" stroke=\"black\" points=\"520.5,-536.5 422.5,-536.5 422.5,-468.5 520.5,-468.5 520.5,-536.5\"/>\r\n",
       "<text text-anchor=\"middle\" x=\"471.5\" y=\"-521.3\" font-family=\"Times New Roman,serif\" font-size=\"14.00\">gini = 0.0</text>\r\n",
       "<text text-anchor=\"middle\" x=\"471.5\" y=\"-506.3\" font-family=\"Times New Roman,serif\" font-size=\"14.00\">samples = 26</text>\r\n",
       "<text text-anchor=\"middle\" x=\"471.5\" y=\"-491.3\" font-family=\"Times New Roman,serif\" font-size=\"14.00\">value = [0, 26]</text>\r\n",
       "<text text-anchor=\"middle\" x=\"471.5\" y=\"-476.3\" font-family=\"Times New Roman,serif\" font-size=\"14.00\">class = p</text>\r\n",
       "</g>\r\n",
       "<!-- 13&#45;&gt;15 -->\r\n",
       "<g id=\"edge15\" class=\"edge\"><title>13&#45;&gt;15</title>\r\n",
       "<path fill=\"none\" stroke=\"black\" d=\"M424.48,-579.907C431.338,-568.763 438.787,-556.658 445.691,-545.439\"/>\r\n",
       "<polygon fill=\"black\" stroke=\"black\" points=\"448.829,-547.018 451.09,-536.667 442.868,-543.349 448.829,-547.018\"/>\r\n",
       "</g>\r\n",
       "<!-- 17 -->\r\n",
       "<g id=\"node18\" class=\"node\"><title>17</title>\r\n",
       "<polygon fill=\"#e5833c\" stroke=\"black\" points=\"710.5,-663 504.5,-663 504.5,-580 710.5,-580 710.5,-663\"/>\r\n",
       "<text text-anchor=\"middle\" x=\"607.5\" y=\"-647.8\" font-family=\"Times New Roman,serif\" font-size=\"14.00\">stalk&#45;surface&#45;below&#45;ring_y &lt;= 0.5</text>\r\n",
       "<text text-anchor=\"middle\" x=\"607.5\" y=\"-632.8\" font-family=\"Times New Roman,serif\" font-size=\"14.00\">gini = 0.028</text>\r\n",
       "<text text-anchor=\"middle\" x=\"607.5\" y=\"-617.8\" font-family=\"Times New Roman,serif\" font-size=\"14.00\">samples = 2418</text>\r\n",
       "<text text-anchor=\"middle\" x=\"607.5\" y=\"-602.8\" font-family=\"Times New Roman,serif\" font-size=\"14.00\">value = [2384, 34]</text>\r\n",
       "<text text-anchor=\"middle\" x=\"607.5\" y=\"-587.8\" font-family=\"Times New Roman,serif\" font-size=\"14.00\">class = e</text>\r\n",
       "</g>\r\n",
       "<!-- 16&#45;&gt;17 -->\r\n",
       "<g id=\"edge17\" class=\"edge\"><title>16&#45;&gt;17</title>\r\n",
       "<path fill=\"none\" stroke=\"black\" d=\"M607.5,-698.907C607.5,-690.649 607.5,-681.864 607.5,-673.302\"/>\r\n",
       "<polygon fill=\"black\" stroke=\"black\" points=\"611,-673.021 607.5,-663.021 604,-673.021 611,-673.021\"/>\r\n",
       "</g>\r\n",
       "<!-- 30 -->\r\n",
       "<g id=\"node31\" class=\"node\"><title>30</title>\r\n",
       "<polygon fill=\"#399de5\" stroke=\"black\" points=\"826.5,-655.5 728.5,-655.5 728.5,-587.5 826.5,-587.5 826.5,-655.5\"/>\r\n",
       "<text text-anchor=\"middle\" x=\"777.5\" y=\"-640.3\" font-family=\"Times New Roman,serif\" font-size=\"14.00\">gini = 0.0</text>\r\n",
       "<text text-anchor=\"middle\" x=\"777.5\" y=\"-625.3\" font-family=\"Times New Roman,serif\" font-size=\"14.00\">samples = 54</text>\r\n",
       "<text text-anchor=\"middle\" x=\"777.5\" y=\"-610.3\" font-family=\"Times New Roman,serif\" font-size=\"14.00\">value = [0, 54]</text>\r\n",
       "<text text-anchor=\"middle\" x=\"777.5\" y=\"-595.3\" font-family=\"Times New Roman,serif\" font-size=\"14.00\">class = p</text>\r\n",
       "</g>\r\n",
       "<!-- 16&#45;&gt;30 -->\r\n",
       "<g id=\"edge30\" class=\"edge\"><title>16&#45;&gt;30</title>\r\n",
       "<path fill=\"none\" stroke=\"black\" d=\"M667.157,-698.92C684.098,-687.351 702.546,-674.709 719.5,-663 720.252,-662.481 721.008,-661.958 721.77,-661.431\"/>\r\n",
       "<polygon fill=\"black\" stroke=\"black\" points=\"723.824,-664.266 730.049,-655.693 719.836,-658.513 723.824,-664.266\"/>\r\n",
       "</g>\r\n",
       "<!-- 18 -->\r\n",
       "<g id=\"node19\" class=\"node\"><title>18</title>\r\n",
       "<polygon fill=\"#e5813a\" stroke=\"black\" points=\"676,-544 539,-544 539,-461 676,-461 676,-544\"/>\r\n",
       "<text text-anchor=\"middle\" x=\"607.5\" y=\"-528.8\" font-family=\"Times New Roman,serif\" font-size=\"14.00\">cap&#45;surface_g &lt;= 0.5</text>\r\n",
       "<text text-anchor=\"middle\" x=\"607.5\" y=\"-513.8\" font-family=\"Times New Roman,serif\" font-size=\"14.00\">gini = 0.005</text>\r\n",
       "<text text-anchor=\"middle\" x=\"607.5\" y=\"-498.8\" font-family=\"Times New Roman,serif\" font-size=\"14.00\">samples = 2378</text>\r\n",
       "<text text-anchor=\"middle\" x=\"607.5\" y=\"-483.8\" font-family=\"Times New Roman,serif\" font-size=\"14.00\">value = [2372, 6]</text>\r\n",
       "<text text-anchor=\"middle\" x=\"607.5\" y=\"-468.8\" font-family=\"Times New Roman,serif\" font-size=\"14.00\">class = e</text>\r\n",
       "</g>\r\n",
       "<!-- 17&#45;&gt;18 -->\r\n",
       "<g id=\"edge18\" class=\"edge\"><title>17&#45;&gt;18</title>\r\n",
       "<path fill=\"none\" stroke=\"black\" d=\"M607.5,-579.907C607.5,-571.649 607.5,-562.864 607.5,-554.302\"/>\r\n",
       "<polygon fill=\"black\" stroke=\"black\" points=\"611,-554.021 607.5,-544.021 604,-554.021 611,-554.021\"/>\r\n",
       "</g>\r\n",
       "<!-- 27 -->\r\n",
       "<g id=\"node28\" class=\"node\"><title>27</title>\r\n",
       "<polygon fill=\"#8ec7f0\" stroke=\"black\" points=\"825,-544 694,-544 694,-461 825,-461 825,-544\"/>\r\n",
       "<text text-anchor=\"middle\" x=\"759.5\" y=\"-528.8\" font-family=\"Times New Roman,serif\" font-size=\"14.00\">population_y &lt;= 0.5</text>\r\n",
       "<text text-anchor=\"middle\" x=\"759.5\" y=\"-513.8\" font-family=\"Times New Roman,serif\" font-size=\"14.00\">gini = 0.42</text>\r\n",
       "<text text-anchor=\"middle\" x=\"759.5\" y=\"-498.8\" font-family=\"Times New Roman,serif\" font-size=\"14.00\">samples = 40</text>\r\n",
       "<text text-anchor=\"middle\" x=\"759.5\" y=\"-483.8\" font-family=\"Times New Roman,serif\" font-size=\"14.00\">value = [12, 28]</text>\r\n",
       "<text text-anchor=\"middle\" x=\"759.5\" y=\"-468.8\" font-family=\"Times New Roman,serif\" font-size=\"14.00\">class = p</text>\r\n",
       "</g>\r\n",
       "<!-- 17&#45;&gt;27 -->\r\n",
       "<g id=\"edge27\" class=\"edge\"><title>17&#45;&gt;27</title>\r\n",
       "<path fill=\"none\" stroke=\"black\" d=\"M660.236,-579.907C672.615,-570.379 685.906,-560.148 698.61,-550.37\"/>\r\n",
       "<polygon fill=\"black\" stroke=\"black\" points=\"701.068,-552.894 706.858,-544.021 696.798,-547.347 701.068,-552.894\"/>\r\n",
       "</g>\r\n",
       "<!-- 19 -->\r\n",
       "<g id=\"node20\" class=\"node\"><title>19</title>\r\n",
       "<polygon fill=\"#e58139\" stroke=\"black\" points=\"554,-425 425,-425 425,-342 554,-342 554,-425\"/>\r\n",
       "<text text-anchor=\"middle\" x=\"489.5\" y=\"-409.8\" font-family=\"Times New Roman,serif\" font-size=\"14.00\">cap&#45;shape_c &lt;= 0.5</text>\r\n",
       "<text text-anchor=\"middle\" x=\"489.5\" y=\"-394.8\" font-family=\"Times New Roman,serif\" font-size=\"14.00\">gini = 0.003</text>\r\n",
       "<text text-anchor=\"middle\" x=\"489.5\" y=\"-379.8\" font-family=\"Times New Roman,serif\" font-size=\"14.00\">samples = 2375</text>\r\n",
       "<text text-anchor=\"middle\" x=\"489.5\" y=\"-364.8\" font-family=\"Times New Roman,serif\" font-size=\"14.00\">value = [2372, 3]</text>\r\n",
       "<text text-anchor=\"middle\" x=\"489.5\" y=\"-349.8\" font-family=\"Times New Roman,serif\" font-size=\"14.00\">class = e</text>\r\n",
       "</g>\r\n",
       "<!-- 18&#45;&gt;19 -->\r\n",
       "<g id=\"edge19\" class=\"edge\"><title>18&#45;&gt;19</title>\r\n",
       "<path fill=\"none\" stroke=\"black\" d=\"M566.56,-460.907C557.225,-451.651 547.221,-441.732 537.617,-432.209\"/>\r\n",
       "<polygon fill=\"black\" stroke=\"black\" points=\"539.933,-429.576 530.367,-425.021 535.004,-434.547 539.933,-429.576\"/>\r\n",
       "</g>\r\n",
       "<!-- 26 -->\r\n",
       "<g id=\"node27\" class=\"node\"><title>26</title>\r\n",
       "<polygon fill=\"#399de5\" stroke=\"black\" points=\"663,-417.5 572,-417.5 572,-349.5 663,-349.5 663,-417.5\"/>\r\n",
       "<text text-anchor=\"middle\" x=\"617.5\" y=\"-402.3\" font-family=\"Times New Roman,serif\" font-size=\"14.00\">gini = 0.0</text>\r\n",
       "<text text-anchor=\"middle\" x=\"617.5\" y=\"-387.3\" font-family=\"Times New Roman,serif\" font-size=\"14.00\">samples = 3</text>\r\n",
       "<text text-anchor=\"middle\" x=\"617.5\" y=\"-372.3\" font-family=\"Times New Roman,serif\" font-size=\"14.00\">value = [0, 3]</text>\r\n",
       "<text text-anchor=\"middle\" x=\"617.5\" y=\"-357.3\" font-family=\"Times New Roman,serif\" font-size=\"14.00\">class = p</text>\r\n",
       "</g>\r\n",
       "<!-- 18&#45;&gt;26 -->\r\n",
       "<g id=\"edge26\" class=\"edge\"><title>18&#45;&gt;26</title>\r\n",
       "<path fill=\"none\" stroke=\"black\" d=\"M610.969,-460.907C611.884,-450.204 612.875,-438.615 613.801,-427.776\"/>\r\n",
       "<polygon fill=\"black\" stroke=\"black\" points=\"617.301,-427.929 614.665,-417.667 610.326,-427.333 617.301,-427.929\"/>\r\n",
       "</g>\r\n",
       "<!-- 20 -->\r\n",
       "<g id=\"node21\" class=\"node\"><title>20</title>\r\n",
       "<polygon fill=\"#e58139\" stroke=\"black\" points=\"483,-306 370,-306 370,-223 483,-223 483,-306\"/>\r\n",
       "<text text-anchor=\"middle\" x=\"426.5\" y=\"-290.8\" font-family=\"Times New Roman,serif\" font-size=\"14.00\">gill&#45;size_n &lt;= 0.5</text>\r\n",
       "<text text-anchor=\"middle\" x=\"426.5\" y=\"-275.8\" font-family=\"Times New Roman,serif\" font-size=\"14.00\">gini = 0.002</text>\r\n",
       "<text text-anchor=\"middle\" x=\"426.5\" y=\"-260.8\" font-family=\"Times New Roman,serif\" font-size=\"14.00\">samples = 2374</text>\r\n",
       "<text text-anchor=\"middle\" x=\"426.5\" y=\"-245.8\" font-family=\"Times New Roman,serif\" font-size=\"14.00\">value = [2372, 2]</text>\r\n",
       "<text text-anchor=\"middle\" x=\"426.5\" y=\"-230.8\" font-family=\"Times New Roman,serif\" font-size=\"14.00\">class = e</text>\r\n",
       "</g>\r\n",
       "<!-- 19&#45;&gt;20 -->\r\n",
       "<g id=\"edge20\" class=\"edge\"><title>19&#45;&gt;20</title>\r\n",
       "<path fill=\"none\" stroke=\"black\" d=\"M467.642,-341.907C462.951,-333.195 457.944,-323.897 453.096,-314.893\"/>\r\n",
       "<polygon fill=\"black\" stroke=\"black\" points=\"456.142,-313.166 448.319,-306.021 449.978,-316.485 456.142,-313.166\"/>\r\n",
       "</g>\r\n",
       "<!-- 25 -->\r\n",
       "<g id=\"node26\" class=\"node\"><title>25</title>\r\n",
       "<polygon fill=\"#399de5\" stroke=\"black\" points=\"592,-298.5 501,-298.5 501,-230.5 592,-230.5 592,-298.5\"/>\r\n",
       "<text text-anchor=\"middle\" x=\"546.5\" y=\"-283.3\" font-family=\"Times New Roman,serif\" font-size=\"14.00\">gini = 0.0</text>\r\n",
       "<text text-anchor=\"middle\" x=\"546.5\" y=\"-268.3\" font-family=\"Times New Roman,serif\" font-size=\"14.00\">samples = 1</text>\r\n",
       "<text text-anchor=\"middle\" x=\"546.5\" y=\"-253.3\" font-family=\"Times New Roman,serif\" font-size=\"14.00\">value = [0, 1]</text>\r\n",
       "<text text-anchor=\"middle\" x=\"546.5\" y=\"-238.3\" font-family=\"Times New Roman,serif\" font-size=\"14.00\">class = p</text>\r\n",
       "</g>\r\n",
       "<!-- 19&#45;&gt;25 -->\r\n",
       "<g id=\"edge25\" class=\"edge\"><title>19&#45;&gt;25</title>\r\n",
       "<path fill=\"none\" stroke=\"black\" d=\"M509.276,-341.907C514.652,-330.873 520.486,-318.898 525.906,-307.773\"/>\r\n",
       "<polygon fill=\"black\" stroke=\"black\" points=\"529.108,-309.19 530.342,-298.667 522.816,-306.124 529.108,-309.19\"/>\r\n",
       "</g>\r\n",
       "<!-- 21 -->\r\n",
       "<g id=\"node22\" class=\"node\"><title>21</title>\r\n",
       "<polygon fill=\"#e58139\" stroke=\"black\" points=\"425,-179.5 314,-179.5 314,-111.5 425,-111.5 425,-179.5\"/>\r\n",
       "<text text-anchor=\"middle\" x=\"369.5\" y=\"-164.3\" font-family=\"Times New Roman,serif\" font-size=\"14.00\">gini = 0.0</text>\r\n",
       "<text text-anchor=\"middle\" x=\"369.5\" y=\"-149.3\" font-family=\"Times New Roman,serif\" font-size=\"14.00\">samples = 2237</text>\r\n",
       "<text text-anchor=\"middle\" x=\"369.5\" y=\"-134.3\" font-family=\"Times New Roman,serif\" font-size=\"14.00\">value = [2237, 0]</text>\r\n",
       "<text text-anchor=\"middle\" x=\"369.5\" y=\"-119.3\" font-family=\"Times New Roman,serif\" font-size=\"14.00\">class = e</text>\r\n",
       "</g>\r\n",
       "<!-- 20&#45;&gt;21 -->\r\n",
       "<g id=\"edge21\" class=\"edge\"><title>20&#45;&gt;21</title>\r\n",
       "<path fill=\"none\" stroke=\"black\" d=\"M406.724,-222.907C401.348,-211.873 395.514,-199.898 390.094,-188.773\"/>\r\n",
       "<polygon fill=\"black\" stroke=\"black\" points=\"393.184,-187.124 385.658,-179.667 386.892,-190.19 393.184,-187.124\"/>\r\n",
       "</g>\r\n",
       "<!-- 22 -->\r\n",
       "<g id=\"node23\" class=\"node\"><title>22</title>\r\n",
       "<polygon fill=\"#e5833c\" stroke=\"black\" points=\"574,-187 443,-187 443,-104 574,-104 574,-187\"/>\r\n",
       "<text text-anchor=\"middle\" x=\"508.5\" y=\"-171.8\" font-family=\"Times New Roman,serif\" font-size=\"14.00\">population_c &lt;= 0.5</text>\r\n",
       "<text text-anchor=\"middle\" x=\"508.5\" y=\"-156.8\" font-family=\"Times New Roman,serif\" font-size=\"14.00\">gini = 0.029</text>\r\n",
       "<text text-anchor=\"middle\" x=\"508.5\" y=\"-141.8\" font-family=\"Times New Roman,serif\" font-size=\"14.00\">samples = 137</text>\r\n",
       "<text text-anchor=\"middle\" x=\"508.5\" y=\"-126.8\" font-family=\"Times New Roman,serif\" font-size=\"14.00\">value = [135, 2]</text>\r\n",
       "<text text-anchor=\"middle\" x=\"508.5\" y=\"-111.8\" font-family=\"Times New Roman,serif\" font-size=\"14.00\">class = e</text>\r\n",
       "</g>\r\n",
       "<!-- 20&#45;&gt;22 -->\r\n",
       "<g id=\"edge22\" class=\"edge\"><title>20&#45;&gt;22</title>\r\n",
       "<path fill=\"none\" stroke=\"black\" d=\"M454.949,-222.907C461.183,-214.014 467.844,-204.509 474.277,-195.331\"/>\r\n",
       "<polygon fill=\"black\" stroke=\"black\" points=\"477.228,-197.219 480.101,-187.021 471.495,-193.201 477.228,-197.219\"/>\r\n",
       "</g>\r\n",
       "<!-- 23 -->\r\n",
       "<g id=\"node24\" class=\"node\"><title>23</title>\r\n",
       "<polygon fill=\"#e58139\" stroke=\"black\" points=\"482.5,-68 378.5,-68 378.5,-0 482.5,-0 482.5,-68\"/>\r\n",
       "<text text-anchor=\"middle\" x=\"430.5\" y=\"-52.8\" font-family=\"Times New Roman,serif\" font-size=\"14.00\">gini = 0.0</text>\r\n",
       "<text text-anchor=\"middle\" x=\"430.5\" y=\"-37.8\" font-family=\"Times New Roman,serif\" font-size=\"14.00\">samples = 135</text>\r\n",
       "<text text-anchor=\"middle\" x=\"430.5\" y=\"-22.8\" font-family=\"Times New Roman,serif\" font-size=\"14.00\">value = [135, 0]</text>\r\n",
       "<text text-anchor=\"middle\" x=\"430.5\" y=\"-7.8\" font-family=\"Times New Roman,serif\" font-size=\"14.00\">class = e</text>\r\n",
       "</g>\r\n",
       "<!-- 22&#45;&gt;23 -->\r\n",
       "<g id=\"edge23\" class=\"edge\"><title>22&#45;&gt;23</title>\r\n",
       "<path fill=\"none\" stroke=\"black\" d=\"M479.456,-103.726C473.154,-94.879 466.48,-85.51 460.154,-76.6303\"/>\r\n",
       "<polygon fill=\"black\" stroke=\"black\" points=\"462.873,-74.4138 454.22,-68.2996 457.171,-78.4751 462.873,-74.4138\"/>\r\n",
       "</g>\r\n",
       "<!-- 24 -->\r\n",
       "<g id=\"node25\" class=\"node\"><title>24</title>\r\n",
       "<polygon fill=\"#399de5\" stroke=\"black\" points=\"592,-68 501,-68 501,-0 592,-0 592,-68\"/>\r\n",
       "<text text-anchor=\"middle\" x=\"546.5\" y=\"-52.8\" font-family=\"Times New Roman,serif\" font-size=\"14.00\">gini = 0.0</text>\r\n",
       "<text text-anchor=\"middle\" x=\"546.5\" y=\"-37.8\" font-family=\"Times New Roman,serif\" font-size=\"14.00\">samples = 2</text>\r\n",
       "<text text-anchor=\"middle\" x=\"546.5\" y=\"-22.8\" font-family=\"Times New Roman,serif\" font-size=\"14.00\">value = [0, 2]</text>\r\n",
       "<text text-anchor=\"middle\" x=\"546.5\" y=\"-7.8\" font-family=\"Times New Roman,serif\" font-size=\"14.00\">class = p</text>\r\n",
       "</g>\r\n",
       "<!-- 22&#45;&gt;24 -->\r\n",
       "<g id=\"edge24\" class=\"edge\"><title>22&#45;&gt;24</title>\r\n",
       "<path fill=\"none\" stroke=\"black\" d=\"M522.65,-103.726C525.562,-95.3351 528.637,-86.4745 531.575,-78.0072\"/>\r\n",
       "<polygon fill=\"black\" stroke=\"black\" points=\"534.972,-78.8944 534.944,-68.2996 528.359,-76.5994 534.972,-78.8944\"/>\r\n",
       "</g>\r\n",
       "<!-- 28 -->\r\n",
       "<g id=\"node29\" class=\"node\"><title>28</title>\r\n",
       "<polygon fill=\"#399de5\" stroke=\"black\" points=\"798.5,-417.5 700.5,-417.5 700.5,-349.5 798.5,-349.5 798.5,-417.5\"/>\r\n",
       "<text text-anchor=\"middle\" x=\"749.5\" y=\"-402.3\" font-family=\"Times New Roman,serif\" font-size=\"14.00\">gini = 0.0</text>\r\n",
       "<text text-anchor=\"middle\" x=\"749.5\" y=\"-387.3\" font-family=\"Times New Roman,serif\" font-size=\"14.00\">samples = 28</text>\r\n",
       "<text text-anchor=\"middle\" x=\"749.5\" y=\"-372.3\" font-family=\"Times New Roman,serif\" font-size=\"14.00\">value = [0, 28]</text>\r\n",
       "<text text-anchor=\"middle\" x=\"749.5\" y=\"-357.3\" font-family=\"Times New Roman,serif\" font-size=\"14.00\">class = p</text>\r\n",
       "</g>\r\n",
       "<!-- 27&#45;&gt;28 -->\r\n",
       "<g id=\"edge28\" class=\"edge\"><title>27&#45;&gt;28</title>\r\n",
       "<path fill=\"none\" stroke=\"black\" d=\"M756.031,-460.907C755.116,-450.204 754.125,-438.615 753.199,-427.776\"/>\r\n",
       "<polygon fill=\"black\" stroke=\"black\" points=\"756.674,-427.333 752.335,-417.667 749.699,-427.929 756.674,-427.333\"/>\r\n",
       "</g>\r\n",
       "<!-- 29 -->\r\n",
       "<g id=\"node30\" class=\"node\"><title>29</title>\r\n",
       "<polygon fill=\"#e58139\" stroke=\"black\" points=\"914.5,-417.5 816.5,-417.5 816.5,-349.5 914.5,-349.5 914.5,-417.5\"/>\r\n",
       "<text text-anchor=\"middle\" x=\"865.5\" y=\"-402.3\" font-family=\"Times New Roman,serif\" font-size=\"14.00\">gini = 0.0</text>\r\n",
       "<text text-anchor=\"middle\" x=\"865.5\" y=\"-387.3\" font-family=\"Times New Roman,serif\" font-size=\"14.00\">samples = 12</text>\r\n",
       "<text text-anchor=\"middle\" x=\"865.5\" y=\"-372.3\" font-family=\"Times New Roman,serif\" font-size=\"14.00\">value = [12, 0]</text>\r\n",
       "<text text-anchor=\"middle\" x=\"865.5\" y=\"-357.3\" font-family=\"Times New Roman,serif\" font-size=\"14.00\">class = e</text>\r\n",
       "</g>\r\n",
       "<!-- 27&#45;&gt;29 -->\r\n",
       "<g id=\"edge29\" class=\"edge\"><title>27&#45;&gt;29</title>\r\n",
       "<path fill=\"none\" stroke=\"black\" d=\"M796.276,-460.907C806.773,-449.321 818.21,-436.698 828.708,-425.111\"/>\r\n",
       "<polygon fill=\"black\" stroke=\"black\" points=\"831.331,-427.428 835.451,-417.667 826.143,-422.728 831.331,-427.428\"/>\r\n",
       "</g>\r\n",
       "</g>\r\n",
       "</svg>\r\n"
      ],
      "text/plain": [
       "<graphviz.files.Source at 0x23f813be820>"
      ]
     },
     "execution_count": 73,
     "metadata": {},
     "output_type": "execute_result"
    }
   ],
   "source": [
    "import graphviz\n",
    "tree = export_graphviz(model,\n",
    "                      feature_names=X.columns,\n",
    "                      class_names=model.classes_,\n",
    "                      filled=True)\n",
    "graphviz.Source(tree)\n"
   ]
  },
  {
   "cell_type": "code",
   "execution_count": 45,
   "metadata": {},
   "outputs": [
    {
     "data": {
      "text/plain": [
       "'test.png'"
      ]
     },
     "execution_count": 45,
     "metadata": {},
     "output_type": "execute_result"
    }
   ],
   "source": [
    "file = graphviz.Source(tree)\n",
    "file.render(filename = 'test', format='png')"
   ]
  },
  {
   "cell_type": "code",
   "execution_count": 37,
   "metadata": {},
   "outputs": [
    {
     "data": {
      "text/plain": [
       "<sklearn.metrics._plot.confusion_matrix.ConfusionMatrixDisplay at 0x23ffd46e490>"
      ]
     },
     "execution_count": 37,
     "metadata": {},
     "output_type": "execute_result"
    },
    {
     "data": {
      "image/png": "[encoded data removed]",
      "text/plain": [
       "<Figure size 432x288 with 2 Axes>"
      ]
     },
     "metadata": {
      "needs_background": "light"
     },
     "output_type": "display_data"
    }
   ],
   "source": [
    "plot_confusion_matrix(model, X_test, y_test)"
   ]
  },
  {
   "cell_type": "code",
   "execution_count": 75,
   "metadata": {},
   "outputs": [
    {
     "data": {
      "text/plain": [
       "<sklearn.metrics._plot.confusion_matrix.ConfusionMatrixDisplay at 0x23f813bc160>"
      ]
     },
     "execution_count": 75,
     "metadata": {},
     "output_type": "execute_result"
    },
    {
     "data": {
      "image/png": "[encoded data removed]",
      "text/plain": [
       "<Figure size 432x288 with 2 Axes>"
      ]
     },
     "metadata": {
      "needs_background": "light"
     },
     "output_type": "display_data"
    }
   ],
   "source": [
    "model = AdaBoostClassifier()\n",
    "model.fit(X_train, y_train)\n",
    "plot_confusion_matrix(model, X_test, y_test)"
   ]
  },
  {
   "cell_type": "code",
   "execution_count": 76,
   "metadata": {},
   "outputs": [
    {
     "data": {
      "text/plain": [
       "<sklearn.metrics._plot.confusion_matrix.ConfusionMatrixDisplay at 0x23f81a32850>"
      ]
     },
     "execution_count": 76,
     "metadata": {},
     "output_type": "execute_result"
    },
    {
     "data": {
      "image/png": "[encoded data removed]",
      "text/plain": [
       "<Figure size 432x288 with 2 Axes>"
      ]
     },
     "metadata": {
      "needs_background": "light"
     },
     "output_type": "display_data"
    }
   ],
   "source": [
    "model = RandomForestClassifier()\n",
    "model.fit(X_train, y_train)\n",
    "plot_confusion_matrix(model, X_test, y_test)"
   ]
  },
  {
   "cell_type": "code",
   "execution_count": 81,
   "metadata": {},
   "outputs": [
    {
     "data": {
      "text/plain": [
       "<sklearn.metrics._plot.confusion_matrix.ConfusionMatrixDisplay at 0x23f81a658b0>"
      ]
     },
     "execution_count": 81,
     "metadata": {},
     "output_type": "execute_result"
    },
    {
     "data": {
      "image/png": "[encoded data removed]",
      "text/plain": [
       "<Figure size 432x288 with 2 Axes>"
      ]
     },
     "metadata": {
      "needs_background": "light"
     },
     "output_type": "display_data"
    }
   ],
   "source": [
    "model = DecisionTreeClassifier(max_depth=4, max_features=30)\n",
    "model.fit(X_train, y_train)\n",
    "plot_confusion_matrix(model, X_test, y_test)"
   ]
  },
  {
   "cell_type": "code",
   "execution_count": null,
   "metadata": {},
   "outputs": [],
   "source": []
  },
  {
   "cell_type": "code",
   "execution_count": null,
   "metadata": {},
   "outputs": [],
   "source": []
  }
 ],
 "metadata": {
  "anaconda-cloud": {},
  "colab": {
   "collapsed_sections": [
    "_qDPKA2afOz4"
   ],
   "name": "Lab 5.2-Mycology.ipynb",
   "provenance": []
  },
  "kernelspec": {
   "display_name": "Python 3",
   "language": "python",
   "name": "python3"
  },
  "language_info": {
   "codemirror_mode": {
    "name": "ipython",
    "version": 3
   },
   "file_extension": ".py",
   "mimetype": "text/x-python",
   "name": "python",
   "nbconvert_exporter": "python",
   "pygments_lexer": "ipython3",
   "version": "3.8.8"
  },
  "toc": {
   "colors": {
    "hover_highlight": "#DAA520",
    "running_highlight": "#FF0000",
    "selected_highlight": "#FFD700"
   },
   "moveMenuLeft": true,
   "nav_menu": {
    "height": "58px",
    "width": "252px"
   },
   "navigate_menu": true,
   "number_sections": true,
   "sideBar": true,
   "threshold": 4,
   "toc_cell": false,
   "toc_section_display": "block",
   "toc_window_display": false,
   "widenNotebook": false
  }
 },
 "nbformat": 4,
 "nbformat_minor": 1
}
