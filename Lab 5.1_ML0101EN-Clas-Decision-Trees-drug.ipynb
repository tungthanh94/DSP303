{
 "cells": [
  {
   "cell_type": "markdown",
   "metadata": {
    "button": false,
    "new_sheet": false,
    "run_control": {
     "read_only": false
    }
   },
   "source": [
    "<center>\n",
    "    <img src=\"https://cf-courses-data.s3.us.cloud-object-storage.appdomain.cloud/IBMDeveloperSkillsNetwork-ML0101EN-SkillsNetwork/labs/Module%203/images/IDSNlogo.png\" width=\"300\" alt=\"cognitiveclass.ai logo\"  />\n",
    "</center>\n",
    "\n",
    "# Decision Trees\n",
    "\n",
    "Estimated time needed: **15** minutes\n",
    "\n",
    "## Objectives\n",
    "\n",
    "After completing this lab you will be able to:\n",
    "\n",
    "*   Develop a classification model using Decision Tree Algorithm\n"
   ]
  },
  {
   "cell_type": "markdown",
   "metadata": {
    "button": false,
    "new_sheet": false,
    "run_control": {
     "read_only": false
    }
   },
   "source": [
    "In this lab exercise, you will learn a popular machine learning algorithm, Decision Trees. You will use this classification algorithm to build a model from the historical data of patients, and their response to different medications. Then you will use the trained decision tree to predict the class of a unknown patient, or to find a proper drug for a new patient.\n"
   ]
  },
  {
   "cell_type": "markdown",
   "metadata": {},
   "source": [
    "<h1>Table of contents</h1>\n",
    "\n",
    "<div class=\"alert alert-block alert-info\" style=\"margin-top: 20px\">\n",
    "    <ol>\n",
    "        <li><a href=\"#about_dataset\">About the dataset</a></li>\n",
    "        <li><a href=\"#downloading_data\">Downloading the Data</a></li>\n",
    "        <li><a href=\"#pre-processing\">Pre-processing</a></li>\n",
    "        <li><a href=\"#setting_up_tree\">Setting up the Decision Tree</a></li>\n",
    "        <li><a href=\"#modeling\">Modeling</a></li>\n",
    "        <li><a href=\"#prediction\">Prediction</a></li>\n",
    "        <li><a href=\"#evaluation\">Evaluation</a></li>\n",
    "        <li><a href=\"#visualization\">Visualization</a></li>\n",
    "    </ol>\n",
    "</div>\n",
    "<br>\n",
    "<hr>\n"
   ]
  },
  {
   "cell_type": "markdown",
   "metadata": {
    "button": false,
    "new_sheet": false,
    "run_control": {
     "read_only": false
    }
   },
   "source": [
    "Import the Following Libraries:\n",
    "\n",
    "<ul>\n",
    "    <li> <b>numpy (as np)</b> </li>\n",
    "    <li> <b>pandas</b> </li>\n",
    "    <li> <b>DecisionTreeClassifier</b> from <b>sklearn.tree</b> </li>\n",
    "</ul>\n"
   ]
  },
  {
   "cell_type": "code",
   "execution_count": 1,
   "metadata": {
    "button": false,
    "new_sheet": false,
    "run_control": {
     "read_only": false
    }
   },
   "outputs": [],
   "source": [
    "import numpy as np \n",
    "import pandas as pd\n",
    "from sklearn.tree import DecisionTreeClassifier"
   ]
  },
  {
   "cell_type": "markdown",
   "metadata": {
    "button": false,
    "new_sheet": false,
    "run_control": {
     "read_only": false
    }
   },
   "source": [
    "<div id=\"about_dataset\">\n",
    "    <h2>About the dataset</h2>\n",
    "    Imagine that you are a medical researcher compiling data for a study. You have collected data about a set of patients, all of whom suffered from the same illness. During their course of treatment, each patient responded to one of 5 medications, Drug A, Drug B, Drug c, Drug x and y. \n",
    "    <br>\n",
    "    <br>\n",
    "    Part of your job is to build a model to find out which drug might be appropriate for a future patient with the same illness. The features of this dataset are Age, Sex, Blood Pressure, and the Cholesterol of the patients, and the target is the drug that each patient responded to.\n",
    "    <br>\n",
    "    <br>\n",
    "    It is a sample of multiclass classifier, and you can use the training part of the dataset \n",
    "    to build a decision tree, and then use it to predict the class of a unknown patient, or to prescribe a drug to a new patient.\n",
    "</div>\n"
   ]
  },
  {
   "cell_type": "code",
   "execution_count": 2,
   "metadata": {
    "button": false,
    "new_sheet": false,
    "run_control": {
     "read_only": false
    }
   },
   "outputs": [
    {
     "data": {
      "text/html": [
       "<div>\n",
       "<style scoped>\n",
       "    .dataframe tbody tr th:only-of-type {\n",
       "        vertical-align: middle;\n",
       "    }\n",
       "\n",
       "    .dataframe tbody tr th {\n",
       "        vertical-align: top;\n",
       "    }\n",
       "\n",
       "    .dataframe thead th {\n",
       "        text-align: right;\n",
       "    }\n",
       "</style>\n",
       "<table border=\"1\" class=\"dataframe\">\n",
       "  <thead>\n",
       "    <tr style=\"text-align: right;\">\n",
       "      <th></th>\n",
       "      <th>Age</th>\n",
       "      <th>Sex</th>\n",
       "      <th>BP</th>\n",
       "      <th>Cholesterol</th>\n",
       "      <th>Na_to_K</th>\n",
       "      <th>Drug</th>\n",
       "    </tr>\n",
       "  </thead>\n",
       "  <tbody>\n",
       "    <tr>\n",
       "      <th>0</th>\n",
       "      <td>23</td>\n",
       "      <td>F</td>\n",
       "      <td>HIGH</td>\n",
       "      <td>HIGH</td>\n",
       "      <td>25.355</td>\n",
       "      <td>drugY</td>\n",
       "    </tr>\n",
       "    <tr>\n",
       "      <th>1</th>\n",
       "      <td>47</td>\n",
       "      <td>M</td>\n",
       "      <td>LOW</td>\n",
       "      <td>HIGH</td>\n",
       "      <td>13.093</td>\n",
       "      <td>drugC</td>\n",
       "    </tr>\n",
       "    <tr>\n",
       "      <th>2</th>\n",
       "      <td>47</td>\n",
       "      <td>M</td>\n",
       "      <td>LOW</td>\n",
       "      <td>HIGH</td>\n",
       "      <td>10.114</td>\n",
       "      <td>drugC</td>\n",
       "    </tr>\n",
       "    <tr>\n",
       "      <th>3</th>\n",
       "      <td>28</td>\n",
       "      <td>F</td>\n",
       "      <td>NORMAL</td>\n",
       "      <td>HIGH</td>\n",
       "      <td>7.798</td>\n",
       "      <td>drugX</td>\n",
       "    </tr>\n",
       "    <tr>\n",
       "      <th>4</th>\n",
       "      <td>61</td>\n",
       "      <td>F</td>\n",
       "      <td>LOW</td>\n",
       "      <td>HIGH</td>\n",
       "      <td>18.043</td>\n",
       "      <td>drugY</td>\n",
       "    </tr>\n",
       "  </tbody>\n",
       "</table>\n",
       "</div>"
      ],
      "text/plain": [
       "   Age Sex      BP Cholesterol  Na_to_K   Drug\n",
       "0   23   F    HIGH        HIGH   25.355  drugY\n",
       "1   47   M     LOW        HIGH   13.093  drugC\n",
       "2   47   M     LOW        HIGH   10.114  drugC\n",
       "3   28   F  NORMAL        HIGH    7.798  drugX\n",
       "4   61   F     LOW        HIGH   18.043  drugY"
      ]
     },
     "execution_count": 2,
     "metadata": {},
     "output_type": "execute_result"
    }
   ],
   "source": [
    "my_data = pd.read_csv(\"https://cf-courses-data.s3.us.cloud-object-storage.appdomain.cloud/IBMDeveloperSkillsNetwork-ML0101EN-SkillsNetwork/labs/Module%203/data/drug200.csv\", delimiter=\",\")\n",
    "my_data[0:5]"
   ]
  },
  {
   "cell_type": "markdown",
   "metadata": {
    "button": false,
    "new_sheet": false,
    "run_control": {
     "read_only": false
    }
   },
   "source": [
    "<div id=\"practice\"> \n",
    "    <h3>Practice</h3> \n",
    "    What is the size of data? \n",
    "</div>\n"
   ]
  },
  {
   "cell_type": "code",
   "execution_count": 3,
   "metadata": {
    "button": false,
    "new_sheet": false,
    "run_control": {
     "read_only": false
    }
   },
   "outputs": [
    {
     "data": {
      "text/plain": [
       "1200"
      ]
     },
     "execution_count": 3,
     "metadata": {},
     "output_type": "execute_result"
    }
   ],
   "source": [
    "# write your code here\n",
    "my_data.size\n",
    "\n"
   ]
  },
  {
   "cell_type": "code",
   "execution_count": 4,
   "metadata": {},
   "outputs": [
    {
     "data": {
      "text/plain": [
       "(200, 6)"
      ]
     },
     "execution_count": 4,
     "metadata": {},
     "output_type": "execute_result"
    }
   ],
   "source": [
    "my_data.shape"
   ]
  },
  {
   "cell_type": "markdown",
   "metadata": {},
   "source": [
    "<details><summary>Click here for the solution</summary>\n",
    "\n",
    "```python\n",
    "my_data.shape\n",
    "\n",
    "```\n",
    "\n",
    "</details>\n"
   ]
  },
  {
   "cell_type": "markdown",
   "metadata": {},
   "source": [
    "<div href=\"pre-processing\">\n",
    "    <h2>Pre-processing</h2>\n",
    "</div>\n"
   ]
  },
  {
   "cell_type": "markdown",
   "metadata": {
    "button": false,
    "new_sheet": false,
    "run_control": {
     "read_only": false
    }
   },
   "source": [
    "Using <b>my_data</b> as the Drug.csv data read by pandas, declare the following variables: <br>\n",
    "\n",
    "<ul>\n",
    "    <li> <b> X </b> as the <b> Feature Matrix </b> (data of my_data) </li>\n",
    "    <li> <b> y </b> as the <b> response vector </b> (target) </li>\n",
    "</ul>\n"
   ]
  },
  {
   "cell_type": "markdown",
   "metadata": {
    "button": false,
    "new_sheet": false,
    "run_control": {
     "read_only": false
    }
   },
   "source": [
    "Remove the column containing the target name since it doesn't contain numeric values.\n"
   ]
  },
  {
   "cell_type": "code",
   "execution_count": 3,
   "metadata": {},
   "outputs": [
    {
     "data": {
      "text/html": [
       "<div>\n",
       "<style scoped>\n",
       "    .dataframe tbody tr th:only-of-type {\n",
       "        vertical-align: middle;\n",
       "    }\n",
       "\n",
       "    .dataframe tbody tr th {\n",
       "        vertical-align: top;\n",
       "    }\n",
       "\n",
       "    .dataframe thead th {\n",
       "        text-align: right;\n",
       "    }\n",
       "</style>\n",
       "<table border=\"1\" class=\"dataframe\">\n",
       "  <thead>\n",
       "    <tr style=\"text-align: right;\">\n",
       "      <th></th>\n",
       "      <th>Age</th>\n",
       "      <th>Sex</th>\n",
       "      <th>BP</th>\n",
       "      <th>Cholesterol</th>\n",
       "      <th>Na_to_K</th>\n",
       "    </tr>\n",
       "  </thead>\n",
       "  <tbody>\n",
       "    <tr>\n",
       "      <th>0</th>\n",
       "      <td>23</td>\n",
       "      <td>F</td>\n",
       "      <td>HIGH</td>\n",
       "      <td>HIGH</td>\n",
       "      <td>25.355</td>\n",
       "    </tr>\n",
       "    <tr>\n",
       "      <th>1</th>\n",
       "      <td>47</td>\n",
       "      <td>M</td>\n",
       "      <td>LOW</td>\n",
       "      <td>HIGH</td>\n",
       "      <td>13.093</td>\n",
       "    </tr>\n",
       "    <tr>\n",
       "      <th>2</th>\n",
       "      <td>47</td>\n",
       "      <td>M</td>\n",
       "      <td>LOW</td>\n",
       "      <td>HIGH</td>\n",
       "      <td>10.114</td>\n",
       "    </tr>\n",
       "    <tr>\n",
       "      <th>3</th>\n",
       "      <td>28</td>\n",
       "      <td>F</td>\n",
       "      <td>NORMAL</td>\n",
       "      <td>HIGH</td>\n",
       "      <td>7.798</td>\n",
       "    </tr>\n",
       "    <tr>\n",
       "      <th>4</th>\n",
       "      <td>61</td>\n",
       "      <td>F</td>\n",
       "      <td>LOW</td>\n",
       "      <td>HIGH</td>\n",
       "      <td>18.043</td>\n",
       "    </tr>\n",
       "  </tbody>\n",
       "</table>\n",
       "</div>"
      ],
      "text/plain": [
       "   Age Sex      BP Cholesterol  Na_to_K\n",
       "0   23   F    HIGH        HIGH   25.355\n",
       "1   47   M     LOW        HIGH   13.093\n",
       "2   47   M     LOW        HIGH   10.114\n",
       "3   28   F  NORMAL        HIGH    7.798\n",
       "4   61   F     LOW        HIGH   18.043"
      ]
     },
     "execution_count": 3,
     "metadata": {},
     "output_type": "execute_result"
    }
   ],
   "source": [
    "X = my_data[['Age', 'Sex', 'BP', 'Cholesterol', 'Na_to_K']]\n",
    "X.head()"
   ]
  },
  {
   "cell_type": "code",
   "execution_count": 12,
   "metadata": {},
   "outputs": [
    {
     "data": {
      "text/plain": [
       "Age              int64\n",
       "Sex             object\n",
       "BP              object\n",
       "Cholesterol     object\n",
       "Na_to_K        float64\n",
       "dtype: object"
      ]
     },
     "execution_count": 12,
     "metadata": {},
     "output_type": "execute_result"
    }
   ],
   "source": [
    "X.dtypes"
   ]
  },
  {
   "cell_type": "markdown",
   "metadata": {},
   "source": [
    "As you may figure out, some features in this dataset are categorical, such as **Sex** or **BP**. Unfortunately, Sklearn Decision Trees does not handle categorical variables. We can still convert these features to numerical values using **pandas.get_dummies()**\n",
    "to convert the categorical variable into dummy/indicator variables.\n"
   ]
  },
  {
   "cell_type": "code",
   "execution_count": 1,
   "metadata": {},
   "outputs": [],
   "source": [
    "from sklearn.preprocessing import OrdinalEncoder"
   ]
  },
  {
   "cell_type": "code",
   "execution_count": 5,
   "metadata": {
    "scrolled": true
   },
   "outputs": [],
   "source": [
    "oe_sex = OrdinalEncoder()\n",
    "x = oe_sex.fit_transform(X)"
   ]
  },
  {
   "cell_type": "code",
   "execution_count": 6,
   "metadata": {},
   "outputs": [
    {
     "data": {
      "text/plain": [
       "array([[  8.,   0.,   0.,   0., 167.],\n",
       "       [ 30.,   1.,   1.,   0.,  89.],\n",
       "       [ 30.,   1.,   1.,   0.,  43.],\n",
       "       [ 12.,   0.,   2.,   0.,  10.],\n",
       "       [ 44.,   0.,   1.,   0., 133.],\n",
       "       [  7.,   0.,   2.,   0.,  16.],\n",
       "       [ 32.,   0.,   2.,   0., 120.],\n",
       "       [ 25.,   1.,   1.,   0.,  59.],\n",
       "       [ 43.,   1.,   2.,   0., 111.],\n",
       "       [ 27.,   1.,   1.,   1., 147.],\n",
       "       [ 30.,   0.,   1.,   0.,  71.],\n",
       "       [ 18.,   0.,   0.,   1., 145.],\n",
       "       [ 27.,   1.,   1.,   0., 112.],\n",
       "       [ 56.,   0.,   1.,   0., 156.],\n",
       "       [ 33.,   0.,   2.,   0.,  80.],\n",
       "       [  1.,   0.,   0.,   1., 116.],\n",
       "       [ 52.,   1.,   1.,   1.,  68.],\n",
       "       [ 27.,   1.,   0.,   0., 101.],\n",
       "       [  8.,   1.,   1.,   0.,   5.],\n",
       "       [ 16.,   0.,   0.,   1., 175.],\n",
       "       [ 40.,   1.,   1.,   1., 143.],\n",
       "       [ 46.,   1.,   2.,   0., 173.],\n",
       "       [ 30.,   1.,   1.,   1., 187.],\n",
       "       [ 31.,   0.,   1.,   0., 109.],\n",
       "       [ 17.,   0.,   1.,   0., 191.],\n",
       "       [ 12.,   0.,   0.,   1., 139.],\n",
       "       [ 15.,   1.,   0.,   0., 186.],\n",
       "       [ 32.,   0.,   2.,   1.,  25.],\n",
       "       [ 23.,   0.,   1.,   1., 159.],\n",
       "       [ 28.,   1.,   1.,   0., 132.],\n",
       "       [  3.,   0.,   2.,   1.,  19.],\n",
       "       [ 56.,   1.,   0.,   0.,  30.],\n",
       "       [ 32.,   1.,   1.,   1.,  58.],\n",
       "       [ 48.,   0.,   0.,   1., 189.],\n",
       "       [ 36.,   1.,   2.,   0., 103.],\n",
       "       [ 29.,   1.,   2.,   1.,   4.],\n",
       "       [ 16.,   1.,   0.,   1.,  27.],\n",
       "       [ 23.,   1.,   1.,   1.,  99.],\n",
       "       [ 23.,   0.,   2.,   1.,  33.],\n",
       "       [  0.,   1.,   2.,   0.,  22.],\n",
       "       [ 55.,   0.,   2.,   0., 146.],\n",
       "       [ 41.,   0.,   0.,   1., 106.],\n",
       "       [ 33.,   1.,   2.,   1., 117.],\n",
       "       [  8.,   1.,   2.,   0.,  76.],\n",
       "       [ 33.,   0.,   2.,   1.,  77.],\n",
       "       [ 49.,   0.,   2.,   1.,  13.],\n",
       "       [ 21.,   0.,   0.,   0.,  88.],\n",
       "       [ 51.,   1.,   1.,   0.,  45.],\n",
       "       [  8.,   1.,   2.,   0., 188.],\n",
       "       [ 12.,   0.,   1.,   0., 150.],\n",
       "       [ 41.,   0.,   0.,   0., 148.],\n",
       "       [ 50.,   1.,   2.,   1.,  55.],\n",
       "       [ 45.,   1.,   1.,   1., 179.],\n",
       "       [  9.,   0.,   0.,   1., 136.],\n",
       "       [ 51.,   0.,   0.,   1.,  44.],\n",
       "       [ 11.,   0.,   1.,   0., 104.],\n",
       "       [ 48.,   1.,   0.,   1.,  64.],\n",
       "       [ 24.,   1.,   0.,   0., 180.],\n",
       "       [ 43.,   1.,   2.,   1.,  41.],\n",
       "       [ 18.,   1.,   0.,   0., 137.],\n",
       "       [ 22.,   0.,   1.,   1., 185.],\n",
       "       [  9.,   1.,   0.,   1.,  28.],\n",
       "       [ 50.,   1.,   1.,   1., 153.],\n",
       "       [ 28.,   1.,   1.,   1.,  15.],\n",
       "       [ 43.,   0.,   0.,   0.,  91.],\n",
       "       [ 51.,   0.,   2.,   1., 177.],\n",
       "       [ 13.,   1.,   0.,   0.,  83.],\n",
       "       [  2.,   1.,   2.,   1.,  53.],\n",
       "       [ 37.,   1.,   2.,   0., 166.],\n",
       "       [  3.,   0.,   0.,   1., 165.],\n",
       "       [ 53.,   1.,   0.,   0., 100.],\n",
       "       [ 12.,   0.,   2.,   0., 149.],\n",
       "       [  9.,   0.,   2.,   0.,  52.],\n",
       "       [ 25.,   0.,   2.,   1., 161.],\n",
       "       [ 15.,   1.,   0.,   1., 128.],\n",
       "       [ 11.,   1.,   1.,   1., 154.],\n",
       "       [ 20.,   0.,   0.,   0.,  60.],\n",
       "       [ 11.,   0.,   0.,   1., 144.],\n",
       "       [  4.,   0.,   0.,   0.,  92.],\n",
       "       [ 16.,   0.,   1.,   1.,  54.],\n",
       "       [ 43.,   1.,   0.,   0.,  97.],\n",
       "       [ 47.,   1.,   2.,   0.,   9.],\n",
       "       [ 16.,   0.,   1.,   0.,  34.],\n",
       "       [ 22.,   0.,   0.,   1.,  63.],\n",
       "       [ 30.,   0.,   1.,   0.,  40.],\n",
       "       [ 42.,   1.,   0.,   0.,  98.],\n",
       "       [ 34.,   0.,   2.,   0.,  93.],\n",
       "       [ 52.,   1.,   1.,   0., 114.],\n",
       "       [ 21.,   0.,   0.,   1., 164.],\n",
       "       [ 33.,   0.,   2.,   1., 130.],\n",
       "       [ 45.,   1.,   2.,   0., 123.],\n",
       "       [ 25.,   1.,   0.,   1., 110.],\n",
       "       [ 13.,   0.,   0.,   0., 184.],\n",
       "       [ 26.,   0.,   1.,   1., 183.],\n",
       "       [ 39.,   1.,   1.,   0., 108.],\n",
       "       [ 20.,   1.,   1.,   1.,  67.],\n",
       "       [ 41.,   0.,   1.,   0., 197.],\n",
       "       [ 39.,   0.,   0.,   0., 168.],\n",
       "       [  5.,   1.,   0.,   1., 195.],\n",
       "       [  0.,   0.,   0.,   1., 125.],\n",
       "       [ 15.,   1.,   0.,   1.,  72.],\n",
       "       [ 28.,   0.,   0.,   0.,  82.],\n",
       "       [ 12.,   0.,   1.,   0.,  90.],\n",
       "       [ 39.,   1.,   2.,   0.,  20.],\n",
       "       [  7.,   1.,   0.,   1., 181.],\n",
       "       [ 21.,   1.,   1.,   1.,  21.],\n",
       "       [  7.,   1.,   2.,   0.,  74.],\n",
       "       [ 26.,   1.,   1.,   0., 151.],\n",
       "       [ 54.,   1.,   0.,   1.,  32.],\n",
       "       [  8.,   1.,   2.,   0., 127.],\n",
       "       [ 33.,   1.,   0.,   0.,   8.],\n",
       "       [ 30.,   0.,   2.,   1.,   1.],\n",
       "       [ 19.,   1.,   1.,   1.,  23.],\n",
       "       [ 48.,   0.,   1.,   1.,  95.],\n",
       "       [  5.,   0.,   2.,   1.,  24.],\n",
       "       [ 34.,   1.,   0.,   0., 134.],\n",
       "       [ 50.,   1.,   2.,   1.,  29.],\n",
       "       [ 24.,   0.,   2.,   0.,  42.],\n",
       "       [ 16.,   0.,   0.,   1.,  46.],\n",
       "       [ 44.,   0.,   0.,   0., 169.],\n",
       "       [ 12.,   1.,   2.,   0., 178.],\n",
       "       [  0.,   1.,   0.,   1., 129.],\n",
       "       [ 18.,   1.,   2.,   0., 158.],\n",
       "       [ 20.,   0.,   2.,   0., 126.],\n",
       "       [ 36.,   0.,   0.,   1.,  79.],\n",
       "       [  4.,   0.,   0.,   1., 174.],\n",
       "       [ 49.,   1.,   0.,   0., 122.],\n",
       "       [ 19.,   1.,   2.,   1.,  11.],\n",
       "       [ 30.,   1.,   1.,   1., 192.],\n",
       "       [ 16.,   0.,   2.,   0.,   7.],\n",
       "       [ 53.,   0.,   2.,   0., 152.],\n",
       "       [ 35.,   1.,   1.,   1., 190.],\n",
       "       [ 32.,   1.,   1.,   1.,  94.],\n",
       "       [  9.,   1.,   2.,   0., 171.],\n",
       "       [ 26.,   0.,   0.,   0., 157.],\n",
       "       [ 56.,   1.,   1.,   1.,  73.],\n",
       "       [ 38.,   0.,   0.,   0.,  56.],\n",
       "       [ 19.,   0.,   0.,   0.,  86.],\n",
       "       [ 34.,   1.,   0.,   1.,  65.],\n",
       "       [ 52.,   0.,   2.,   0.,  39.],\n",
       "       [ 32.,   1.,   0.,   1.,   0.],\n",
       "       [ 47.,   0.,   1.,   1., 170.],\n",
       "       [ 43.,   1.,   0.,   1.,  17.],\n",
       "       [ 56.,   1.,   0.,   1., 113.],\n",
       "       [ 23.,   1.,   0.,   0.,  31.],\n",
       "       [ 44.,   1.,   2.,   0.,  26.],\n",
       "       [ 21.,   0.,   1.,   1.,  75.],\n",
       "       [ 11.,   0.,   0.,   1.,  78.],\n",
       "       [ 44.,   0.,   1.,   1.,   6.],\n",
       "       [  7.,   1.,   1.,   0.,  14.],\n",
       "       [ 32.,   1.,   0.,   1.,  18.],\n",
       "       [ 51.,   1.,   0.,   0.,  57.],\n",
       "       [ 38.,   1.,   2.,   1.,   3.],\n",
       "       [ 54.,   0.,   1.,   1., 107.],\n",
       "       [ 21.,   1.,   1.,   1., 124.],\n",
       "       [ 32.,   1.,   1.,   0.,  51.],\n",
       "       [ 15.,   1.,   0.,   1.,  61.],\n",
       "       [ 36.,   1.,   1.,   0., 162.],\n",
       "       [ 42.,   0.,   1.,   0.,  49.],\n",
       "       [ 18.,   0.,   1.,   1.,  87.],\n",
       "       [ 14.,   0.,   2.,   0.,  48.],\n",
       "       [ 40.,   0.,   0.,   1.,  37.],\n",
       "       [ 27.,   1.,   2.,   1.,  84.],\n",
       "       [  6.,   0.,   0.,   1., 182.],\n",
       "       [  1.,   1.,   0.,   1., 141.],\n",
       "       [ 22.,   1.,   1.,   0., 134.],\n",
       "       [ 41.,   0.,   1.,   0., 176.],\n",
       "       [ 40.,   0.,   2.,   0., 105.],\n",
       "       [ 34.,   0.,   1.,   1., 163.],\n",
       "       [  5.,   0.,   0.,   0.,  62.],\n",
       "       [ 12.,   0.,   2.,   0.,  85.],\n",
       "       [ 28.,   1.,   1.,   1.,  38.],\n",
       "       [ 23.,   0.,   2.,   1., 131.],\n",
       "       [ 25.,   0.,   1.,   1., 138.],\n",
       "       [ 26.,   1.,   0.,   1.,  81.],\n",
       "       [ 55.,   0.,   0.,   0., 135.],\n",
       "       [ 31.,   1.,   0.,   1.,  50.],\n",
       "       [ 10.,   1.,   2.,   0., 142.],\n",
       "       [ 23.,   1.,   2.,   0., 119.],\n",
       "       [ 50.,   0.,   2.,   0., 118.],\n",
       "       [  7.,   0.,   0.,   1., 160.],\n",
       "       [ 42.,   0.,   2.,   0.,  96.],\n",
       "       [  5.,   0.,   1.,   1.,  70.],\n",
       "       [ 20.,   0.,   0.,   1., 115.],\n",
       "       [  3.,   0.,   0.,   0., 196.],\n",
       "       [ 40.,   0.,   2.,   1., 172.],\n",
       "       [ 53.,   1.,   0.,   0.,  35.],\n",
       "       [ 30.,   1.,   0.,   0.,  47.],\n",
       "       [ 48.,   1.,   0.,   1., 194.],\n",
       "       [ 47.,   1.,   0.,   1., 155.],\n",
       "       [ 41.,   1.,   0.,   0., 140.],\n",
       "       [  8.,   1.,   0.,   0.,  12.],\n",
       "       [ 54.,   1.,   1.,   0., 121.],\n",
       "       [ 54.,   1.,   1.,   0.,   2.],\n",
       "       [ 29.,   0.,   0.,   0., 193.],\n",
       "       [ 39.,   0.,   1.,   0.,  69.],\n",
       "       [  1.,   1.,   1.,   0.,  75.],\n",
       "       [ 35.,   1.,   2.,   0.,  36.],\n",
       "       [  8.,   1.,   2.,   1., 102.],\n",
       "       [ 24.,   0.,   1.,   1.,  66.]])"
      ]
     },
     "execution_count": 6,
     "metadata": {},
     "output_type": "execute_result"
    }
   ],
   "source": [
    "x"
   ]
  },
  {
   "cell_type": "markdown",
   "metadata": {},
   "source": [
    "Now we can fill the target variable.\n"
   ]
  },
  {
   "cell_type": "code",
   "execution_count": 7,
   "metadata": {
    "button": false,
    "new_sheet": false,
    "run_control": {
     "read_only": false
    }
   },
   "outputs": [
    {
     "data": {
      "text/plain": [
       "0    drugY\n",
       "1    drugC\n",
       "2    drugC\n",
       "3    drugX\n",
       "4    drugY\n",
       "Name: Drug, dtype: object"
      ]
     },
     "execution_count": 7,
     "metadata": {},
     "output_type": "execute_result"
    }
   ],
   "source": [
    "y = my_data[\"Drug\"]\n",
    "y[0:5]"
   ]
  },
  {
   "cell_type": "markdown",
   "metadata": {
    "button": false,
    "new_sheet": false,
    "run_control": {
     "read_only": false
    }
   },
   "source": [
    "<hr>\n",
    "\n",
    "<div id=\"setting_up_tree\">\n",
    "    <h2>Setting up the Decision Tree</h2>\n",
    "    We will be using <b>train/test split</b> on our <b>decision tree</b>. Let's import <b>train_test_split</b> from <b>sklearn.cross_validation</b>.\n",
    "</div>\n"
   ]
  },
  {
   "cell_type": "code",
   "execution_count": 8,
   "metadata": {
    "button": false,
    "new_sheet": false,
    "run_control": {
     "read_only": false
    }
   },
   "outputs": [],
   "source": [
    "from sklearn.model_selection import train_test_split"
   ]
  },
  {
   "cell_type": "markdown",
   "metadata": {
    "button": false,
    "new_sheet": false,
    "run_control": {
     "read_only": false
    }
   },
   "source": [
    "Now <b> train_test_split </b> will return 4 different parameters. We will name them:<br>\n",
    "X_trainset, X_testset, y_trainset, y_testset <br> <br>\n",
    "The <b> train_test_split </b> will need the parameters: <br>\n",
    "X, y, test_size=0.3, and random_state=3. <br> <br>\n",
    "The <b>X</b> and <b>y</b> are the arrays required before the split, the <b>test_size</b> represents the ratio of the testing dataset, and the <b>random_state</b> ensures that we obtain the same splits.\n"
   ]
  },
  {
   "cell_type": "code",
   "execution_count": 9,
   "metadata": {
    "button": false,
    "new_sheet": false,
    "run_control": {
     "read_only": false
    }
   },
   "outputs": [],
   "source": [
    "xtrain, xtest, ytrain, ytest = train_test_split(x, y, test_size=0.3, random_state=3)"
   ]
  },
  {
   "cell_type": "markdown",
   "metadata": {
    "button": false,
    "new_sheet": false,
    "run_control": {
     "read_only": false
    }
   },
   "source": [
    "<h3>Practice</h3>\n",
    "Print the shape of X_trainset and y_trainset. Ensure that the dimensions match.\n"
   ]
  },
  {
   "cell_type": "code",
   "execution_count": 10,
   "metadata": {
    "button": false,
    "new_sheet": false,
    "run_control": {
     "read_only": false
    }
   },
   "outputs": [
    {
     "data": {
      "text/plain": [
       "(140, 5)"
      ]
     },
     "execution_count": 10,
     "metadata": {},
     "output_type": "execute_result"
    }
   ],
   "source": [
    "# your code\n",
    "xtrain.shape\n"
   ]
  },
  {
   "cell_type": "code",
   "execution_count": 11,
   "metadata": {},
   "outputs": [
    {
     "data": {
      "text/plain": [
       "(140,)"
      ]
     },
     "execution_count": 11,
     "metadata": {},
     "output_type": "execute_result"
    }
   ],
   "source": [
    "ytrain.shape"
   ]
  },
  {
   "cell_type": "code",
   "execution_count": 12,
   "metadata": {},
   "outputs": [
    {
     "data": {
      "text/plain": [
       "77     drugY\n",
       "73     drugY\n",
       "71     drugY\n",
       "78     drugA\n",
       "42     drugY\n",
       "       ...  \n",
       "0      drugY\n",
       "184    drugY\n",
       "131    drugY\n",
       "152    drugX\n",
       "106    drugX\n",
       "Name: Drug, Length: 140, dtype: object"
      ]
     },
     "execution_count": 12,
     "metadata": {},
     "output_type": "execute_result"
    }
   ],
   "source": [
    "ytrain"
   ]
  },
  {
   "cell_type": "markdown",
   "metadata": {},
   "source": [
    "<details><summary>Click here for the solution</summary>\n",
    "\n",
    "```python\n",
    "print('Shape of X training set {}'.format(X_trainset.shape),'&',' Size of Y training set {}'.format(y_trainset.shape))\n",
    "\n",
    "```\n",
    "\n",
    "</details>\n"
   ]
  },
  {
   "cell_type": "markdown",
   "metadata": {
    "button": false,
    "new_sheet": false,
    "run_control": {
     "read_only": false
    }
   },
   "source": [
    "Print the shape of X_testset and y_testset. Ensure that the dimensions match.\n"
   ]
  },
  {
   "cell_type": "code",
   "execution_count": 13,
   "metadata": {
    "button": false,
    "new_sheet": false,
    "run_control": {
     "read_only": false
    }
   },
   "outputs": [
    {
     "data": {
      "text/plain": [
       "(60, 5)"
      ]
     },
     "execution_count": 13,
     "metadata": {},
     "output_type": "execute_result"
    }
   ],
   "source": [
    "# your code\n",
    "xtest.shape\n"
   ]
  },
  {
   "cell_type": "code",
   "execution_count": 14,
   "metadata": {},
   "outputs": [
    {
     "data": {
      "text/plain": [
       "(60,)"
      ]
     },
     "execution_count": 14,
     "metadata": {},
     "output_type": "execute_result"
    }
   ],
   "source": [
    "ytest.shape"
   ]
  },
  {
   "cell_type": "markdown",
   "metadata": {},
   "source": [
    "<details><summary>Click here for the solution</summary>\n",
    "\n",
    "```python\n",
    "print('Shape of X training set {}'.format(X_testset.shape),'&',' Size of Y training set {}'.format(y_testset.shape))\n",
    "\n",
    "```\n",
    "\n",
    "</details>\n"
   ]
  },
  {
   "cell_type": "markdown",
   "metadata": {
    "button": false,
    "new_sheet": false,
    "run_control": {
     "read_only": false
    }
   },
   "source": [
    "<hr>\n",
    "\n",
    "<div id=\"modeling\">\n",
    "    <h2>Modeling</h2>\n",
    "    We will first create an instance of the <b>DecisionTreeClassifier</b> called <b>drugTree</b>.<br>\n",
    "    Inside of the classifier, specify <i> criterion=\"entropy\" </i> so we can see the information gain of each node.\n",
    "</div>\n"
   ]
  },
  {
   "cell_type": "code",
   "execution_count": 15,
   "metadata": {
    "button": false,
    "new_sheet": false,
    "run_control": {
     "read_only": false
    }
   },
   "outputs": [
    {
     "data": {
      "text/plain": [
       "DecisionTreeClassifier(criterion='entropy', max_depth=4)"
      ]
     },
     "execution_count": 15,
     "metadata": {},
     "output_type": "execute_result"
    }
   ],
   "source": [
    "drugTree = DecisionTreeClassifier(criterion=\"entropy\", max_depth = 4)\n",
    "drugTree # it shows the default parameters"
   ]
  },
  {
   "cell_type": "markdown",
   "metadata": {
    "button": false,
    "new_sheet": false,
    "run_control": {
     "read_only": false
    }
   },
   "source": [
    "Next, we will fit the data with the training feature matrix <b> X_trainset </b> and training  response vector <b> y_trainset </b>\n"
   ]
  },
  {
   "cell_type": "code",
   "execution_count": 16,
   "metadata": {
    "button": false,
    "new_sheet": false,
    "run_control": {
     "read_only": false
    }
   },
   "outputs": [
    {
     "data": {
      "text/plain": [
       "DecisionTreeClassifier(criterion='entropy', max_depth=4)"
      ]
     },
     "execution_count": 16,
     "metadata": {},
     "output_type": "execute_result"
    }
   ],
   "source": [
    "drugTree.fit(xtrain, ytrain)"
   ]
  },
  {
   "cell_type": "markdown",
   "metadata": {
    "button": false,
    "new_sheet": false,
    "run_control": {
     "read_only": false
    }
   },
   "source": [
    "<hr>\n",
    "\n",
    "<div id=\"prediction\">\n",
    "    <h2>Prediction</h2>\n",
    "    Let's make some <b>predictions</b> on the testing dataset and store it into a variable called <b>predTree</b>.\n",
    "</div>\n"
   ]
  },
  {
   "cell_type": "code",
   "execution_count": 17,
   "metadata": {
    "button": false,
    "new_sheet": false,
    "run_control": {
     "read_only": false
    }
   },
   "outputs": [],
   "source": [
    "predTree = drugTree.predict(xtest)"
   ]
  },
  {
   "cell_type": "markdown",
   "metadata": {
    "button": false,
    "new_sheet": false,
    "run_control": {
     "read_only": false
    }
   },
   "source": [
    "You can print out <b>predTree</b> and <b>y_testset</b> if you want to visually compare the predictions to the actual values.\n"
   ]
  },
  {
   "cell_type": "code",
   "execution_count": 18,
   "metadata": {
    "button": false,
    "new_sheet": false,
    "run_control": {
     "read_only": false
    },
    "scrolled": true
   },
   "outputs": [
    {
     "name": "stdout",
     "output_type": "stream",
     "text": [
      "['drugY' 'drugX' 'drugX' 'drugX' 'drugX']\n",
      "40     drugY\n",
      "51     drugX\n",
      "139    drugX\n",
      "197    drugX\n",
      "170    drugX\n",
      "Name: Drug, dtype: object\n"
     ]
    }
   ],
   "source": [
    "print (predTree [0:5])\n",
    "print (ytest [0:5])\n"
   ]
  },
  {
   "cell_type": "markdown",
   "metadata": {
    "button": false,
    "new_sheet": false,
    "run_control": {
     "read_only": false
    }
   },
   "source": [
    "<hr>\n",
    "\n",
    "<div id=\"evaluation\">\n",
    "    <h2>Evaluation</h2>\n",
    "    Next, let's import <b>metrics</b> from sklearn and check the accuracy of our model.\n",
    "</div>\n"
   ]
  },
  {
   "cell_type": "code",
   "execution_count": 19,
   "metadata": {},
   "outputs": [],
   "source": [
    "from sklearn.metrics import accuracy_score, plot_confusion_matrix"
   ]
  },
  {
   "cell_type": "code",
   "execution_count": 20,
   "metadata": {
    "button": false,
    "new_sheet": false,
    "run_control": {
     "read_only": false
    }
   },
   "outputs": [
    {
     "name": "stdout",
     "output_type": "stream",
     "text": [
      "DecisionTrees's Accuracy:  0.9833333333333333\n"
     ]
    }
   ],
   "source": [
    "import matplotlib.pyplot as plt\n",
    "print(\"DecisionTrees's Accuracy: \", accuracy_score(ytest, predTree))"
   ]
  },
  {
   "cell_type": "code",
   "execution_count": 21,
   "metadata": {},
   "outputs": [
    {
     "data": {
      "text/plain": [
       "<sklearn.metrics._plot.confusion_matrix.ConfusionMatrixDisplay at 0x1f64798b370>"
      ]
     },
     "execution_count": 21,
     "metadata": {},
     "output_type": "execute_result"
    },
    {
     "data": {
      "image/png": "[encoded data removed]",
      "text/plain": [
       "<Figure size 432x288 with 2 Axes>"
      ]
     },
     "metadata": {
      "needs_background": "light"
     },
     "output_type": "display_data"
    }
   ],
   "source": [
    "plot_confusion_matrix(drugTree, xtest, ytest)"
   ]
  },
  {
   "cell_type": "code",
   "execution_count": 26,
   "metadata": {},
   "outputs": [
    {
     "data": {
      "text/plain": [
       "<sklearn.metrics._plot.confusion_matrix.ConfusionMatrixDisplay at 0x1f64d8f15e0>"
      ]
     },
     "execution_count": 26,
     "metadata": {},
     "output_type": "execute_result"
    },
    {
     "data": {
      "image/png": "[encoded data removed]",
      "text/plain": [
       "<Figure size 432x288 with 2 Axes>"
      ]
     },
     "metadata": {
      "needs_background": "light"
     },
     "output_type": "display_data"
    }
   ],
   "source": [
    "plot_confusion_matrix(drugTree, xtrain, ytrain)"
   ]
  },
  {
   "cell_type": "markdown",
   "metadata": {
    "button": false,
    "new_sheet": false,
    "run_control": {
     "read_only": false
    }
   },
   "source": [
    "**Accuracy classification score** computes subset accuracy: the set of labels predicted for a sample must exactly match the corresponding set of labels in y_true.\n",
    "\n",
    "In multilabel classification, the function returns the subset accuracy. If the entire set of predicted labels for a sample strictly match with the true set of labels, then the subset accuracy is 1.0; otherwise it is 0.0.\n"
   ]
  },
  {
   "cell_type": "markdown",
   "metadata": {},
   "source": [
    "<hr>\n",
    "\n",
    "<div id=\"visualization\">\n",
    "    <h2>Visualization</h2>\n",
    "\n",
    "Let's visualize the tree\n",
    "\n",
    "</div>\n"
   ]
  },
  {
   "cell_type": "code",
   "execution_count": 22,
   "metadata": {},
   "outputs": [],
   "source": [
    "import graphviz\n",
    "from sklearn.tree import export_graphviz"
   ]
  },
  {
   "cell_type": "code",
   "execution_count": 25,
   "metadata": {},
   "outputs": [
    {
     "data": {
      "image/svg+xml": [
       "<?xml version=\"1.0\" encoding=\"UTF-8\" standalone=\"no\"?>\r\n",
       "<!DOCTYPE svg PUBLIC \"-//W3C//DTD SVG 1.1//EN\"\r\n",
       " \"http://www.w3.org/Graphics/SVG/1.1/DTD/svg11.dtd\">\r\n",
       "<!-- Generated by graphviz version 2.38.0 (20140413.2041)\r\n",
       " -->\r\n",
       "<!-- Title: Tree Pages: 1 -->\r\n",
       "<svg width=\"631pt\" height=\"552pt\"\r\n",
       " viewBox=\"0.00 0.00 631.00 552.00\" xmlns=\"http://www.w3.org/2000/svg\" xmlns:xlink=\"http://www.w3.org/1999/xlink\">\r\n",
       "<g id=\"graph0\" class=\"graph\" transform=\"scale(1 1) rotate(0) translate(4 548)\">\r\n",
       "<title>Tree</title>\r\n",
       "<polygon fill=\"white\" stroke=\"none\" points=\"-4,4 -4,-548 627,-548 627,4 -4,4\"/>\r\n",
       "<!-- 0 -->\r\n",
       "<g id=\"node1\" class=\"node\"><title>0</title>\r\n",
       "<polygon fill=\"#f6bcea\" stroke=\"black\" points=\"476.5,-544 309.5,-544 309.5,-461 476.5,-461 476.5,-544\"/>\r\n",
       "<text text-anchor=\"middle\" x=\"393\" y=\"-528.8\" font-family=\"Times New Roman,serif\" font-size=\"14.00\">Na_to_K &lt;= 106.5</text>\r\n",
       "<text text-anchor=\"middle\" x=\"393\" y=\"-513.8\" font-family=\"Times New Roman,serif\" font-size=\"14.00\">entropy = 1.929</text>\r\n",
       "<text text-anchor=\"middle\" x=\"393\" y=\"-498.8\" font-family=\"Times New Roman,serif\" font-size=\"14.00\">samples = 140</text>\r\n",
       "<text text-anchor=\"middle\" x=\"393\" y=\"-483.8\" font-family=\"Times New Roman,serif\" font-size=\"14.00\">value = [16, 11, 11, 33, 69]</text>\r\n",
       "<text text-anchor=\"middle\" x=\"393\" y=\"-468.8\" font-family=\"Times New Roman,serif\" font-size=\"14.00\">class = drugY</text>\r\n",
       "</g>\r\n",
       "<!-- 1 -->\r\n",
       "<g id=\"node2\" class=\"node\"><title>1</title>\r\n",
       "<polygon fill=\"#c3c2f7\" stroke=\"black\" points=\"389.5,-425 228.5,-425 228.5,-342 389.5,-342 389.5,-425\"/>\r\n",
       "<text text-anchor=\"middle\" x=\"309\" y=\"-409.8\" font-family=\"Times New Roman,serif\" font-size=\"14.00\">BP &lt;= 0.5</text>\r\n",
       "<text text-anchor=\"middle\" x=\"309\" y=\"-394.8\" font-family=\"Times New Roman,serif\" font-size=\"14.00\">entropy = 1.832</text>\r\n",
       "<text text-anchor=\"middle\" x=\"309\" y=\"-379.8\" font-family=\"Times New Roman,serif\" font-size=\"14.00\">samples = 71</text>\r\n",
       "<text text-anchor=\"middle\" x=\"309\" y=\"-364.8\" font-family=\"Times New Roman,serif\" font-size=\"14.00\">value = [16, 11, 11, 33, 0]</text>\r\n",
       "<text text-anchor=\"middle\" x=\"309\" y=\"-349.8\" font-family=\"Times New Roman,serif\" font-size=\"14.00\">class = drugX</text>\r\n",
       "</g>\r\n",
       "<!-- 0&#45;&gt;1 -->\r\n",
       "<g id=\"edge1\" class=\"edge\"><title>0&#45;&gt;1</title>\r\n",
       "<path fill=\"none\" stroke=\"black\" d=\"M363.857,-460.907C357.471,-452.014 350.648,-442.509 344.058,-433.331\"/>\r\n",
       "<polygon fill=\"black\" stroke=\"black\" points=\"346.767,-431.103 338.092,-425.021 341.081,-435.185 346.767,-431.103\"/>\r\n",
       "<text text-anchor=\"middle\" x=\"334.042\" y=\"-445.991\" font-family=\"Times New Roman,serif\" font-size=\"14.00\">True</text>\r\n",
       "</g>\r\n",
       "<!-- 10 -->\r\n",
       "<g id=\"node11\" class=\"node\"><title>10</title>\r\n",
       "<polygon fill=\"#e539c0\" stroke=\"black\" points=\"548,-417.5 408,-417.5 408,-349.5 548,-349.5 548,-417.5\"/>\r\n",
       "<text text-anchor=\"middle\" x=\"478\" y=\"-402.3\" font-family=\"Times New Roman,serif\" font-size=\"14.00\">entropy = 0.0</text>\r\n",
       "<text text-anchor=\"middle\" x=\"478\" y=\"-387.3\" font-family=\"Times New Roman,serif\" font-size=\"14.00\">samples = 69</text>\r\n",
       "<text text-anchor=\"middle\" x=\"478\" y=\"-372.3\" font-family=\"Times New Roman,serif\" font-size=\"14.00\">value = [0, 0, 0, 0, 69]</text>\r\n",
       "<text text-anchor=\"middle\" x=\"478\" y=\"-357.3\" font-family=\"Times New Roman,serif\" font-size=\"14.00\">class = drugY</text>\r\n",
       "</g>\r\n",
       "<!-- 0&#45;&gt;10 -->\r\n",
       "<g id=\"edge10\" class=\"edge\"><title>0&#45;&gt;10</title>\r\n",
       "<path fill=\"none\" stroke=\"black\" d=\"M422.49,-460.907C430.747,-449.542 439.729,-437.178 448.015,-425.774\"/>\r\n",
       "<polygon fill=\"black\" stroke=\"black\" points=\"450.858,-427.814 453.904,-417.667 445.195,-423.7 450.858,-427.814\"/>\r\n",
       "<text text-anchor=\"middle\" x=\"457.816\" y=\"-438.659\" font-family=\"Times New Roman,serif\" font-size=\"14.00\">False</text>\r\n",
       "</g>\r\n",
       "<!-- 2 -->\r\n",
       "<g id=\"node3\" class=\"node\"><title>2</title>\r\n",
       "<polygon fill=\"#f7d8c1\" stroke=\"black\" points=\"300.5,-306 153.5,-306 153.5,-223 300.5,-223 300.5,-306\"/>\r\n",
       "<text text-anchor=\"middle\" x=\"227\" y=\"-290.8\" font-family=\"Times New Roman,serif\" font-size=\"14.00\">Age &lt;= 33.5</text>\r\n",
       "<text text-anchor=\"middle\" x=\"227\" y=\"-275.8\" font-family=\"Times New Roman,serif\" font-size=\"14.00\">entropy = 0.975</text>\r\n",
       "<text text-anchor=\"middle\" x=\"227\" y=\"-260.8\" font-family=\"Times New Roman,serif\" font-size=\"14.00\">samples = 27</text>\r\n",
       "<text text-anchor=\"middle\" x=\"227\" y=\"-245.8\" font-family=\"Times New Roman,serif\" font-size=\"14.00\">value = [16, 11, 0, 0, 0]</text>\r\n",
       "<text text-anchor=\"middle\" x=\"227\" y=\"-230.8\" font-family=\"Times New Roman,serif\" font-size=\"14.00\">class = drugA</text>\r\n",
       "</g>\r\n",
       "<!-- 1&#45;&gt;2 -->\r\n",
       "<g id=\"edge2\" class=\"edge\"><title>1&#45;&gt;2</title>\r\n",
       "<path fill=\"none\" stroke=\"black\" d=\"M280.551,-341.907C274.317,-333.014 267.656,-323.509 261.223,-314.331\"/>\r\n",
       "<polygon fill=\"black\" stroke=\"black\" points=\"264.005,-312.201 255.399,-306.021 258.272,-316.219 264.005,-312.201\"/>\r\n",
       "</g>\r\n",
       "<!-- 5 -->\r\n",
       "<g id=\"node6\" class=\"node\"><title>5</title>\r\n",
       "<polygon fill=\"#7d7bee\" stroke=\"black\" points=\"465.5,-306 318.5,-306 318.5,-223 465.5,-223 465.5,-306\"/>\r\n",
       "<text text-anchor=\"middle\" x=\"392\" y=\"-290.8\" font-family=\"Times New Roman,serif\" font-size=\"14.00\">Cholesterol &lt;= 0.5</text>\r\n",
       "<text text-anchor=\"middle\" x=\"392\" y=\"-275.8\" font-family=\"Times New Roman,serif\" font-size=\"14.00\">entropy = 0.811</text>\r\n",
       "<text text-anchor=\"middle\" x=\"392\" y=\"-260.8\" font-family=\"Times New Roman,serif\" font-size=\"14.00\">samples = 44</text>\r\n",
       "<text text-anchor=\"middle\" x=\"392\" y=\"-245.8\" font-family=\"Times New Roman,serif\" font-size=\"14.00\">value = [0, 0, 11, 33, 0]</text>\r\n",
       "<text text-anchor=\"middle\" x=\"392\" y=\"-230.8\" font-family=\"Times New Roman,serif\" font-size=\"14.00\">class = drugX</text>\r\n",
       "</g>\r\n",
       "<!-- 1&#45;&gt;5 -->\r\n",
       "<g id=\"edge5\" class=\"edge\"><title>1&#45;&gt;5</title>\r\n",
       "<path fill=\"none\" stroke=\"black\" d=\"M337.796,-341.907C344.106,-333.014 350.848,-323.509 357.359,-314.331\"/>\r\n",
       "<polygon fill=\"black\" stroke=\"black\" points=\"360.323,-316.202 363.254,-306.021 354.614,-312.152 360.323,-316.202\"/>\r\n",
       "</g>\r\n",
       "<!-- 3 -->\r\n",
       "<g id=\"node4\" class=\"node\"><title>3</title>\r\n",
       "<polygon fill=\"#e58139\" stroke=\"black\" points=\"140,-179.5 0,-179.5 0,-111.5 140,-111.5 140,-179.5\"/>\r\n",
       "<text text-anchor=\"middle\" x=\"70\" y=\"-164.3\" font-family=\"Times New Roman,serif\" font-size=\"14.00\">entropy = 0.0</text>\r\n",
       "<text text-anchor=\"middle\" x=\"70\" y=\"-149.3\" font-family=\"Times New Roman,serif\" font-size=\"14.00\">samples = 16</text>\r\n",
       "<text text-anchor=\"middle\" x=\"70\" y=\"-134.3\" font-family=\"Times New Roman,serif\" font-size=\"14.00\">value = [16, 0, 0, 0, 0]</text>\r\n",
       "<text text-anchor=\"middle\" x=\"70\" y=\"-119.3\" font-family=\"Times New Roman,serif\" font-size=\"14.00\">class = drugA</text>\r\n",
       "</g>\r\n",
       "<!-- 2&#45;&gt;3 -->\r\n",
       "<g id=\"edge3\" class=\"edge\"><title>2&#45;&gt;3</title>\r\n",
       "<path fill=\"none\" stroke=\"black\" d=\"M172.53,-222.907C156.39,-210.88 138.751,-197.735 122.724,-185.791\"/>\r\n",
       "<polygon fill=\"black\" stroke=\"black\" points=\"124.616,-182.836 114.506,-179.667 120.433,-188.449 124.616,-182.836\"/>\r\n",
       "</g>\r\n",
       "<!-- 4 -->\r\n",
       "<g id=\"node5\" class=\"node\"><title>4</title>\r\n",
       "<polygon fill=\"#7be539\" stroke=\"black\" points=\"298,-179.5 158,-179.5 158,-111.5 298,-111.5 298,-179.5\"/>\r\n",
       "<text text-anchor=\"middle\" x=\"228\" y=\"-164.3\" font-family=\"Times New Roman,serif\" font-size=\"14.00\">entropy = 0.0</text>\r\n",
       "<text text-anchor=\"middle\" x=\"228\" y=\"-149.3\" font-family=\"Times New Roman,serif\" font-size=\"14.00\">samples = 11</text>\r\n",
       "<text text-anchor=\"middle\" x=\"228\" y=\"-134.3\" font-family=\"Times New Roman,serif\" font-size=\"14.00\">value = [0, 11, 0, 0, 0]</text>\r\n",
       "<text text-anchor=\"middle\" x=\"228\" y=\"-119.3\" font-family=\"Times New Roman,serif\" font-size=\"14.00\">class = drugB</text>\r\n",
       "</g>\r\n",
       "<!-- 2&#45;&gt;4 -->\r\n",
       "<g id=\"edge4\" class=\"edge\"><title>2&#45;&gt;4</title>\r\n",
       "<path fill=\"none\" stroke=\"black\" d=\"M227.347,-222.907C227.438,-212.204 227.537,-200.615 227.63,-189.776\"/>\r\n",
       "<polygon fill=\"black\" stroke=\"black\" points=\"231.131,-189.697 227.717,-179.667 224.131,-189.637 231.131,-189.697\"/>\r\n",
       "</g>\r\n",
       "<!-- 6 -->\r\n",
       "<g id=\"node7\" class=\"node\"><title>6</title>\r\n",
       "<polygon fill=\"#edfdfa\" stroke=\"black\" points=\"464.5,-187 317.5,-187 317.5,-104 464.5,-104 464.5,-187\"/>\r\n",
       "<text text-anchor=\"middle\" x=\"391\" y=\"-171.8\" font-family=\"Times New Roman,serif\" font-size=\"14.00\">BP &lt;= 1.5</text>\r\n",
       "<text text-anchor=\"middle\" x=\"391\" y=\"-156.8\" font-family=\"Times New Roman,serif\" font-size=\"14.00\">entropy = 0.998</text>\r\n",
       "<text text-anchor=\"middle\" x=\"391\" y=\"-141.8\" font-family=\"Times New Roman,serif\" font-size=\"14.00\">samples = 21</text>\r\n",
       "<text text-anchor=\"middle\" x=\"391\" y=\"-126.8\" font-family=\"Times New Roman,serif\" font-size=\"14.00\">value = [0, 0, 11, 10, 0]</text>\r\n",
       "<text text-anchor=\"middle\" x=\"391\" y=\"-111.8\" font-family=\"Times New Roman,serif\" font-size=\"14.00\">class = drugC</text>\r\n",
       "</g>\r\n",
       "<!-- 5&#45;&gt;6 -->\r\n",
       "<g id=\"edge6\" class=\"edge\"><title>5&#45;&gt;6</title>\r\n",
       "<path fill=\"none\" stroke=\"black\" d=\"M391.653,-222.907C391.582,-214.649 391.507,-205.864 391.434,-197.302\"/>\r\n",
       "<polygon fill=\"black\" stroke=\"black\" points=\"394.932,-196.99 391.346,-187.021 387.932,-197.05 394.932,-196.99\"/>\r\n",
       "</g>\r\n",
       "<!-- 9 -->\r\n",
       "<g id=\"node10\" class=\"node\"><title>9</title>\r\n",
       "<polygon fill=\"#3c39e5\" stroke=\"black\" points=\"623,-179.5 483,-179.5 483,-111.5 623,-111.5 623,-179.5\"/>\r\n",
       "<text text-anchor=\"middle\" x=\"553\" y=\"-164.3\" font-family=\"Times New Roman,serif\" font-size=\"14.00\">entropy = 0.0</text>\r\n",
       "<text text-anchor=\"middle\" x=\"553\" y=\"-149.3\" font-family=\"Times New Roman,serif\" font-size=\"14.00\">samples = 23</text>\r\n",
       "<text text-anchor=\"middle\" x=\"553\" y=\"-134.3\" font-family=\"Times New Roman,serif\" font-size=\"14.00\">value = [0, 0, 0, 23, 0]</text>\r\n",
       "<text text-anchor=\"middle\" x=\"553\" y=\"-119.3\" font-family=\"Times New Roman,serif\" font-size=\"14.00\">class = drugX</text>\r\n",
       "</g>\r\n",
       "<!-- 5&#45;&gt;9 -->\r\n",
       "<g id=\"edge9\" class=\"edge\"><title>5&#45;&gt;9</title>\r\n",
       "<path fill=\"none\" stroke=\"black\" d=\"M447.858,-222.907C464.409,-210.88 482.498,-197.735 498.933,-185.791\"/>\r\n",
       "<polygon fill=\"black\" stroke=\"black\" points=\"501.328,-188.377 507.36,-179.667 497.213,-182.714 501.328,-188.377\"/>\r\n",
       "</g>\r\n",
       "<!-- 7 -->\r\n",
       "<g id=\"node8\" class=\"node\"><title>7</title>\r\n",
       "<polygon fill=\"#39e5c5\" stroke=\"black\" points=\"382,-68 242,-68 242,-0 382,-0 382,-68\"/>\r\n",
       "<text text-anchor=\"middle\" x=\"312\" y=\"-52.8\" font-family=\"Times New Roman,serif\" font-size=\"14.00\">entropy = 0.0</text>\r\n",
       "<text text-anchor=\"middle\" x=\"312\" y=\"-37.8\" font-family=\"Times New Roman,serif\" font-size=\"14.00\">samples = 11</text>\r\n",
       "<text text-anchor=\"middle\" x=\"312\" y=\"-22.8\" font-family=\"Times New Roman,serif\" font-size=\"14.00\">value = [0, 0, 11, 0, 0]</text>\r\n",
       "<text text-anchor=\"middle\" x=\"312\" y=\"-7.8\" font-family=\"Times New Roman,serif\" font-size=\"14.00\">class = drugC</text>\r\n",
       "</g>\r\n",
       "<!-- 6&#45;&gt;7 -->\r\n",
       "<g id=\"edge7\" class=\"edge\"><title>6&#45;&gt;7</title>\r\n",
       "<path fill=\"none\" stroke=\"black\" d=\"M361.583,-103.726C355.2,-94.879 348.441,-85.51 342.035,-76.6303\"/>\r\n",
       "<polygon fill=\"black\" stroke=\"black\" points=\"344.714,-74.3615 336.024,-68.2996 339.037,-78.4571 344.714,-74.3615\"/>\r\n",
       "</g>\r\n",
       "<!-- 8 -->\r\n",
       "<g id=\"node9\" class=\"node\"><title>8</title>\r\n",
       "<polygon fill=\"#3c39e5\" stroke=\"black\" points=\"540,-68 400,-68 400,-0 540,-0 540,-68\"/>\r\n",
       "<text text-anchor=\"middle\" x=\"470\" y=\"-52.8\" font-family=\"Times New Roman,serif\" font-size=\"14.00\">entropy = 0.0</text>\r\n",
       "<text text-anchor=\"middle\" x=\"470\" y=\"-37.8\" font-family=\"Times New Roman,serif\" font-size=\"14.00\">samples = 10</text>\r\n",
       "<text text-anchor=\"middle\" x=\"470\" y=\"-22.8\" font-family=\"Times New Roman,serif\" font-size=\"14.00\">value = [0, 0, 0, 10, 0]</text>\r\n",
       "<text text-anchor=\"middle\" x=\"470\" y=\"-7.8\" font-family=\"Times New Roman,serif\" font-size=\"14.00\">class = drugX</text>\r\n",
       "</g>\r\n",
       "<!-- 6&#45;&gt;8 -->\r\n",
       "<g id=\"edge8\" class=\"edge\"><title>6&#45;&gt;8</title>\r\n",
       "<path fill=\"none\" stroke=\"black\" d=\"M420.417,-103.726C426.8,-94.879 433.559,-85.51 439.965,-76.6303\"/>\r\n",
       "<polygon fill=\"black\" stroke=\"black\" points=\"442.963,-78.4571 445.976,-68.2996 437.286,-74.3615 442.963,-78.4571\"/>\r\n",
       "</g>\r\n",
       "</g>\r\n",
       "</svg>\r\n"
      ],
      "text/plain": [
       "<graphviz.files.Source at 0x1f64d8f1850>"
      ]
     },
     "execution_count": 25,
     "metadata": {},
     "output_type": "execute_result"
    }
   ],
   "source": [
    "cay_graph=  export_graphviz(drugTree,\n",
    "                           filled = True,\n",
    "                           class_names=drugTree.classes_,\n",
    "                           feature_names=X.columns)\n",
    "graphviz.Source(cay_graph)"
   ]
  },
  {
   "cell_type": "code",
   "execution_count": 27,
   "metadata": {},
   "outputs": [
    {
     "data": {
      "image/svg+xml": [
       "<?xml version=\"1.0\" encoding=\"UTF-8\" standalone=\"no\"?>\r\n",
       "<!DOCTYPE svg PUBLIC \"-//W3C//DTD SVG 1.1//EN\"\r\n",
       " \"http://www.w3.org/Graphics/SVG/1.1/DTD/svg11.dtd\">\r\n",
       "<!-- Generated by graphviz version 2.38.0 (20140413.2041)\r\n",
       " -->\r\n",
       "<!-- Title: Tree Pages: 1 -->\r\n",
       "<svg width=\"631pt\" height=\"552pt\"\r\n",
       " viewBox=\"0.00 0.00 631.00 552.00\" xmlns=\"http://www.w3.org/2000/svg\" xmlns:xlink=\"http://www.w3.org/1999/xlink\">\r\n",
       "<g id=\"graph0\" class=\"graph\" transform=\"scale(1 1) rotate(0) translate(4 548)\">\r\n",
       "<title>Tree</title>\r\n",
       "<polygon fill=\"white\" stroke=\"none\" points=\"-4,4 -4,-548 627,-548 627,4 -4,4\"/>\r\n",
       "<!-- 0 -->\r\n",
       "<g id=\"node1\" class=\"node\"><title>0</title>\r\n",
       "<polygon fill=\"#f6bcea\" stroke=\"black\" points=\"476.5,-544 309.5,-544 309.5,-461 476.5,-461 476.5,-544\"/>\r\n",
       "<text text-anchor=\"start\" x=\"370\" y=\"-528.8\" font-family=\"Times New Roman,serif\" font-size=\"14.00\">node #0</text>\r\n",
       "<text text-anchor=\"start\" x=\"344\" y=\"-513.8\" font-family=\"Times New Roman,serif\" font-size=\"14.00\">Na_to_K ≤ 106.5</text>\r\n",
       "<text text-anchor=\"start\" x=\"352\" y=\"-498.8\" font-family=\"Times New Roman,serif\" font-size=\"14.00\">samples = 140</text>\r\n",
       "<text text-anchor=\"start\" x=\"317.5\" y=\"-483.8\" font-family=\"Times New Roman,serif\" font-size=\"14.00\">value = [16, 11, 11, 33, 69]</text>\r\n",
       "<text text-anchor=\"start\" x=\"353.5\" y=\"-468.8\" font-family=\"Times New Roman,serif\" font-size=\"14.00\">class = drugY</text>\r\n",
       "</g>\r\n",
       "<!-- 1 -->\r\n",
       "<g id=\"node2\" class=\"node\"><title>1</title>\r\n",
       "<polygon fill=\"#c3c2f7\" stroke=\"black\" points=\"389.5,-425 228.5,-425 228.5,-342 389.5,-342 389.5,-425\"/>\r\n",
       "<text text-anchor=\"start\" x=\"286\" y=\"-409.8\" font-family=\"Times New Roman,serif\" font-size=\"14.00\">node #1</text>\r\n",
       "<text text-anchor=\"start\" x=\"284\" y=\"-394.8\" font-family=\"Times New Roman,serif\" font-size=\"14.00\">BP ≤ 0.5</text>\r\n",
       "<text text-anchor=\"start\" x=\"271.5\" y=\"-379.8\" font-family=\"Times New Roman,serif\" font-size=\"14.00\">samples = 71</text>\r\n",
       "<text text-anchor=\"start\" x=\"236.5\" y=\"-364.8\" font-family=\"Times New Roman,serif\" font-size=\"14.00\">value = [16, 11, 11, 33, 0]</text>\r\n",
       "<text text-anchor=\"start\" x=\"269.5\" y=\"-349.8\" font-family=\"Times New Roman,serif\" font-size=\"14.00\">class = drugX</text>\r\n",
       "</g>\r\n",
       "<!-- 0&#45;&gt;1 -->\r\n",
       "<g id=\"edge1\" class=\"edge\"><title>0&#45;&gt;1</title>\r\n",
       "<path fill=\"none\" stroke=\"black\" d=\"M363.857,-460.907C357.471,-452.014 350.648,-442.509 344.058,-433.331\"/>\r\n",
       "<polygon fill=\"black\" stroke=\"black\" points=\"346.767,-431.103 338.092,-425.021 341.081,-435.185 346.767,-431.103\"/>\r\n",
       "<text text-anchor=\"middle\" x=\"334.042\" y=\"-445.991\" font-family=\"Times New Roman,serif\" font-size=\"14.00\">True</text>\r\n",
       "</g>\r\n",
       "<!-- 10 -->\r\n",
       "<g id=\"node11\" class=\"node\"><title>10</title>\r\n",
       "<polygon fill=\"#e539c0\" stroke=\"black\" points=\"548,-417.5 408,-417.5 408,-349.5 548,-349.5 548,-417.5\"/>\r\n",
       "<text text-anchor=\"start\" x=\"451.5\" y=\"-402.3\" font-family=\"Times New Roman,serif\" font-size=\"14.00\">node #10</text>\r\n",
       "<text text-anchor=\"start\" x=\"440.5\" y=\"-387.3\" font-family=\"Times New Roman,serif\" font-size=\"14.00\">samples = 69</text>\r\n",
       "<text text-anchor=\"start\" x=\"416\" y=\"-372.3\" font-family=\"Times New Roman,serif\" font-size=\"14.00\">value = [0, 0, 0, 0, 69]</text>\r\n",
       "<text text-anchor=\"start\" x=\"438.5\" y=\"-357.3\" font-family=\"Times New Roman,serif\" font-size=\"14.00\">class = drugY</text>\r\n",
       "</g>\r\n",
       "<!-- 0&#45;&gt;10 -->\r\n",
       "<g id=\"edge10\" class=\"edge\"><title>0&#45;&gt;10</title>\r\n",
       "<path fill=\"none\" stroke=\"black\" d=\"M422.49,-460.907C430.747,-449.542 439.729,-437.178 448.015,-425.774\"/>\r\n",
       "<polygon fill=\"black\" stroke=\"black\" points=\"450.858,-427.814 453.904,-417.667 445.195,-423.7 450.858,-427.814\"/>\r\n",
       "<text text-anchor=\"middle\" x=\"457.816\" y=\"-438.659\" font-family=\"Times New Roman,serif\" font-size=\"14.00\">False</text>\r\n",
       "</g>\r\n",
       "<!-- 2 -->\r\n",
       "<g id=\"node3\" class=\"node\"><title>2</title>\r\n",
       "<polygon fill=\"#f7d8c1\" stroke=\"black\" points=\"300.5,-306 153.5,-306 153.5,-223 300.5,-223 300.5,-306\"/>\r\n",
       "<text text-anchor=\"start\" x=\"204\" y=\"-290.8\" font-family=\"Times New Roman,serif\" font-size=\"14.00\">node #2</text>\r\n",
       "<text text-anchor=\"start\" x=\"196\" y=\"-275.8\" font-family=\"Times New Roman,serif\" font-size=\"14.00\">Age ≤ 33.5</text>\r\n",
       "<text text-anchor=\"start\" x=\"189.5\" y=\"-260.8\" font-family=\"Times New Roman,serif\" font-size=\"14.00\">samples = 27</text>\r\n",
       "<text text-anchor=\"start\" x=\"161.5\" y=\"-245.8\" font-family=\"Times New Roman,serif\" font-size=\"14.00\">value = [16, 11, 0, 0, 0]</text>\r\n",
       "<text text-anchor=\"start\" x=\"187.5\" y=\"-230.8\" font-family=\"Times New Roman,serif\" font-size=\"14.00\">class = drugA</text>\r\n",
       "</g>\r\n",
       "<!-- 1&#45;&gt;2 -->\r\n",
       "<g id=\"edge2\" class=\"edge\"><title>1&#45;&gt;2</title>\r\n",
       "<path fill=\"none\" stroke=\"black\" d=\"M280.551,-341.907C274.317,-333.014 267.656,-323.509 261.223,-314.331\"/>\r\n",
       "<polygon fill=\"black\" stroke=\"black\" points=\"264.005,-312.201 255.399,-306.021 258.272,-316.219 264.005,-312.201\"/>\r\n",
       "</g>\r\n",
       "<!-- 5 -->\r\n",
       "<g id=\"node6\" class=\"node\"><title>5</title>\r\n",
       "<polygon fill=\"#7d7bee\" stroke=\"black\" points=\"465.5,-306 318.5,-306 318.5,-223 465.5,-223 465.5,-306\"/>\r\n",
       "<text text-anchor=\"start\" x=\"369\" y=\"-290.8\" font-family=\"Times New Roman,serif\" font-size=\"14.00\">node #5</text>\r\n",
       "<text text-anchor=\"start\" x=\"343.5\" y=\"-275.8\" font-family=\"Times New Roman,serif\" font-size=\"14.00\">Cholesterol ≤ 0.5</text>\r\n",
       "<text text-anchor=\"start\" x=\"354.5\" y=\"-260.8\" font-family=\"Times New Roman,serif\" font-size=\"14.00\">samples = 44</text>\r\n",
       "<text text-anchor=\"start\" x=\"326.5\" y=\"-245.8\" font-family=\"Times New Roman,serif\" font-size=\"14.00\">value = [0, 0, 11, 33, 0]</text>\r\n",
       "<text text-anchor=\"start\" x=\"352.5\" y=\"-230.8\" font-family=\"Times New Roman,serif\" font-size=\"14.00\">class = drugX</text>\r\n",
       "</g>\r\n",
       "<!-- 1&#45;&gt;5 -->\r\n",
       "<g id=\"edge5\" class=\"edge\"><title>1&#45;&gt;5</title>\r\n",
       "<path fill=\"none\" stroke=\"black\" d=\"M337.796,-341.907C344.106,-333.014 350.848,-323.509 357.359,-314.331\"/>\r\n",
       "<polygon fill=\"black\" stroke=\"black\" points=\"360.323,-316.202 363.254,-306.021 354.614,-312.152 360.323,-316.202\"/>\r\n",
       "</g>\r\n",
       "<!-- 3 -->\r\n",
       "<g id=\"node4\" class=\"node\"><title>3</title>\r\n",
       "<polygon fill=\"#e58139\" stroke=\"black\" points=\"140,-179.5 0,-179.5 0,-111.5 140,-111.5 140,-179.5\"/>\r\n",
       "<text text-anchor=\"start\" x=\"47\" y=\"-164.3\" font-family=\"Times New Roman,serif\" font-size=\"14.00\">node #3</text>\r\n",
       "<text text-anchor=\"start\" x=\"32.5\" y=\"-149.3\" font-family=\"Times New Roman,serif\" font-size=\"14.00\">samples = 16</text>\r\n",
       "<text text-anchor=\"start\" x=\"8\" y=\"-134.3\" font-family=\"Times New Roman,serif\" font-size=\"14.00\">value = [16, 0, 0, 0, 0]</text>\r\n",
       "<text text-anchor=\"start\" x=\"30.5\" y=\"-119.3\" font-family=\"Times New Roman,serif\" font-size=\"14.00\">class = drugA</text>\r\n",
       "</g>\r\n",
       "<!-- 2&#45;&gt;3 -->\r\n",
       "<g id=\"edge3\" class=\"edge\"><title>2&#45;&gt;3</title>\r\n",
       "<path fill=\"none\" stroke=\"black\" d=\"M172.53,-222.907C156.39,-210.88 138.751,-197.735 122.724,-185.791\"/>\r\n",
       "<polygon fill=\"black\" stroke=\"black\" points=\"124.616,-182.836 114.506,-179.667 120.433,-188.449 124.616,-182.836\"/>\r\n",
       "</g>\r\n",
       "<!-- 4 -->\r\n",
       "<g id=\"node5\" class=\"node\"><title>4</title>\r\n",
       "<polygon fill=\"#7be539\" stroke=\"black\" points=\"298,-179.5 158,-179.5 158,-111.5 298,-111.5 298,-179.5\"/>\r\n",
       "<text text-anchor=\"start\" x=\"205\" y=\"-164.3\" font-family=\"Times New Roman,serif\" font-size=\"14.00\">node #4</text>\r\n",
       "<text text-anchor=\"start\" x=\"190.5\" y=\"-149.3\" font-family=\"Times New Roman,serif\" font-size=\"14.00\">samples = 11</text>\r\n",
       "<text text-anchor=\"start\" x=\"166\" y=\"-134.3\" font-family=\"Times New Roman,serif\" font-size=\"14.00\">value = [0, 11, 0, 0, 0]</text>\r\n",
       "<text text-anchor=\"start\" x=\"188.5\" y=\"-119.3\" font-family=\"Times New Roman,serif\" font-size=\"14.00\">class = drugB</text>\r\n",
       "</g>\r\n",
       "<!-- 2&#45;&gt;4 -->\r\n",
       "<g id=\"edge4\" class=\"edge\"><title>2&#45;&gt;4</title>\r\n",
       "<path fill=\"none\" stroke=\"black\" d=\"M227.347,-222.907C227.438,-212.204 227.537,-200.615 227.63,-189.776\"/>\r\n",
       "<polygon fill=\"black\" stroke=\"black\" points=\"231.131,-189.697 227.717,-179.667 224.131,-189.637 231.131,-189.697\"/>\r\n",
       "</g>\r\n",
       "<!-- 6 -->\r\n",
       "<g id=\"node7\" class=\"node\"><title>6</title>\r\n",
       "<polygon fill=\"#edfdfa\" stroke=\"black\" points=\"464.5,-187 317.5,-187 317.5,-104 464.5,-104 464.5,-187\"/>\r\n",
       "<text text-anchor=\"start\" x=\"368\" y=\"-171.8\" font-family=\"Times New Roman,serif\" font-size=\"14.00\">node #6</text>\r\n",
       "<text text-anchor=\"start\" x=\"366\" y=\"-156.8\" font-family=\"Times New Roman,serif\" font-size=\"14.00\">BP ≤ 1.5</text>\r\n",
       "<text text-anchor=\"start\" x=\"353.5\" y=\"-141.8\" font-family=\"Times New Roman,serif\" font-size=\"14.00\">samples = 21</text>\r\n",
       "<text text-anchor=\"start\" x=\"325.5\" y=\"-126.8\" font-family=\"Times New Roman,serif\" font-size=\"14.00\">value = [0, 0, 11, 10, 0]</text>\r\n",
       "<text text-anchor=\"start\" x=\"351.5\" y=\"-111.8\" font-family=\"Times New Roman,serif\" font-size=\"14.00\">class = drugC</text>\r\n",
       "</g>\r\n",
       "<!-- 5&#45;&gt;6 -->\r\n",
       "<g id=\"edge6\" class=\"edge\"><title>5&#45;&gt;6</title>\r\n",
       "<path fill=\"none\" stroke=\"black\" d=\"M391.653,-222.907C391.582,-214.649 391.507,-205.864 391.434,-197.302\"/>\r\n",
       "<polygon fill=\"black\" stroke=\"black\" points=\"394.932,-196.99 391.346,-187.021 387.932,-197.05 394.932,-196.99\"/>\r\n",
       "</g>\r\n",
       "<!-- 9 -->\r\n",
       "<g id=\"node10\" class=\"node\"><title>9</title>\r\n",
       "<polygon fill=\"#3c39e5\" stroke=\"black\" points=\"623,-179.5 483,-179.5 483,-111.5 623,-111.5 623,-179.5\"/>\r\n",
       "<text text-anchor=\"start\" x=\"530\" y=\"-164.3\" font-family=\"Times New Roman,serif\" font-size=\"14.00\">node #9</text>\r\n",
       "<text text-anchor=\"start\" x=\"515.5\" y=\"-149.3\" font-family=\"Times New Roman,serif\" font-size=\"14.00\">samples = 23</text>\r\n",
       "<text text-anchor=\"start\" x=\"491\" y=\"-134.3\" font-family=\"Times New Roman,serif\" font-size=\"14.00\">value = [0, 0, 0, 23, 0]</text>\r\n",
       "<text text-anchor=\"start\" x=\"513.5\" y=\"-119.3\" font-family=\"Times New Roman,serif\" font-size=\"14.00\">class = drugX</text>\r\n",
       "</g>\r\n",
       "<!-- 5&#45;&gt;9 -->\r\n",
       "<g id=\"edge9\" class=\"edge\"><title>5&#45;&gt;9</title>\r\n",
       "<path fill=\"none\" stroke=\"black\" d=\"M447.858,-222.907C464.409,-210.88 482.498,-197.735 498.933,-185.791\"/>\r\n",
       "<polygon fill=\"black\" stroke=\"black\" points=\"501.328,-188.377 507.36,-179.667 497.213,-182.714 501.328,-188.377\"/>\r\n",
       "</g>\r\n",
       "<!-- 7 -->\r\n",
       "<g id=\"node8\" class=\"node\"><title>7</title>\r\n",
       "<polygon fill=\"#39e5c5\" stroke=\"black\" points=\"382,-68 242,-68 242,-0 382,-0 382,-68\"/>\r\n",
       "<text text-anchor=\"start\" x=\"289\" y=\"-52.8\" font-family=\"Times New Roman,serif\" font-size=\"14.00\">node #7</text>\r\n",
       "<text text-anchor=\"start\" x=\"274.5\" y=\"-37.8\" font-family=\"Times New Roman,serif\" font-size=\"14.00\">samples = 11</text>\r\n",
       "<text text-anchor=\"start\" x=\"250\" y=\"-22.8\" font-family=\"Times New Roman,serif\" font-size=\"14.00\">value = [0, 0, 11, 0, 0]</text>\r\n",
       "<text text-anchor=\"start\" x=\"272.5\" y=\"-7.8\" font-family=\"Times New Roman,serif\" font-size=\"14.00\">class = drugC</text>\r\n",
       "</g>\r\n",
       "<!-- 6&#45;&gt;7 -->\r\n",
       "<g id=\"edge7\" class=\"edge\"><title>6&#45;&gt;7</title>\r\n",
       "<path fill=\"none\" stroke=\"black\" d=\"M361.583,-103.726C355.2,-94.879 348.441,-85.51 342.035,-76.6303\"/>\r\n",
       "<polygon fill=\"black\" stroke=\"black\" points=\"344.714,-74.3615 336.024,-68.2996 339.037,-78.4571 344.714,-74.3615\"/>\r\n",
       "</g>\r\n",
       "<!-- 8 -->\r\n",
       "<g id=\"node9\" class=\"node\"><title>8</title>\r\n",
       "<polygon fill=\"#3c39e5\" stroke=\"black\" points=\"540,-68 400,-68 400,-0 540,-0 540,-68\"/>\r\n",
       "<text text-anchor=\"start\" x=\"447\" y=\"-52.8\" font-family=\"Times New Roman,serif\" font-size=\"14.00\">node #8</text>\r\n",
       "<text text-anchor=\"start\" x=\"432.5\" y=\"-37.8\" font-family=\"Times New Roman,serif\" font-size=\"14.00\">samples = 10</text>\r\n",
       "<text text-anchor=\"start\" x=\"408\" y=\"-22.8\" font-family=\"Times New Roman,serif\" font-size=\"14.00\">value = [0, 0, 0, 10, 0]</text>\r\n",
       "<text text-anchor=\"start\" x=\"430.5\" y=\"-7.8\" font-family=\"Times New Roman,serif\" font-size=\"14.00\">class = drugX</text>\r\n",
       "</g>\r\n",
       "<!-- 6&#45;&gt;8 -->\r\n",
       "<g id=\"edge8\" class=\"edge\"><title>6&#45;&gt;8</title>\r\n",
       "<path fill=\"none\" stroke=\"black\" d=\"M420.417,-103.726C426.8,-94.879 433.559,-85.51 439.965,-76.6303\"/>\r\n",
       "<polygon fill=\"black\" stroke=\"black\" points=\"442.963,-78.4571 445.976,-68.2996 437.286,-74.3615 442.963,-78.4571\"/>\r\n",
       "</g>\r\n",
       "</g>\r\n",
       "</svg>\r\n"
      ],
      "text/plain": [
       "<graphviz.files.Source at 0x1f64d5a7a60>"
      ]
     },
     "execution_count": 27,
     "metadata": {},
     "output_type": "execute_result"
    }
   ],
   "source": [
    "featureNames = my_data.columns[0:5]\n",
    "cay_graph = export_graphviz(drugTree,\n",
    "                feature_names = featureNames,\n",
    "                class_names=drugTree.classes_,\n",
    "                filled = True,\n",
    "                node_ids = True,\n",
    "                special_characters = True,\n",
    "                impurity = False,\n",
    "                label = 'all',\n",
    "                leaves_parallel = False)\n",
    "graphviz.Source(cay_graph)"
   ]
  },
  {
   "cell_type": "code",
   "execution_count": 28,
   "metadata": {},
   "outputs": [],
   "source": [
    "from sklearn.metrics import classification_report\n",
    "from sklearn.tree import plot_tree"
   ]
  },
  {
   "cell_type": "code",
   "execution_count": 31,
   "metadata": {},
   "outputs": [
    {
     "data": {
      "image/png": "[encoded data removed]",
      "text/plain": [
       "<Figure size 1200x1200 with 1 Axes>"
      ]
     },
     "metadata": {
      "needs_background": "light"
     },
     "output_type": "display_data"
    }
   ],
   "source": [
    "plt.figure(figsize = (8,8), dpi = 150)\n",
    "plot_tree(drugTree,\n",
    "         filled = True,\n",
    "         class_names=drugTree.classes_,\n",
    "         feature_names=X.columns);"
   ]
  },
  {
   "cell_type": "code",
   "execution_count": 32,
   "metadata": {},
   "outputs": [
    {
     "data": {
      "text/html": [
       "<div>\n",
       "<style scoped>\n",
       "    .dataframe tbody tr th:only-of-type {\n",
       "        vertical-align: middle;\n",
       "    }\n",
       "\n",
       "    .dataframe tbody tr th {\n",
       "        vertical-align: top;\n",
       "    }\n",
       "\n",
       "    .dataframe thead th {\n",
       "        text-align: right;\n",
       "    }\n",
       "</style>\n",
       "<table border=\"1\" class=\"dataframe\">\n",
       "  <thead>\n",
       "    <tr style=\"text-align: right;\">\n",
       "      <th></th>\n",
       "      <th>Age</th>\n",
       "      <th>Sex</th>\n",
       "      <th>BP</th>\n",
       "      <th>Cholesterol</th>\n",
       "      <th>Na_to_K</th>\n",
       "      <th>Drug</th>\n",
       "    </tr>\n",
       "  </thead>\n",
       "  <tbody>\n",
       "    <tr>\n",
       "      <th>0</th>\n",
       "      <td>23</td>\n",
       "      <td>F</td>\n",
       "      <td>HIGH</td>\n",
       "      <td>HIGH</td>\n",
       "      <td>25.355</td>\n",
       "      <td>drugY</td>\n",
       "    </tr>\n",
       "    <tr>\n",
       "      <th>1</th>\n",
       "      <td>47</td>\n",
       "      <td>M</td>\n",
       "      <td>LOW</td>\n",
       "      <td>HIGH</td>\n",
       "      <td>13.093</td>\n",
       "      <td>drugC</td>\n",
       "    </tr>\n",
       "    <tr>\n",
       "      <th>2</th>\n",
       "      <td>47</td>\n",
       "      <td>M</td>\n",
       "      <td>LOW</td>\n",
       "      <td>HIGH</td>\n",
       "      <td>10.114</td>\n",
       "      <td>drugC</td>\n",
       "    </tr>\n",
       "    <tr>\n",
       "      <th>3</th>\n",
       "      <td>28</td>\n",
       "      <td>F</td>\n",
       "      <td>NORMAL</td>\n",
       "      <td>HIGH</td>\n",
       "      <td>7.798</td>\n",
       "      <td>drugX</td>\n",
       "    </tr>\n",
       "    <tr>\n",
       "      <th>4</th>\n",
       "      <td>61</td>\n",
       "      <td>F</td>\n",
       "      <td>LOW</td>\n",
       "      <td>HIGH</td>\n",
       "      <td>18.043</td>\n",
       "      <td>drugY</td>\n",
       "    </tr>\n",
       "  </tbody>\n",
       "</table>\n",
       "</div>"
      ],
      "text/plain": [
       "   Age Sex      BP Cholesterol  Na_to_K   Drug\n",
       "0   23   F    HIGH        HIGH   25.355  drugY\n",
       "1   47   M     LOW        HIGH   13.093  drugC\n",
       "2   47   M     LOW        HIGH   10.114  drugC\n",
       "3   28   F  NORMAL        HIGH    7.798  drugX\n",
       "4   61   F     LOW        HIGH   18.043  drugY"
      ]
     },
     "execution_count": 32,
     "metadata": {},
     "output_type": "execute_result"
    }
   ],
   "source": [
    "my_data.head()"
   ]
  },
  {
   "cell_type": "code",
   "execution_count": 33,
   "metadata": {},
   "outputs": [
    {
     "data": {
      "text/html": [
       "<div>\n",
       "<style scoped>\n",
       "    .dataframe tbody tr th:only-of-type {\n",
       "        vertical-align: middle;\n",
       "    }\n",
       "\n",
       "    .dataframe tbody tr th {\n",
       "        vertical-align: top;\n",
       "    }\n",
       "\n",
       "    .dataframe thead th {\n",
       "        text-align: right;\n",
       "    }\n",
       "</style>\n",
       "<table border=\"1\" class=\"dataframe\">\n",
       "  <thead>\n",
       "    <tr style=\"text-align: right;\">\n",
       "      <th></th>\n",
       "      <th>Age</th>\n",
       "      <th>BP</th>\n",
       "      <th>Cholesterol</th>\n",
       "      <th>Na_to_K</th>\n",
       "      <th>Sex_F</th>\n",
       "      <th>Sex_M</th>\n",
       "    </tr>\n",
       "  </thead>\n",
       "  <tbody>\n",
       "    <tr>\n",
       "      <th>0</th>\n",
       "      <td>23</td>\n",
       "      <td>HIGH</td>\n",
       "      <td>HIGH</td>\n",
       "      <td>25.355</td>\n",
       "      <td>1</td>\n",
       "      <td>0</td>\n",
       "    </tr>\n",
       "    <tr>\n",
       "      <th>1</th>\n",
       "      <td>47</td>\n",
       "      <td>LOW</td>\n",
       "      <td>HIGH</td>\n",
       "      <td>13.093</td>\n",
       "      <td>0</td>\n",
       "      <td>1</td>\n",
       "    </tr>\n",
       "    <tr>\n",
       "      <th>2</th>\n",
       "      <td>47</td>\n",
       "      <td>LOW</td>\n",
       "      <td>HIGH</td>\n",
       "      <td>10.114</td>\n",
       "      <td>0</td>\n",
       "      <td>1</td>\n",
       "    </tr>\n",
       "    <tr>\n",
       "      <th>3</th>\n",
       "      <td>28</td>\n",
       "      <td>NORMAL</td>\n",
       "      <td>HIGH</td>\n",
       "      <td>7.798</td>\n",
       "      <td>1</td>\n",
       "      <td>0</td>\n",
       "    </tr>\n",
       "    <tr>\n",
       "      <th>4</th>\n",
       "      <td>61</td>\n",
       "      <td>LOW</td>\n",
       "      <td>HIGH</td>\n",
       "      <td>18.043</td>\n",
       "      <td>1</td>\n",
       "      <td>0</td>\n",
       "    </tr>\n",
       "    <tr>\n",
       "      <th>...</th>\n",
       "      <td>...</td>\n",
       "      <td>...</td>\n",
       "      <td>...</td>\n",
       "      <td>...</td>\n",
       "      <td>...</td>\n",
       "      <td>...</td>\n",
       "    </tr>\n",
       "    <tr>\n",
       "      <th>195</th>\n",
       "      <td>56</td>\n",
       "      <td>LOW</td>\n",
       "      <td>HIGH</td>\n",
       "      <td>11.567</td>\n",
       "      <td>1</td>\n",
       "      <td>0</td>\n",
       "    </tr>\n",
       "    <tr>\n",
       "      <th>196</th>\n",
       "      <td>16</td>\n",
       "      <td>LOW</td>\n",
       "      <td>HIGH</td>\n",
       "      <td>12.006</td>\n",
       "      <td>0</td>\n",
       "      <td>1</td>\n",
       "    </tr>\n",
       "    <tr>\n",
       "      <th>197</th>\n",
       "      <td>52</td>\n",
       "      <td>NORMAL</td>\n",
       "      <td>HIGH</td>\n",
       "      <td>9.894</td>\n",
       "      <td>0</td>\n",
       "      <td>1</td>\n",
       "    </tr>\n",
       "    <tr>\n",
       "      <th>198</th>\n",
       "      <td>23</td>\n",
       "      <td>NORMAL</td>\n",
       "      <td>NORMAL</td>\n",
       "      <td>14.020</td>\n",
       "      <td>0</td>\n",
       "      <td>1</td>\n",
       "    </tr>\n",
       "    <tr>\n",
       "      <th>199</th>\n",
       "      <td>40</td>\n",
       "      <td>LOW</td>\n",
       "      <td>NORMAL</td>\n",
       "      <td>11.349</td>\n",
       "      <td>1</td>\n",
       "      <td>0</td>\n",
       "    </tr>\n",
       "  </tbody>\n",
       "</table>\n",
       "<p>200 rows × 6 columns</p>\n",
       "</div>"
      ],
      "text/plain": [
       "     Age      BP Cholesterol  Na_to_K  Sex_F  Sex_M\n",
       "0     23    HIGH        HIGH   25.355      1      0\n",
       "1     47     LOW        HIGH   13.093      0      1\n",
       "2     47     LOW        HIGH   10.114      0      1\n",
       "3     28  NORMAL        HIGH    7.798      1      0\n",
       "4     61     LOW        HIGH   18.043      1      0\n",
       "..   ...     ...         ...      ...    ...    ...\n",
       "195   56     LOW        HIGH   11.567      1      0\n",
       "196   16     LOW        HIGH   12.006      0      1\n",
       "197   52  NORMAL        HIGH    9.894      0      1\n",
       "198   23  NORMAL      NORMAL   14.020      0      1\n",
       "199   40     LOW      NORMAL   11.349      1      0\n",
       "\n",
       "[200 rows x 6 columns]"
      ]
     },
     "execution_count": 33,
     "metadata": {},
     "output_type": "execute_result"
    }
   ],
   "source": [
    "pd.get_dummies(my_data.drop('Drug', axis =1), columns=['Sex'])"
   ]
  },
  {
   "cell_type": "code",
   "execution_count": 34,
   "metadata": {},
   "outputs": [],
   "source": [
    "X = pd.get_dummies(my_data.drop('Drug', axis = 1))\n",
    "y = my_data.Drug"
   ]
  },
  {
   "cell_type": "code",
   "execution_count": 35,
   "metadata": {},
   "outputs": [
    {
     "data": {
      "text/html": [
       "<div>\n",
       "<style scoped>\n",
       "    .dataframe tbody tr th:only-of-type {\n",
       "        vertical-align: middle;\n",
       "    }\n",
       "\n",
       "    .dataframe tbody tr th {\n",
       "        vertical-align: top;\n",
       "    }\n",
       "\n",
       "    .dataframe thead th {\n",
       "        text-align: right;\n",
       "    }\n",
       "</style>\n",
       "<table border=\"1\" class=\"dataframe\">\n",
       "  <thead>\n",
       "    <tr style=\"text-align: right;\">\n",
       "      <th></th>\n",
       "      <th>Age</th>\n",
       "      <th>Na_to_K</th>\n",
       "      <th>Sex_F</th>\n",
       "      <th>Sex_M</th>\n",
       "      <th>BP_HIGH</th>\n",
       "      <th>BP_LOW</th>\n",
       "      <th>BP_NORMAL</th>\n",
       "      <th>Cholesterol_HIGH</th>\n",
       "      <th>Cholesterol_NORMAL</th>\n",
       "    </tr>\n",
       "  </thead>\n",
       "  <tbody>\n",
       "    <tr>\n",
       "      <th>0</th>\n",
       "      <td>23</td>\n",
       "      <td>25.355</td>\n",
       "      <td>1</td>\n",
       "      <td>0</td>\n",
       "      <td>1</td>\n",
       "      <td>0</td>\n",
       "      <td>0</td>\n",
       "      <td>1</td>\n",
       "      <td>0</td>\n",
       "    </tr>\n",
       "    <tr>\n",
       "      <th>1</th>\n",
       "      <td>47</td>\n",
       "      <td>13.093</td>\n",
       "      <td>0</td>\n",
       "      <td>1</td>\n",
       "      <td>0</td>\n",
       "      <td>1</td>\n",
       "      <td>0</td>\n",
       "      <td>1</td>\n",
       "      <td>0</td>\n",
       "    </tr>\n",
       "    <tr>\n",
       "      <th>2</th>\n",
       "      <td>47</td>\n",
       "      <td>10.114</td>\n",
       "      <td>0</td>\n",
       "      <td>1</td>\n",
       "      <td>0</td>\n",
       "      <td>1</td>\n",
       "      <td>0</td>\n",
       "      <td>1</td>\n",
       "      <td>0</td>\n",
       "    </tr>\n",
       "    <tr>\n",
       "      <th>3</th>\n",
       "      <td>28</td>\n",
       "      <td>7.798</td>\n",
       "      <td>1</td>\n",
       "      <td>0</td>\n",
       "      <td>0</td>\n",
       "      <td>0</td>\n",
       "      <td>1</td>\n",
       "      <td>1</td>\n",
       "      <td>0</td>\n",
       "    </tr>\n",
       "    <tr>\n",
       "      <th>4</th>\n",
       "      <td>61</td>\n",
       "      <td>18.043</td>\n",
       "      <td>1</td>\n",
       "      <td>0</td>\n",
       "      <td>0</td>\n",
       "      <td>1</td>\n",
       "      <td>0</td>\n",
       "      <td>1</td>\n",
       "      <td>0</td>\n",
       "    </tr>\n",
       "    <tr>\n",
       "      <th>...</th>\n",
       "      <td>...</td>\n",
       "      <td>...</td>\n",
       "      <td>...</td>\n",
       "      <td>...</td>\n",
       "      <td>...</td>\n",
       "      <td>...</td>\n",
       "      <td>...</td>\n",
       "      <td>...</td>\n",
       "      <td>...</td>\n",
       "    </tr>\n",
       "    <tr>\n",
       "      <th>195</th>\n",
       "      <td>56</td>\n",
       "      <td>11.567</td>\n",
       "      <td>1</td>\n",
       "      <td>0</td>\n",
       "      <td>0</td>\n",
       "      <td>1</td>\n",
       "      <td>0</td>\n",
       "      <td>1</td>\n",
       "      <td>0</td>\n",
       "    </tr>\n",
       "    <tr>\n",
       "      <th>196</th>\n",
       "      <td>16</td>\n",
       "      <td>12.006</td>\n",
       "      <td>0</td>\n",
       "      <td>1</td>\n",
       "      <td>0</td>\n",
       "      <td>1</td>\n",
       "      <td>0</td>\n",
       "      <td>1</td>\n",
       "      <td>0</td>\n",
       "    </tr>\n",
       "    <tr>\n",
       "      <th>197</th>\n",
       "      <td>52</td>\n",
       "      <td>9.894</td>\n",
       "      <td>0</td>\n",
       "      <td>1</td>\n",
       "      <td>0</td>\n",
       "      <td>0</td>\n",
       "      <td>1</td>\n",
       "      <td>1</td>\n",
       "      <td>0</td>\n",
       "    </tr>\n",
       "    <tr>\n",
       "      <th>198</th>\n",
       "      <td>23</td>\n",
       "      <td>14.020</td>\n",
       "      <td>0</td>\n",
       "      <td>1</td>\n",
       "      <td>0</td>\n",
       "      <td>0</td>\n",
       "      <td>1</td>\n",
       "      <td>0</td>\n",
       "      <td>1</td>\n",
       "    </tr>\n",
       "    <tr>\n",
       "      <th>199</th>\n",
       "      <td>40</td>\n",
       "      <td>11.349</td>\n",
       "      <td>1</td>\n",
       "      <td>0</td>\n",
       "      <td>0</td>\n",
       "      <td>1</td>\n",
       "      <td>0</td>\n",
       "      <td>0</td>\n",
       "      <td>1</td>\n",
       "    </tr>\n",
       "  </tbody>\n",
       "</table>\n",
       "<p>200 rows × 9 columns</p>\n",
       "</div>"
      ],
      "text/plain": [
       "     Age  Na_to_K  Sex_F  Sex_M  BP_HIGH  BP_LOW  BP_NORMAL  Cholesterol_HIGH  \\\n",
       "0     23   25.355      1      0        1       0          0                 1   \n",
       "1     47   13.093      0      1        0       1          0                 1   \n",
       "2     47   10.114      0      1        0       1          0                 1   \n",
       "3     28    7.798      1      0        0       0          1                 1   \n",
       "4     61   18.043      1      0        0       1          0                 1   \n",
       "..   ...      ...    ...    ...      ...     ...        ...               ...   \n",
       "195   56   11.567      1      0        0       1          0                 1   \n",
       "196   16   12.006      0      1        0       1          0                 1   \n",
       "197   52    9.894      0      1        0       0          1                 1   \n",
       "198   23   14.020      0      1        0       0          1                 0   \n",
       "199   40   11.349      1      0        0       1          0                 0   \n",
       "\n",
       "     Cholesterol_NORMAL  \n",
       "0                     0  \n",
       "1                     0  \n",
       "2                     0  \n",
       "3                     0  \n",
       "4                     0  \n",
       "..                  ...  \n",
       "195                   0  \n",
       "196                   0  \n",
       "197                   0  \n",
       "198                   1  \n",
       "199                   1  \n",
       "\n",
       "[200 rows x 9 columns]"
      ]
     },
     "execution_count": 35,
     "metadata": {},
     "output_type": "execute_result"
    }
   ],
   "source": [
    "X"
   ]
  },
  {
   "cell_type": "code",
   "execution_count": 44,
   "metadata": {},
   "outputs": [],
   "source": [
    "xtrain, xtest, ytrain, ytest = train_test_split(X, y, test_size=0.2)"
   ]
  },
  {
   "cell_type": "code",
   "execution_count": 50,
   "metadata": {},
   "outputs": [],
   "source": [
    "model = DecisionTreeClassifier(max_depth= 4, max_leaf_nodes= 10)"
   ]
  },
  {
   "cell_type": "code",
   "execution_count": 51,
   "metadata": {},
   "outputs": [
    {
     "data": {
      "text/plain": [
       "DecisionTreeClassifier(max_depth=4, max_leaf_nodes=10)"
      ]
     },
     "execution_count": 51,
     "metadata": {},
     "output_type": "execute_result"
    }
   ],
   "source": [
    "model.fit(xtrain, ytrain)"
   ]
  },
  {
   "cell_type": "code",
   "execution_count": 52,
   "metadata": {},
   "outputs": [],
   "source": [
    "ypred = model.predict(xtest)"
   ]
  },
  {
   "cell_type": "code",
   "execution_count": 53,
   "metadata": {},
   "outputs": [
    {
     "name": "stdout",
     "output_type": "stream",
     "text": [
      "              precision    recall  f1-score   support\n",
      "\n",
      "       drugA       1.00      1.00      1.00         5\n",
      "       drugB       1.00      1.00      1.00         2\n",
      "       drugC       1.00      1.00      1.00         3\n",
      "       drugX       1.00      1.00      1.00        11\n",
      "       drugY       1.00      1.00      1.00        19\n",
      "\n",
      "    accuracy                           1.00        40\n",
      "   macro avg       1.00      1.00      1.00        40\n",
      "weighted avg       1.00      1.00      1.00        40\n",
      "\n"
     ]
    }
   ],
   "source": [
    "print(classification_report(ytest, ypred))"
   ]
  },
  {
   "cell_type": "code",
   "execution_count": 54,
   "metadata": {},
   "outputs": [
    {
     "data": {
      "text/plain": [
       "<sklearn.metrics._plot.confusion_matrix.ConfusionMatrixDisplay at 0x1f64d550190>"
      ]
     },
     "execution_count": 54,
     "metadata": {},
     "output_type": "execute_result"
    },
    {
     "data": {
      "image/png": "[encoded data removed]",
      "text/plain": [
       "<Figure size 432x288 with 2 Axes>"
      ]
     },
     "metadata": {
      "needs_background": "light"
     },
     "output_type": "display_data"
    }
   ],
   "source": [
    "plot_confusion_matrix(model, xtrain, ytrain)"
   ]
  },
  {
   "cell_type": "code",
   "execution_count": 55,
   "metadata": {},
   "outputs": [
    {
     "data": {
      "text/plain": [
       "array(['drugA', 'drugB', 'drugC', 'drugX', 'drugY'], dtype=object)"
      ]
     },
     "execution_count": 55,
     "metadata": {},
     "output_type": "execute_result"
    }
   ],
   "source": [
    "model.classes_"
   ]
  },
  {
   "cell_type": "code",
   "execution_count": 56,
   "metadata": {},
   "outputs": [
    {
     "data": {
      "text/plain": [
       "Index(['Age', 'Sex', 'BP', 'Cholesterol', 'Na_to_K', 'Drug'], dtype='object')"
      ]
     },
     "execution_count": 56,
     "metadata": {},
     "output_type": "execute_result"
    }
   ],
   "source": [
    "my_data.columns"
   ]
  },
  {
   "cell_type": "code",
   "execution_count": 58,
   "metadata": {},
   "outputs": [
    {
     "data": {
      "image/png": "[encoded data removed]",
      "text/plain": [
       "<Figure size 1950x1950 with 1 Axes>"
      ]
     },
     "metadata": {
      "needs_background": "light"
     },
     "output_type": "display_data"
    }
   ],
   "source": [
    "plt.figure(figsize = (13,13),dpi = 150)\n",
    "plot_tree(model, filled=True, feature_names=X.columns, class_names=model.classes_);"
   ]
  },
  {
   "cell_type": "code",
   "execution_count": 60,
   "metadata": {},
   "outputs": [
    {
     "data": {
      "text/plain": [
       "array(['drugA', 'drugB', 'drugC', 'drugX', 'drugY'], dtype=object)"
      ]
     },
     "execution_count": 60,
     "metadata": {},
     "output_type": "execute_result"
    }
   ],
   "source": [
    "model.classes_"
   ]
  },
  {
   "cell_type": "code",
   "execution_count": 60,
   "metadata": {},
   "outputs": [
    {
     "data": {
      "image/svg+xml": [
       "<?xml version=\"1.0\" encoding=\"UTF-8\" standalone=\"no\"?>\r\n",
       "<!DOCTYPE svg PUBLIC \"-//W3C//DTD SVG 1.1//EN\"\r\n",
       " \"http://www.w3.org/Graphics/SVG/1.1/DTD/svg11.dtd\">\r\n",
       "<!-- Generated by graphviz version 2.38.0 (20140413.2041)\r\n",
       " -->\r\n",
       "<!-- Title: Tree Pages: 1 -->\r\n",
       "<svg width=\"636pt\" height=\"552pt\"\r\n",
       " viewBox=\"0.00 0.00 636.00 552.00\" xmlns=\"http://www.w3.org/2000/svg\" xmlns:xlink=\"http://www.w3.org/1999/xlink\">\r\n",
       "<g id=\"graph0\" class=\"graph\" transform=\"scale(1 1) rotate(0) translate(4 548)\">\r\n",
       "<title>Tree</title>\r\n",
       "<polygon fill=\"white\" stroke=\"none\" points=\"-4,4 -4,-548 632,-548 632,4 -4,4\"/>\r\n",
       "<!-- 0 -->\r\n",
       "<g id=\"node1\" class=\"node\"><title>0</title>\r\n",
       "<polygon fill=\"#f9ceef\" stroke=\"black\" points=\"483.5,-544 316.5,-544 316.5,-461 483.5,-461 483.5,-544\"/>\r\n",
       "<text text-anchor=\"middle\" x=\"400\" y=\"-528.8\" font-family=\"Times New Roman,serif\" font-size=\"14.00\">Na_to_K &lt;= 14.829</text>\r\n",
       "<text text-anchor=\"middle\" x=\"400\" y=\"-513.8\" font-family=\"Times New Roman,serif\" font-size=\"14.00\">gini = 0.698</text>\r\n",
       "<text text-anchor=\"middle\" x=\"400\" y=\"-498.8\" font-family=\"Times New Roman,serif\" font-size=\"14.00\">samples = 160</text>\r\n",
       "<text text-anchor=\"middle\" x=\"400\" y=\"-483.8\" font-family=\"Times New Roman,serif\" font-size=\"14.00\">value = [18, 14, 13, 43, 72]</text>\r\n",
       "<text text-anchor=\"middle\" x=\"400\" y=\"-468.8\" font-family=\"Times New Roman,serif\" font-size=\"14.00\">class = drugY</text>\r\n",
       "</g>\r\n",
       "<!-- 1 -->\r\n",
       "<g id=\"node2\" class=\"node\"><title>1</title>\r\n",
       "<polygon fill=\"#b9b8f6\" stroke=\"black\" points=\"396.5,-425 235.5,-425 235.5,-342 396.5,-342 396.5,-425\"/>\r\n",
       "<text text-anchor=\"middle\" x=\"316\" y=\"-409.8\" font-family=\"Times New Roman,serif\" font-size=\"14.00\">BP_HIGH &lt;= 0.5</text>\r\n",
       "<text text-anchor=\"middle\" x=\"316\" y=\"-394.8\" font-family=\"Times New Roman,serif\" font-size=\"14.00\">gini = 0.672</text>\r\n",
       "<text text-anchor=\"middle\" x=\"316\" y=\"-379.8\" font-family=\"Times New Roman,serif\" font-size=\"14.00\">samples = 88</text>\r\n",
       "<text text-anchor=\"middle\" x=\"316\" y=\"-364.8\" font-family=\"Times New Roman,serif\" font-size=\"14.00\">value = [18, 14, 13, 43, 0]</text>\r\n",
       "<text text-anchor=\"middle\" x=\"316\" y=\"-349.8\" font-family=\"Times New Roman,serif\" font-size=\"14.00\">class = drugX</text>\r\n",
       "</g>\r\n",
       "<!-- 0&#45;&gt;1 -->\r\n",
       "<g id=\"edge1\" class=\"edge\"><title>0&#45;&gt;1</title>\r\n",
       "<path fill=\"none\" stroke=\"black\" d=\"M370.857,-460.907C364.471,-452.014 357.648,-442.509 351.058,-433.331\"/>\r\n",
       "<polygon fill=\"black\" stroke=\"black\" points=\"353.767,-431.103 345.092,-425.021 348.081,-435.185 353.767,-431.103\"/>\r\n",
       "<text text-anchor=\"middle\" x=\"341.042\" y=\"-445.991\" font-family=\"Times New Roman,serif\" font-size=\"14.00\">True</text>\r\n",
       "</g>\r\n",
       "<!-- 2 -->\r\n",
       "<g id=\"node11\" class=\"node\"><title>2</title>\r\n",
       "<polygon fill=\"#e539c0\" stroke=\"black\" points=\"555,-417.5 415,-417.5 415,-349.5 555,-349.5 555,-417.5\"/>\r\n",
       "<text text-anchor=\"middle\" x=\"485\" y=\"-402.3\" font-family=\"Times New Roman,serif\" font-size=\"14.00\">gini = 0.0</text>\r\n",
       "<text text-anchor=\"middle\" x=\"485\" y=\"-387.3\" font-family=\"Times New Roman,serif\" font-size=\"14.00\">samples = 72</text>\r\n",
       "<text text-anchor=\"middle\" x=\"485\" y=\"-372.3\" font-family=\"Times New Roman,serif\" font-size=\"14.00\">value = [0, 0, 0, 0, 72]</text>\r\n",
       "<text text-anchor=\"middle\" x=\"485\" y=\"-357.3\" font-family=\"Times New Roman,serif\" font-size=\"14.00\">class = drugY</text>\r\n",
       "</g>\r\n",
       "<!-- 0&#45;&gt;2 -->\r\n",
       "<g id=\"edge10\" class=\"edge\"><title>0&#45;&gt;2</title>\r\n",
       "<path fill=\"none\" stroke=\"black\" d=\"M429.49,-460.907C437.747,-449.542 446.729,-437.178 455.015,-425.774\"/>\r\n",
       "<polygon fill=\"black\" stroke=\"black\" points=\"457.858,-427.814 460.904,-417.667 452.195,-423.7 457.858,-427.814\"/>\r\n",
       "<text text-anchor=\"middle\" x=\"464.816\" y=\"-438.659\" font-family=\"Times New Roman,serif\" font-size=\"14.00\">False</text>\r\n",
       "</g>\r\n",
       "<!-- 3 -->\r\n",
       "<g id=\"node3\" class=\"node\"><title>3</title>\r\n",
       "<polygon fill=\"#7775ed\" stroke=\"black\" points=\"311,-306 147,-306 147,-223 311,-223 311,-306\"/>\r\n",
       "<text text-anchor=\"middle\" x=\"229\" y=\"-290.8\" font-family=\"Times New Roman,serif\" font-size=\"14.00\">Cholesterol_HIGH &lt;= 0.5</text>\r\n",
       "<text text-anchor=\"middle\" x=\"229\" y=\"-275.8\" font-family=\"Times New Roman,serif\" font-size=\"14.00\">gini = 0.357</text>\r\n",
       "<text text-anchor=\"middle\" x=\"229\" y=\"-260.8\" font-family=\"Times New Roman,serif\" font-size=\"14.00\">samples = 56</text>\r\n",
       "<text text-anchor=\"middle\" x=\"229\" y=\"-245.8\" font-family=\"Times New Roman,serif\" font-size=\"14.00\">value = [0, 0, 13, 43, 0]</text>\r\n",
       "<text text-anchor=\"middle\" x=\"229\" y=\"-230.8\" font-family=\"Times New Roman,serif\" font-size=\"14.00\">class = drugX</text>\r\n",
       "</g>\r\n",
       "<!-- 1&#45;&gt;3 -->\r\n",
       "<g id=\"edge2\" class=\"edge\"><title>1&#45;&gt;3</title>\r\n",
       "<path fill=\"none\" stroke=\"black\" d=\"M285.816,-341.907C279.135,-332.923 271.991,-323.315 265.101,-314.05\"/>\r\n",
       "<polygon fill=\"black\" stroke=\"black\" points=\"267.907,-311.957 259.131,-306.021 262.289,-316.134 267.907,-311.957\"/>\r\n",
       "</g>\r\n",
       "<!-- 4 -->\r\n",
       "<g id=\"node8\" class=\"node\"><title>4</title>\r\n",
       "<polygon fill=\"#f9e3d3\" stroke=\"black\" points=\"476.5,-306 329.5,-306 329.5,-223 476.5,-223 476.5,-306\"/>\r\n",
       "<text text-anchor=\"middle\" x=\"403\" y=\"-290.8\" font-family=\"Times New Roman,serif\" font-size=\"14.00\">Age &lt;= 50.5</text>\r\n",
       "<text text-anchor=\"middle\" x=\"403\" y=\"-275.8\" font-family=\"Times New Roman,serif\" font-size=\"14.00\">gini = 0.492</text>\r\n",
       "<text text-anchor=\"middle\" x=\"403\" y=\"-260.8\" font-family=\"Times New Roman,serif\" font-size=\"14.00\">samples = 32</text>\r\n",
       "<text text-anchor=\"middle\" x=\"403\" y=\"-245.8\" font-family=\"Times New Roman,serif\" font-size=\"14.00\">value = [18, 14, 0, 0, 0]</text>\r\n",
       "<text text-anchor=\"middle\" x=\"403\" y=\"-230.8\" font-family=\"Times New Roman,serif\" font-size=\"14.00\">class = drugA</text>\r\n",
       "</g>\r\n",
       "<!-- 1&#45;&gt;4 -->\r\n",
       "<g id=\"edge7\" class=\"edge\"><title>1&#45;&gt;4</title>\r\n",
       "<path fill=\"none\" stroke=\"black\" d=\"M346.184,-341.907C352.865,-332.923 360.009,-323.315 366.899,-314.05\"/>\r\n",
       "<polygon fill=\"black\" stroke=\"black\" points=\"369.711,-316.134 372.869,-306.021 364.093,-311.957 369.711,-316.134\"/>\r\n",
       "</g>\r\n",
       "<!-- 7 -->\r\n",
       "<g id=\"node4\" class=\"node\"><title>7</title>\r\n",
       "<polygon fill=\"#3c39e5\" stroke=\"black\" points=\"140,-179.5 0,-179.5 0,-111.5 140,-111.5 140,-179.5\"/>\r\n",
       "<text text-anchor=\"middle\" x=\"70\" y=\"-164.3\" font-family=\"Times New Roman,serif\" font-size=\"14.00\">gini = 0.0</text>\r\n",
       "<text text-anchor=\"middle\" x=\"70\" y=\"-149.3\" font-family=\"Times New Roman,serif\" font-size=\"14.00\">samples = 28</text>\r\n",
       "<text text-anchor=\"middle\" x=\"70\" y=\"-134.3\" font-family=\"Times New Roman,serif\" font-size=\"14.00\">value = [0, 0, 0, 28, 0]</text>\r\n",
       "<text text-anchor=\"middle\" x=\"70\" y=\"-119.3\" font-family=\"Times New Roman,serif\" font-size=\"14.00\">class = drugX</text>\r\n",
       "</g>\r\n",
       "<!-- 3&#45;&gt;7 -->\r\n",
       "<g id=\"edge3\" class=\"edge\"><title>3&#45;&gt;7</title>\r\n",
       "<path fill=\"none\" stroke=\"black\" d=\"M173.836,-222.907C157.491,-210.88 139.626,-197.735 123.395,-185.791\"/>\r\n",
       "<polygon fill=\"black\" stroke=\"black\" points=\"125.202,-182.775 115.073,-179.667 121.053,-188.413 125.202,-182.775\"/>\r\n",
       "</g>\r\n",
       "<!-- 8 -->\r\n",
       "<g id=\"node5\" class=\"node\"><title>8</title>\r\n",
       "<polygon fill=\"#e5e5fc\" stroke=\"black\" points=\"305.5,-187 158.5,-187 158.5,-104 305.5,-104 305.5,-187\"/>\r\n",
       "<text text-anchor=\"middle\" x=\"232\" y=\"-171.8\" font-family=\"Times New Roman,serif\" font-size=\"14.00\">BP_LOW &lt;= 0.5</text>\r\n",
       "<text text-anchor=\"middle\" x=\"232\" y=\"-156.8\" font-family=\"Times New Roman,serif\" font-size=\"14.00\">gini = 0.497</text>\r\n",
       "<text text-anchor=\"middle\" x=\"232\" y=\"-141.8\" font-family=\"Times New Roman,serif\" font-size=\"14.00\">samples = 28</text>\r\n",
       "<text text-anchor=\"middle\" x=\"232\" y=\"-126.8\" font-family=\"Times New Roman,serif\" font-size=\"14.00\">value = [0, 0, 13, 15, 0]</text>\r\n",
       "<text text-anchor=\"middle\" x=\"232\" y=\"-111.8\" font-family=\"Times New Roman,serif\" font-size=\"14.00\">class = drugX</text>\r\n",
       "</g>\r\n",
       "<!-- 3&#45;&gt;8 -->\r\n",
       "<g id=\"edge4\" class=\"edge\"><title>3&#45;&gt;8</title>\r\n",
       "<path fill=\"none\" stroke=\"black\" d=\"M230.041,-222.907C230.255,-214.558 230.483,-205.671 230.705,-197.02\"/>\r\n",
       "<polygon fill=\"black\" stroke=\"black\" points=\"234.203,-197.107 230.961,-187.021 227.206,-196.928 234.203,-197.107\"/>\r\n",
       "</g>\r\n",
       "<!-- 9 -->\r\n",
       "<g id=\"node6\" class=\"node\"><title>9</title>\r\n",
       "<polygon fill=\"#3c39e5\" stroke=\"black\" points=\"223,-68 83,-68 83,-0 223,-0 223,-68\"/>\r\n",
       "<text text-anchor=\"middle\" x=\"153\" y=\"-52.8\" font-family=\"Times New Roman,serif\" font-size=\"14.00\">gini = 0.0</text>\r\n",
       "<text text-anchor=\"middle\" x=\"153\" y=\"-37.8\" font-family=\"Times New Roman,serif\" font-size=\"14.00\">samples = 15</text>\r\n",
       "<text text-anchor=\"middle\" x=\"153\" y=\"-22.8\" font-family=\"Times New Roman,serif\" font-size=\"14.00\">value = [0, 0, 0, 15, 0]</text>\r\n",
       "<text text-anchor=\"middle\" x=\"153\" y=\"-7.8\" font-family=\"Times New Roman,serif\" font-size=\"14.00\">class = drugX</text>\r\n",
       "</g>\r\n",
       "<!-- 8&#45;&gt;9 -->\r\n",
       "<g id=\"edge5\" class=\"edge\"><title>8&#45;&gt;9</title>\r\n",
       "<path fill=\"none\" stroke=\"black\" d=\"M202.583,-103.726C196.2,-94.879 189.441,-85.51 183.035,-76.6303\"/>\r\n",
       "<polygon fill=\"black\" stroke=\"black\" points=\"185.714,-74.3615 177.024,-68.2996 180.037,-78.4571 185.714,-74.3615\"/>\r\n",
       "</g>\r\n",
       "<!-- 10 -->\r\n",
       "<g id=\"node7\" class=\"node\"><title>10</title>\r\n",
       "<polygon fill=\"#39e5c5\" stroke=\"black\" points=\"381,-68 241,-68 241,-0 381,-0 381,-68\"/>\r\n",
       "<text text-anchor=\"middle\" x=\"311\" y=\"-52.8\" font-family=\"Times New Roman,serif\" font-size=\"14.00\">gini = 0.0</text>\r\n",
       "<text text-anchor=\"middle\" x=\"311\" y=\"-37.8\" font-family=\"Times New Roman,serif\" font-size=\"14.00\">samples = 13</text>\r\n",
       "<text text-anchor=\"middle\" x=\"311\" y=\"-22.8\" font-family=\"Times New Roman,serif\" font-size=\"14.00\">value = [0, 0, 13, 0, 0]</text>\r\n",
       "<text text-anchor=\"middle\" x=\"311\" y=\"-7.8\" font-family=\"Times New Roman,serif\" font-size=\"14.00\">class = drugC</text>\r\n",
       "</g>\r\n",
       "<!-- 8&#45;&gt;10 -->\r\n",
       "<g id=\"edge6\" class=\"edge\"><title>8&#45;&gt;10</title>\r\n",
       "<path fill=\"none\" stroke=\"black\" d=\"M261.417,-103.726C267.8,-94.879 274.559,-85.51 280.965,-76.6303\"/>\r\n",
       "<polygon fill=\"black\" stroke=\"black\" points=\"283.963,-78.4571 286.976,-68.2996 278.286,-74.3615 283.963,-78.4571\"/>\r\n",
       "</g>\r\n",
       "<!-- 5 -->\r\n",
       "<g id=\"node9\" class=\"node\"><title>5</title>\r\n",
       "<polygon fill=\"#e58139\" stroke=\"black\" points=\"470,-179.5 330,-179.5 330,-111.5 470,-111.5 470,-179.5\"/>\r\n",
       "<text text-anchor=\"middle\" x=\"400\" y=\"-164.3\" font-family=\"Times New Roman,serif\" font-size=\"14.00\">gini = 0.0</text>\r\n",
       "<text text-anchor=\"middle\" x=\"400\" y=\"-149.3\" font-family=\"Times New Roman,serif\" font-size=\"14.00\">samples = 18</text>\r\n",
       "<text text-anchor=\"middle\" x=\"400\" y=\"-134.3\" font-family=\"Times New Roman,serif\" font-size=\"14.00\">value = [18, 0, 0, 0, 0]</text>\r\n",
       "<text text-anchor=\"middle\" x=\"400\" y=\"-119.3\" font-family=\"Times New Roman,serif\" font-size=\"14.00\">class = drugA</text>\r\n",
       "</g>\r\n",
       "<!-- 4&#45;&gt;5 -->\r\n",
       "<g id=\"edge8\" class=\"edge\"><title>4&#45;&gt;5</title>\r\n",
       "<path fill=\"none\" stroke=\"black\" d=\"M401.959,-222.907C401.685,-212.204 401.388,-200.615 401.11,-189.776\"/>\r\n",
       "<polygon fill=\"black\" stroke=\"black\" points=\"404.606,-189.574 400.85,-179.667 397.608,-189.753 404.606,-189.574\"/>\r\n",
       "</g>\r\n",
       "<!-- 6 -->\r\n",
       "<g id=\"node10\" class=\"node\"><title>6</title>\r\n",
       "<polygon fill=\"#7be539\" stroke=\"black\" points=\"628,-179.5 488,-179.5 488,-111.5 628,-111.5 628,-179.5\"/>\r\n",
       "<text text-anchor=\"middle\" x=\"558\" y=\"-164.3\" font-family=\"Times New Roman,serif\" font-size=\"14.00\">gini = 0.0</text>\r\n",
       "<text text-anchor=\"middle\" x=\"558\" y=\"-149.3\" font-family=\"Times New Roman,serif\" font-size=\"14.00\">samples = 14</text>\r\n",
       "<text text-anchor=\"middle\" x=\"558\" y=\"-134.3\" font-family=\"Times New Roman,serif\" font-size=\"14.00\">value = [0, 14, 0, 0, 0]</text>\r\n",
       "<text text-anchor=\"middle\" x=\"558\" y=\"-119.3\" font-family=\"Times New Roman,serif\" font-size=\"14.00\">class = drugB</text>\r\n",
       "</g>\r\n",
       "<!-- 4&#45;&gt;6 -->\r\n",
       "<g id=\"edge9\" class=\"edge\"><title>4&#45;&gt;6</title>\r\n",
       "<path fill=\"none\" stroke=\"black\" d=\"M456.776,-222.907C472.71,-210.88 490.125,-197.735 505.948,-185.791\"/>\r\n",
       "<polygon fill=\"black\" stroke=\"black\" points=\"508.188,-188.485 514.061,-179.667 503.971,-182.898 508.188,-188.485\"/>\r\n",
       "</g>\r\n",
       "</g>\r\n",
       "</svg>\r\n"
      ],
      "text/plain": [
       "<graphviz.files.Source at 0x1f64e33c820>"
      ]
     },
     "execution_count": 60,
     "metadata": {},
     "output_type": "execute_result"
    }
   ],
   "source": [
    "cay_graph = export_graphviz(model,\n",
    "                           feature_names=X.columns,\n",
    "                           class_names=model.classes_,\n",
    "                           filled = True)\n",
    "graphviz.Source(cay_graph)"
   ]
  },
  {
   "cell_type": "code",
   "execution_count": 73,
   "metadata": {},
   "outputs": [],
   "source": [
    "X = my_data[['Age', 'Sex', 'BP', 'Cholesterol', 'Na_to_K']]\n",
    "y = my_data.Drug\n",
    "xtrain, xtest, ytrain, ytest = train_test_split(X, y, test_size=0.3, random_state=3)"
   ]
  },
  {
   "cell_type": "code",
   "execution_count": 74,
   "metadata": {},
   "outputs": [],
   "source": [
    "from sklearn.preprocessing import OneHotEncoder"
   ]
  },
  {
   "cell_type": "code",
   "execution_count": 82,
   "metadata": {},
   "outputs": [
    {
     "ename": "ValueError",
     "evalue": "Shape mismatch: if categories is an array, it has to be of shape (n_features,).",
     "output_type": "error",
     "traceback": [
      "\u001b[1;31m---------------------------------------------------------------------------\u001b[0m",
      "\u001b[1;31mValueError\u001b[0m                                Traceback (most recent call last)",
      "\u001b[1;32m<ipython-input-82-6d178acc5dc1>\u001b[0m in \u001b[0;36m<module>\u001b[1;34m\u001b[0m\n\u001b[0;32m      1\u001b[0m \u001b[0mohe\u001b[0m \u001b[1;33m=\u001b[0m \u001b[0mOneHotEncoder\u001b[0m\u001b[1;33m(\u001b[0m\u001b[0msparse\u001b[0m\u001b[1;33m=\u001b[0m\u001b[1;32mFalse\u001b[0m\u001b[1;33m,\u001b[0m \u001b[0mcategories\u001b[0m\u001b[1;33m=\u001b[0m\u001b[1;33m[\u001b[0m\u001b[1;34m'Sex'\u001b[0m\u001b[1;33m,\u001b[0m \u001b[1;34m'BP'\u001b[0m\u001b[1;33m,\u001b[0m \u001b[1;34m'Cholesterol'\u001b[0m\u001b[1;33m]\u001b[0m\u001b[1;33m)\u001b[0m\u001b[1;33m\u001b[0m\u001b[1;33m\u001b[0m\u001b[0m\n\u001b[1;32m----> 2\u001b[1;33m \u001b[0mx\u001b[0m \u001b[1;33m=\u001b[0m \u001b[0mohe\u001b[0m\u001b[1;33m.\u001b[0m\u001b[0mfit_transform\u001b[0m\u001b[1;33m(\u001b[0m\u001b[0mX\u001b[0m\u001b[1;33m)\u001b[0m\u001b[1;33m\u001b[0m\u001b[1;33m\u001b[0m\u001b[0m\n\u001b[0m",
      "\u001b[1;32m~\\anaconda3\\lib\\site-packages\\sklearn\\preprocessing\\_encoders.py\u001b[0m in \u001b[0;36mfit_transform\u001b[1;34m(self, X, y)\u001b[0m\n\u001b[0;32m    441\u001b[0m         \"\"\"\n\u001b[0;32m    442\u001b[0m         \u001b[0mself\u001b[0m\u001b[1;33m.\u001b[0m\u001b[0m_validate_keywords\u001b[0m\u001b[1;33m(\u001b[0m\u001b[1;33m)\u001b[0m\u001b[1;33m\u001b[0m\u001b[1;33m\u001b[0m\u001b[0m\n\u001b[1;32m--> 443\u001b[1;33m         \u001b[1;32mreturn\u001b[0m \u001b[0msuper\u001b[0m\u001b[1;33m(\u001b[0m\u001b[1;33m)\u001b[0m\u001b[1;33m.\u001b[0m\u001b[0mfit_transform\u001b[0m\u001b[1;33m(\u001b[0m\u001b[0mX\u001b[0m\u001b[1;33m,\u001b[0m \u001b[0my\u001b[0m\u001b[1;33m)\u001b[0m\u001b[1;33m\u001b[0m\u001b[1;33m\u001b[0m\u001b[0m\n\u001b[0m\u001b[0;32m    444\u001b[0m \u001b[1;33m\u001b[0m\u001b[0m\n\u001b[0;32m    445\u001b[0m     \u001b[1;32mdef\u001b[0m \u001b[0mtransform\u001b[0m\u001b[1;33m(\u001b[0m\u001b[0mself\u001b[0m\u001b[1;33m,\u001b[0m \u001b[0mX\u001b[0m\u001b[1;33m)\u001b[0m\u001b[1;33m:\u001b[0m\u001b[1;33m\u001b[0m\u001b[1;33m\u001b[0m\u001b[0m\n",
      "\u001b[1;32m~\\anaconda3\\lib\\site-packages\\sklearn\\base.py\u001b[0m in \u001b[0;36mfit_transform\u001b[1;34m(self, X, y, **fit_params)\u001b[0m\n\u001b[0;32m    697\u001b[0m         \u001b[1;32mif\u001b[0m \u001b[0my\u001b[0m \u001b[1;32mis\u001b[0m \u001b[1;32mNone\u001b[0m\u001b[1;33m:\u001b[0m\u001b[1;33m\u001b[0m\u001b[1;33m\u001b[0m\u001b[0m\n\u001b[0;32m    698\u001b[0m             \u001b[1;31m# fit method of arity 1 (unsupervised transformation)\u001b[0m\u001b[1;33m\u001b[0m\u001b[1;33m\u001b[0m\u001b[1;33m\u001b[0m\u001b[0m\n\u001b[1;32m--> 699\u001b[1;33m             \u001b[1;32mreturn\u001b[0m \u001b[0mself\u001b[0m\u001b[1;33m.\u001b[0m\u001b[0mfit\u001b[0m\u001b[1;33m(\u001b[0m\u001b[0mX\u001b[0m\u001b[1;33m,\u001b[0m \u001b[1;33m**\u001b[0m\u001b[0mfit_params\u001b[0m\u001b[1;33m)\u001b[0m\u001b[1;33m.\u001b[0m\u001b[0mtransform\u001b[0m\u001b[1;33m(\u001b[0m\u001b[0mX\u001b[0m\u001b[1;33m)\u001b[0m\u001b[1;33m\u001b[0m\u001b[1;33m\u001b[0m\u001b[0m\n\u001b[0m\u001b[0;32m    700\u001b[0m         \u001b[1;32melse\u001b[0m\u001b[1;33m:\u001b[0m\u001b[1;33m\u001b[0m\u001b[1;33m\u001b[0m\u001b[0m\n\u001b[0;32m    701\u001b[0m             \u001b[1;31m# fit method of arity 2 (supervised transformation)\u001b[0m\u001b[1;33m\u001b[0m\u001b[1;33m\u001b[0m\u001b[1;33m\u001b[0m\u001b[0m\n",
      "\u001b[1;32m~\\anaconda3\\lib\\site-packages\\sklearn\\preprocessing\\_encoders.py\u001b[0m in \u001b[0;36mfit\u001b[1;34m(self, X, y)\u001b[0m\n\u001b[0;32m    415\u001b[0m         \"\"\"\n\u001b[0;32m    416\u001b[0m         \u001b[0mself\u001b[0m\u001b[1;33m.\u001b[0m\u001b[0m_validate_keywords\u001b[0m\u001b[1;33m(\u001b[0m\u001b[1;33m)\u001b[0m\u001b[1;33m\u001b[0m\u001b[1;33m\u001b[0m\u001b[0m\n\u001b[1;32m--> 417\u001b[1;33m         self._fit(X, handle_unknown=self.handle_unknown,\n\u001b[0m\u001b[0;32m    418\u001b[0m                   force_all_finite='allow-nan')\n\u001b[0;32m    419\u001b[0m         \u001b[0mself\u001b[0m\u001b[1;33m.\u001b[0m\u001b[0mdrop_idx_\u001b[0m \u001b[1;33m=\u001b[0m \u001b[0mself\u001b[0m\u001b[1;33m.\u001b[0m\u001b[0m_compute_drop_idx\u001b[0m\u001b[1;33m(\u001b[0m\u001b[1;33m)\u001b[0m\u001b[1;33m\u001b[0m\u001b[1;33m\u001b[0m\u001b[0m\n",
      "\u001b[1;32m~\\anaconda3\\lib\\site-packages\\sklearn\\preprocessing\\_encoders.py\u001b[0m in \u001b[0;36m_fit\u001b[1;34m(self, X, handle_unknown, force_all_finite)\u001b[0m\n\u001b[0;32m     80\u001b[0m         \u001b[1;32mif\u001b[0m \u001b[0mself\u001b[0m\u001b[1;33m.\u001b[0m\u001b[0mcategories\u001b[0m \u001b[1;33m!=\u001b[0m \u001b[1;34m'auto'\u001b[0m\u001b[1;33m:\u001b[0m\u001b[1;33m\u001b[0m\u001b[1;33m\u001b[0m\u001b[0m\n\u001b[0;32m     81\u001b[0m             \u001b[1;32mif\u001b[0m \u001b[0mlen\u001b[0m\u001b[1;33m(\u001b[0m\u001b[0mself\u001b[0m\u001b[1;33m.\u001b[0m\u001b[0mcategories\u001b[0m\u001b[1;33m)\u001b[0m \u001b[1;33m!=\u001b[0m \u001b[0mn_features\u001b[0m\u001b[1;33m:\u001b[0m\u001b[1;33m\u001b[0m\u001b[1;33m\u001b[0m\u001b[0m\n\u001b[1;32m---> 82\u001b[1;33m                 raise ValueError(\"Shape mismatch: if categories is an array,\"\n\u001b[0m\u001b[0;32m     83\u001b[0m                                  \" it has to be of shape (n_features,).\")\n\u001b[0;32m     84\u001b[0m \u001b[1;33m\u001b[0m\u001b[0m\n",
      "\u001b[1;31mValueError\u001b[0m: Shape mismatch: if categories is an array, it has to be of shape (n_features,)."
     ]
    }
   ],
   "source": [
    "ohe = OneHotEncoder(sparse=False)\n",
    "x = ohe.fit_transform(X)"
   ]
  },
  {
   "cell_type": "code",
   "execution_count": 75,
   "metadata": {},
   "outputs": [
    {
     "data": {
      "text/html": [
       "<div>\n",
       "<style scoped>\n",
       "    .dataframe tbody tr th:only-of-type {\n",
       "        vertical-align: middle;\n",
       "    }\n",
       "\n",
       "    .dataframe tbody tr th {\n",
       "        vertical-align: top;\n",
       "    }\n",
       "\n",
       "    .dataframe thead th {\n",
       "        text-align: right;\n",
       "    }\n",
       "</style>\n",
       "<table border=\"1\" class=\"dataframe\">\n",
       "  <thead>\n",
       "    <tr style=\"text-align: right;\">\n",
       "      <th></th>\n",
       "      <th>Age</th>\n",
       "      <th>Sex</th>\n",
       "      <th>BP</th>\n",
       "      <th>Cholesterol</th>\n",
       "      <th>Na_to_K</th>\n",
       "    </tr>\n",
       "  </thead>\n",
       "  <tbody>\n",
       "    <tr>\n",
       "      <th>77</th>\n",
       "      <td>26</td>\n",
       "      <td>F</td>\n",
       "      <td>HIGH</td>\n",
       "      <td>NORMAL</td>\n",
       "      <td>19.161</td>\n",
       "    </tr>\n",
       "    <tr>\n",
       "      <th>73</th>\n",
       "      <td>41</td>\n",
       "      <td>F</td>\n",
       "      <td>NORMAL</td>\n",
       "      <td>NORMAL</td>\n",
       "      <td>22.905</td>\n",
       "    </tr>\n",
       "    <tr>\n",
       "      <th>71</th>\n",
       "      <td>28</td>\n",
       "      <td>F</td>\n",
       "      <td>NORMAL</td>\n",
       "      <td>HIGH</td>\n",
       "      <td>19.675</td>\n",
       "    </tr>\n",
       "    <tr>\n",
       "      <th>78</th>\n",
       "      <td>19</td>\n",
       "      <td>F</td>\n",
       "      <td>HIGH</td>\n",
       "      <td>HIGH</td>\n",
       "      <td>13.313</td>\n",
       "    </tr>\n",
       "    <tr>\n",
       "      <th>42</th>\n",
       "      <td>50</td>\n",
       "      <td>M</td>\n",
       "      <td>NORMAL</td>\n",
       "      <td>NORMAL</td>\n",
       "      <td>15.790</td>\n",
       "    </tr>\n",
       "    <tr>\n",
       "      <th>...</th>\n",
       "      <td>...</td>\n",
       "      <td>...</td>\n",
       "      <td>...</td>\n",
       "      <td>...</td>\n",
       "      <td>...</td>\n",
       "    </tr>\n",
       "    <tr>\n",
       "      <th>0</th>\n",
       "      <td>23</td>\n",
       "      <td>F</td>\n",
       "      <td>HIGH</td>\n",
       "      <td>HIGH</td>\n",
       "      <td>25.355</td>\n",
       "    </tr>\n",
       "    <tr>\n",
       "      <th>184</th>\n",
       "      <td>18</td>\n",
       "      <td>F</td>\n",
       "      <td>HIGH</td>\n",
       "      <td>HIGH</td>\n",
       "      <td>37.188</td>\n",
       "    </tr>\n",
       "    <tr>\n",
       "      <th>131</th>\n",
       "      <td>52</td>\n",
       "      <td>M</td>\n",
       "      <td>LOW</td>\n",
       "      <td>NORMAL</td>\n",
       "      <td>32.922</td>\n",
       "    </tr>\n",
       "    <tr>\n",
       "      <th>152</th>\n",
       "      <td>55</td>\n",
       "      <td>M</td>\n",
       "      <td>NORMAL</td>\n",
       "      <td>NORMAL</td>\n",
       "      <td>7.261</td>\n",
       "    </tr>\n",
       "    <tr>\n",
       "      <th>106</th>\n",
       "      <td>22</td>\n",
       "      <td>M</td>\n",
       "      <td>NORMAL</td>\n",
       "      <td>HIGH</td>\n",
       "      <td>11.953</td>\n",
       "    </tr>\n",
       "  </tbody>\n",
       "</table>\n",
       "<p>140 rows × 5 columns</p>\n",
       "</div>"
      ],
      "text/plain": [
       "     Age Sex      BP Cholesterol  Na_to_K\n",
       "77    26   F    HIGH      NORMAL   19.161\n",
       "73    41   F  NORMAL      NORMAL   22.905\n",
       "71    28   F  NORMAL        HIGH   19.675\n",
       "78    19   F    HIGH        HIGH   13.313\n",
       "42    50   M  NORMAL      NORMAL   15.790\n",
       "..   ...  ..     ...         ...      ...\n",
       "0     23   F    HIGH        HIGH   25.355\n",
       "184   18   F    HIGH        HIGH   37.188\n",
       "131   52   M     LOW      NORMAL   32.922\n",
       "152   55   M  NORMAL      NORMAL    7.261\n",
       "106   22   M  NORMAL        HIGH   11.953\n",
       "\n",
       "[140 rows x 5 columns]"
      ]
     },
     "execution_count": 75,
     "metadata": {},
     "output_type": "execute_result"
    }
   ],
   "source": [
    "xtrain"
   ]
  },
  {
   "cell_type": "code",
   "execution_count": 76,
   "metadata": {},
   "outputs": [],
   "source": [
    "ohe = OneHotEncoder(sparse=False, handle_unknown=\"ignore\")"
   ]
  },
  {
   "cell_type": "code",
   "execution_count": 77,
   "metadata": {},
   "outputs": [],
   "source": [
    "xtrain_processed = ohe.fit_transform(xtrain[['Sex', 'BP', 'Cholesterol']])"
   ]
  },
  {
   "cell_type": "code",
   "execution_count": 78,
   "metadata": {},
   "outputs": [
    {
     "data": {
      "text/plain": [
       "array([[1., 0., 1., 0., 0., 0., 1.],\n",
       "       [1., 0., 0., 0., 1., 0., 1.],\n",
       "       [1., 0., 0., 0., 1., 1., 0.],\n",
       "       [1., 0., 1., 0., 0., 1., 0.],\n",
       "       [0., 1., 0., 0., 1., 0., 1.],\n",
       "       [0., 1., 0., 0., 1., 1., 0.],\n",
       "       [0., 1., 0., 1., 0., 1., 0.],\n",
       "       [1., 0., 0., 1., 0., 1., 0.],\n",
       "       [1., 0., 0., 1., 0., 0., 1.],\n",
       "       [0., 1., 1., 0., 0., 0., 1.],\n",
       "       [1., 0., 0., 0., 1., 1., 0.],\n",
       "       [1., 0., 0., 0., 1., 0., 1.],\n",
       "       [1., 0., 0., 1., 0., 1., 0.],\n",
       "       [1., 0., 0., 0., 1., 1., 0.],\n",
       "       [0., 1., 1., 0., 0., 0., 1.],\n",
       "       [1., 0., 0., 1., 0., 0., 1.],\n",
       "       [0., 1., 0., 1., 0., 0., 1.],\n",
       "       [1., 0., 0., 1., 0., 1., 0.],\n",
       "       [0., 1., 1., 0., 0., 1., 0.],\n",
       "       [1., 0., 1., 0., 0., 1., 0.],\n",
       "       [0., 1., 0., 0., 1., 1., 0.],\n",
       "       [1., 0., 1., 0., 0., 0., 1.],\n",
       "       [1., 0., 0., 0., 1., 0., 1.],\n",
       "       [0., 1., 0., 1., 0., 0., 1.],\n",
       "       [1., 0., 1., 0., 0., 0., 1.],\n",
       "       [1., 0., 1., 0., 0., 0., 1.],\n",
       "       [0., 1., 0., 0., 1., 1., 0.],\n",
       "       [0., 1., 1., 0., 0., 1., 0.],\n",
       "       [0., 1., 0., 1., 0., 1., 0.],\n",
       "       [0., 1., 0., 1., 0., 0., 1.],\n",
       "       [1., 0., 1., 0., 0., 0., 1.],\n",
       "       [0., 1., 1., 0., 0., 1., 0.],\n",
       "       [1., 0., 0., 0., 1., 1., 0.],\n",
       "       [0., 1., 0., 1., 0., 1., 0.],\n",
       "       [1., 0., 1., 0., 0., 1., 0.],\n",
       "       [0., 1., 0., 1., 0., 0., 1.],\n",
       "       [0., 1., 1., 0., 0., 0., 1.],\n",
       "       [0., 1., 0., 1., 0., 1., 0.],\n",
       "       [0., 1., 0., 1., 0., 0., 1.],\n",
       "       [1., 0., 0., 0., 1., 0., 1.],\n",
       "       [0., 1., 0., 0., 1., 0., 1.],\n",
       "       [1., 0., 0., 0., 1., 0., 1.],\n",
       "       [1., 0., 1., 0., 0., 1., 0.],\n",
       "       [1., 0., 1., 0., 0., 0., 1.],\n",
       "       [0., 1., 1., 0., 0., 0., 1.],\n",
       "       [0., 1., 0., 1., 0., 0., 1.],\n",
       "       [1., 0., 1., 0., 0., 0., 1.],\n",
       "       [0., 1., 1., 0., 0., 0., 1.],\n",
       "       [1., 0., 0., 0., 1., 0., 1.],\n",
       "       [0., 1., 0., 0., 1., 1., 0.],\n",
       "       [1., 0., 1., 0., 0., 1., 0.],\n",
       "       [1., 0., 0., 1., 0., 0., 1.],\n",
       "       [0., 1., 0., 1., 0., 0., 1.],\n",
       "       [1., 0., 0., 1., 0., 1., 0.],\n",
       "       [1., 0., 0., 1., 0., 1., 0.],\n",
       "       [1., 0., 1., 0., 0., 0., 1.],\n",
       "       [1., 0., 0., 1., 0., 1., 0.],\n",
       "       [1., 0., 1., 0., 0., 0., 1.],\n",
       "       [0., 1., 1., 0., 0., 0., 1.],\n",
       "       [1., 0., 0., 0., 1., 0., 1.],\n",
       "       [1., 0., 1., 0., 0., 1., 0.],\n",
       "       [0., 1., 0., 1., 0., 0., 1.],\n",
       "       [1., 0., 1., 0., 0., 1., 0.],\n",
       "       [0., 1., 0., 1., 0., 0., 1.],\n",
       "       [0., 1., 0., 1., 0., 1., 0.],\n",
       "       [0., 1., 0., 0., 1., 1., 0.],\n",
       "       [1., 0., 0., 0., 1., 0., 1.],\n",
       "       [0., 1., 1., 0., 0., 0., 1.],\n",
       "       [0., 1., 1., 0., 0., 1., 0.],\n",
       "       [1., 0., 1., 0., 0., 1., 0.],\n",
       "       [0., 1., 1., 0., 0., 0., 1.],\n",
       "       [0., 1., 1., 0., 0., 1., 0.],\n",
       "       [0., 1., 1., 0., 0., 0., 1.],\n",
       "       [0., 1., 1., 0., 0., 0., 1.],\n",
       "       [0., 1., 0., 0., 1., 1., 0.],\n",
       "       [0., 1., 0., 1., 0., 0., 1.],\n",
       "       [0., 1., 1., 0., 0., 1., 0.],\n",
       "       [0., 1., 0., 0., 1., 1., 0.],\n",
       "       [1., 0., 0., 1., 0., 1., 0.],\n",
       "       [0., 1., 0., 1., 0., 0., 1.],\n",
       "       [0., 1., 1., 0., 0., 1., 0.],\n",
       "       [0., 1., 1., 0., 0., 1., 0.],\n",
       "       [1., 0., 1., 0., 0., 0., 1.],\n",
       "       [1., 0., 1., 0., 0., 0., 1.],\n",
       "       [0., 1., 0., 1., 0., 0., 1.],\n",
       "       [1., 0., 0., 0., 1., 1., 0.],\n",
       "       [0., 1., 1., 0., 0., 1., 0.],\n",
       "       [0., 1., 0., 1., 0., 1., 0.],\n",
       "       [1., 0., 0., 1., 0., 0., 1.],\n",
       "       [0., 1., 1., 0., 0., 0., 1.],\n",
       "       [0., 1., 0., 0., 1., 0., 1.],\n",
       "       [0., 1., 0., 1., 0., 1., 0.],\n",
       "       [1., 0., 0., 1., 0., 1., 0.],\n",
       "       [1., 0., 1., 0., 0., 0., 1.],\n",
       "       [0., 1., 1., 0., 0., 0., 1.],\n",
       "       [1., 0., 0., 1., 0., 0., 1.],\n",
       "       [0., 1., 0., 0., 1., 0., 1.],\n",
       "       [0., 1., 1., 0., 0., 0., 1.],\n",
       "       [1., 0., 0., 1., 0., 1., 0.],\n",
       "       [0., 1., 0., 1., 0., 1., 0.],\n",
       "       [0., 1., 0., 1., 0., 0., 1.],\n",
       "       [0., 1., 0., 1., 0., 0., 1.],\n",
       "       [1., 0., 0., 1., 0., 0., 1.],\n",
       "       [1., 0., 0., 0., 1., 1., 0.],\n",
       "       [1., 0., 1., 0., 0., 0., 1.],\n",
       "       [0., 1., 0., 1., 0., 1., 0.],\n",
       "       [0., 1., 0., 1., 0., 0., 1.],\n",
       "       [0., 1., 0., 0., 1., 0., 1.],\n",
       "       [1., 0., 0., 1., 0., 0., 1.],\n",
       "       [0., 1., 0., 1., 0., 1., 0.],\n",
       "       [1., 0., 1., 0., 0., 1., 0.],\n",
       "       [0., 1., 1., 0., 0., 1., 0.],\n",
       "       [0., 1., 1., 0., 0., 0., 1.],\n",
       "       [1., 0., 1., 0., 0., 0., 1.],\n",
       "       [0., 1., 0., 0., 1., 1., 0.],\n",
       "       [1., 0., 0., 0., 1., 1., 0.],\n",
       "       [1., 0., 0., 1., 0., 0., 1.],\n",
       "       [0., 1., 0., 1., 0., 1., 0.],\n",
       "       [0., 1., 1., 0., 0., 1., 0.],\n",
       "       [0., 1., 1., 0., 0., 0., 1.],\n",
       "       [0., 1., 0., 0., 1., 1., 0.],\n",
       "       [0., 1., 1., 0., 0., 1., 0.],\n",
       "       [0., 1., 1., 0., 0., 0., 1.],\n",
       "       [1., 0., 0., 0., 1., 1., 0.],\n",
       "       [1., 0., 0., 1., 0., 0., 1.],\n",
       "       [1., 0., 0., 0., 1., 0., 1.],\n",
       "       [1., 0., 0., 1., 0., 0., 1.],\n",
       "       [1., 0., 0., 1., 0., 1., 0.],\n",
       "       [1., 0., 1., 0., 0., 1., 0.],\n",
       "       [0., 1., 0., 1., 0., 1., 0.],\n",
       "       [0., 1., 1., 0., 0., 0., 1.],\n",
       "       [1., 0., 1., 0., 0., 1., 0.],\n",
       "       [0., 1., 0., 1., 0., 1., 0.],\n",
       "       [1., 0., 1., 0., 0., 0., 1.],\n",
       "       [0., 1., 0., 0., 1., 1., 0.],\n",
       "       [1., 0., 1., 0., 0., 1., 0.],\n",
       "       [1., 0., 1., 0., 0., 1., 0.],\n",
       "       [0., 1., 0., 1., 0., 0., 1.],\n",
       "       [0., 1., 0., 0., 1., 0., 1.],\n",
       "       [0., 1., 0., 0., 1., 1., 0.]])"
      ]
     },
     "execution_count": 78,
     "metadata": {},
     "output_type": "execute_result"
    }
   ],
   "source": [
    "xtrain_processed"
   ]
  },
  {
   "cell_type": "code",
   "execution_count": 79,
   "metadata": {},
   "outputs": [
    {
     "data": {
      "text/html": [
       "<div>\n",
       "<style scoped>\n",
       "    .dataframe tbody tr th:only-of-type {\n",
       "        vertical-align: middle;\n",
       "    }\n",
       "\n",
       "    .dataframe tbody tr th {\n",
       "        vertical-align: top;\n",
       "    }\n",
       "\n",
       "    .dataframe thead th {\n",
       "        text-align: right;\n",
       "    }\n",
       "</style>\n",
       "<table border=\"1\" class=\"dataframe\">\n",
       "  <thead>\n",
       "    <tr style=\"text-align: right;\">\n",
       "      <th></th>\n",
       "      <th>ohe_0</th>\n",
       "      <th>ohe_1</th>\n",
       "      <th>ohe_2</th>\n",
       "      <th>ohe_3</th>\n",
       "      <th>ohe_4</th>\n",
       "      <th>ohe_5</th>\n",
       "      <th>ohe_6</th>\n",
       "    </tr>\n",
       "  </thead>\n",
       "  <tbody>\n",
       "    <tr>\n",
       "      <th>0</th>\n",
       "      <td>1.0</td>\n",
       "      <td>0.0</td>\n",
       "      <td>1.0</td>\n",
       "      <td>0.0</td>\n",
       "      <td>0.0</td>\n",
       "      <td>0.0</td>\n",
       "      <td>1.0</td>\n",
       "    </tr>\n",
       "    <tr>\n",
       "      <th>1</th>\n",
       "      <td>1.0</td>\n",
       "      <td>0.0</td>\n",
       "      <td>0.0</td>\n",
       "      <td>0.0</td>\n",
       "      <td>1.0</td>\n",
       "      <td>0.0</td>\n",
       "      <td>1.0</td>\n",
       "    </tr>\n",
       "    <tr>\n",
       "      <th>2</th>\n",
       "      <td>1.0</td>\n",
       "      <td>0.0</td>\n",
       "      <td>0.0</td>\n",
       "      <td>0.0</td>\n",
       "      <td>1.0</td>\n",
       "      <td>1.0</td>\n",
       "      <td>0.0</td>\n",
       "    </tr>\n",
       "    <tr>\n",
       "      <th>3</th>\n",
       "      <td>1.0</td>\n",
       "      <td>0.0</td>\n",
       "      <td>1.0</td>\n",
       "      <td>0.0</td>\n",
       "      <td>0.0</td>\n",
       "      <td>1.0</td>\n",
       "      <td>0.0</td>\n",
       "    </tr>\n",
       "    <tr>\n",
       "      <th>4</th>\n",
       "      <td>0.0</td>\n",
       "      <td>1.0</td>\n",
       "      <td>0.0</td>\n",
       "      <td>0.0</td>\n",
       "      <td>1.0</td>\n",
       "      <td>0.0</td>\n",
       "      <td>1.0</td>\n",
       "    </tr>\n",
       "    <tr>\n",
       "      <th>...</th>\n",
       "      <td>...</td>\n",
       "      <td>...</td>\n",
       "      <td>...</td>\n",
       "      <td>...</td>\n",
       "      <td>...</td>\n",
       "      <td>...</td>\n",
       "      <td>...</td>\n",
       "    </tr>\n",
       "    <tr>\n",
       "      <th>135</th>\n",
       "      <td>1.0</td>\n",
       "      <td>0.0</td>\n",
       "      <td>1.0</td>\n",
       "      <td>0.0</td>\n",
       "      <td>0.0</td>\n",
       "      <td>1.0</td>\n",
       "      <td>0.0</td>\n",
       "    </tr>\n",
       "    <tr>\n",
       "      <th>136</th>\n",
       "      <td>1.0</td>\n",
       "      <td>0.0</td>\n",
       "      <td>1.0</td>\n",
       "      <td>0.0</td>\n",
       "      <td>0.0</td>\n",
       "      <td>1.0</td>\n",
       "      <td>0.0</td>\n",
       "    </tr>\n",
       "    <tr>\n",
       "      <th>137</th>\n",
       "      <td>0.0</td>\n",
       "      <td>1.0</td>\n",
       "      <td>0.0</td>\n",
       "      <td>1.0</td>\n",
       "      <td>0.0</td>\n",
       "      <td>0.0</td>\n",
       "      <td>1.0</td>\n",
       "    </tr>\n",
       "    <tr>\n",
       "      <th>138</th>\n",
       "      <td>0.0</td>\n",
       "      <td>1.0</td>\n",
       "      <td>0.0</td>\n",
       "      <td>0.0</td>\n",
       "      <td>1.0</td>\n",
       "      <td>0.0</td>\n",
       "      <td>1.0</td>\n",
       "    </tr>\n",
       "    <tr>\n",
       "      <th>139</th>\n",
       "      <td>0.0</td>\n",
       "      <td>1.0</td>\n",
       "      <td>0.0</td>\n",
       "      <td>0.0</td>\n",
       "      <td>1.0</td>\n",
       "      <td>1.0</td>\n",
       "      <td>0.0</td>\n",
       "    </tr>\n",
       "  </tbody>\n",
       "</table>\n",
       "<p>140 rows × 7 columns</p>\n",
       "</div>"
      ],
      "text/plain": [
       "     ohe_0  ohe_1  ohe_2  ohe_3  ohe_4  ohe_5  ohe_6\n",
       "0      1.0    0.0    1.0    0.0    0.0    0.0    1.0\n",
       "1      1.0    0.0    0.0    0.0    1.0    0.0    1.0\n",
       "2      1.0    0.0    0.0    0.0    1.0    1.0    0.0\n",
       "3      1.0    0.0    1.0    0.0    0.0    1.0    0.0\n",
       "4      0.0    1.0    0.0    0.0    1.0    0.0    1.0\n",
       "..     ...    ...    ...    ...    ...    ...    ...\n",
       "135    1.0    0.0    1.0    0.0    0.0    1.0    0.0\n",
       "136    1.0    0.0    1.0    0.0    0.0    1.0    0.0\n",
       "137    0.0    1.0    0.0    1.0    0.0    0.0    1.0\n",
       "138    0.0    1.0    0.0    0.0    1.0    0.0    1.0\n",
       "139    0.0    1.0    0.0    0.0    1.0    1.0    0.0\n",
       "\n",
       "[140 rows x 7 columns]"
      ]
     },
     "execution_count": 79,
     "metadata": {},
     "output_type": "execute_result"
    }
   ],
   "source": [
    "pd.DataFrame(xtrain_processed, columns=[f\"ohe_{i}\" for i in range(xtrain_processed.shape[1])])"
   ]
  },
  {
   "cell_type": "code",
   "execution_count": 81,
   "metadata": {},
   "outputs": [
    {
     "ename": "TypeError",
     "evalue": "cannot concatenate object of type '<class 'numpy.ndarray'>'; only Series and DataFrame objs are valid",
     "output_type": "error",
     "traceback": [
      "\u001b[1;31m---------------------------------------------------------------------------\u001b[0m",
      "\u001b[1;31mTypeError\u001b[0m                                 Traceback (most recent call last)",
      "\u001b[1;32m<ipython-input-81-9dbdcdeeafc1>\u001b[0m in \u001b[0;36m<module>\u001b[1;34m\u001b[0m\n\u001b[1;32m----> 1\u001b[1;33m \u001b[0mpd\u001b[0m\u001b[1;33m.\u001b[0m\u001b[0mconcat\u001b[0m\u001b[1;33m(\u001b[0m\u001b[1;33m[\u001b[0m\u001b[0mxtrain\u001b[0m\u001b[1;33m,\u001b[0m \u001b[0mxtrain_processed\u001b[0m\u001b[1;33m]\u001b[0m\u001b[1;33m,\u001b[0m \u001b[0maxis\u001b[0m\u001b[1;33m=\u001b[0m\u001b[1;36m1\u001b[0m\u001b[1;33m)\u001b[0m\u001b[1;33m\u001b[0m\u001b[1;33m\u001b[0m\u001b[0m\n\u001b[0m",
      "\u001b[1;32m~\\anaconda3\\lib\\site-packages\\pandas\\core\\reshape\\concat.py\u001b[0m in \u001b[0;36mconcat\u001b[1;34m(objs, axis, join, ignore_index, keys, levels, names, verify_integrity, sort, copy)\u001b[0m\n\u001b[0;32m    283\u001b[0m     \u001b[0mValueError\u001b[0m\u001b[1;33m:\u001b[0m \u001b[0mIndexes\u001b[0m \u001b[0mhave\u001b[0m \u001b[0moverlapping\u001b[0m \u001b[0mvalues\u001b[0m\u001b[1;33m:\u001b[0m \u001b[1;33m[\u001b[0m\u001b[1;34m'a'\u001b[0m\u001b[1;33m]\u001b[0m\u001b[1;33m\u001b[0m\u001b[1;33m\u001b[0m\u001b[0m\n\u001b[0;32m    284\u001b[0m     \"\"\"\n\u001b[1;32m--> 285\u001b[1;33m     op = _Concatenator(\n\u001b[0m\u001b[0;32m    286\u001b[0m         \u001b[0mobjs\u001b[0m\u001b[1;33m,\u001b[0m\u001b[1;33m\u001b[0m\u001b[1;33m\u001b[0m\u001b[0m\n\u001b[0;32m    287\u001b[0m         \u001b[0maxis\u001b[0m\u001b[1;33m=\u001b[0m\u001b[0maxis\u001b[0m\u001b[1;33m,\u001b[0m\u001b[1;33m\u001b[0m\u001b[1;33m\u001b[0m\u001b[0m\n",
      "\u001b[1;32m~\\anaconda3\\lib\\site-packages\\pandas\\core\\reshape\\concat.py\u001b[0m in \u001b[0;36m__init__\u001b[1;34m(self, objs, axis, join, keys, levels, names, ignore_index, verify_integrity, copy, sort)\u001b[0m\n\u001b[0;32m    368\u001b[0m                     \u001b[1;34m\"only Series and DataFrame objs are valid\"\u001b[0m\u001b[1;33m\u001b[0m\u001b[1;33m\u001b[0m\u001b[0m\n\u001b[0;32m    369\u001b[0m                 )\n\u001b[1;32m--> 370\u001b[1;33m                 \u001b[1;32mraise\u001b[0m \u001b[0mTypeError\u001b[0m\u001b[1;33m(\u001b[0m\u001b[0mmsg\u001b[0m\u001b[1;33m)\u001b[0m\u001b[1;33m\u001b[0m\u001b[1;33m\u001b[0m\u001b[0m\n\u001b[0m\u001b[0;32m    371\u001b[0m \u001b[1;33m\u001b[0m\u001b[0m\n\u001b[0;32m    372\u001b[0m             \u001b[1;31m# consolidate\u001b[0m\u001b[1;33m\u001b[0m\u001b[1;33m\u001b[0m\u001b[1;33m\u001b[0m\u001b[0m\n",
      "\u001b[1;31mTypeError\u001b[0m: cannot concatenate object of type '<class 'numpy.ndarray'>'; only Series and DataFrame objs are valid"
     ]
    }
   ],
   "source": [
    "pd.concat([xtrain, xtrain_processed], axis=1)"
   ]
  },
  {
   "cell_type": "code",
   "execution_count": null,
   "metadata": {},
   "outputs": [],
   "source": []
  },
  {
   "cell_type": "code",
   "execution_count": null,
   "metadata": {},
   "outputs": [],
   "source": []
  },
  {
   "cell_type": "code",
   "execution_count": 68,
   "metadata": {},
   "outputs": [],
   "source": [
    "def data_preprocessing(xtrain, xvalid, object_cols, useful_features, obj_method,cat_method, xtest=None):\n",
    "    \"\"\"\n",
    "    method = ['ohe', \"ordinal\", \"standardize\", \"log\", \"poly\",'target_enc']\n",
    "    Note: inhere target_enc is implemented in the data_preprocessing_increase_feat funciton \n",
    "    for some contrainst of the coding. How ever this is a method to transform caetegorical to number \n",
    "    \"\"\"\n",
    "    # categorical\n",
    "    if obj_method == 'ohe':\n",
    "        # print (\"ohe processing for categorical feature\")\n",
    "        ohe = preprocessing.OneHotEncoder(sparse=False, handle_unknown=\"ignore\")\n",
    "        xtrain_processed = ohe.fit_transform(xtrain[object_cols])\n",
    "        xvalid_processed = ohe.transform(xvalid[object_cols])\n",
    " \n",
    "        xtrain_processed = pd.DataFrame(xtrain_processed, columns=[f\"ohe_{i}\" for i in range(xtrain_processed.shape[1])])\n",
    "        xvalid_processed = pd.DataFrame(xvalid_processed, columns=[f\"ohe_{i}\" for i in range(xvalid_processed.shape[1])])\n",
    " \n",
    "        xtrain = pd.concat([xtrain, xtrain_processed], axis=1)\n",
    "        xvalid = pd.concat([xvalid, xvalid_processed], axis=1)\n",
    " \n",
    "        xtrain = xtrain.drop(object_cols, axis=1)\n",
    "        xvalid = xvalid.drop(object_cols, axis=1)\n",
    " \n",
    "        if xtest:\n",
    "            xtest_processed = ohe.transform(xtest[object_cols])\n",
    "            xtest_processed = pd.DataFrame(xtest_processed, columns=[f\"ohe_{i}\" for i in range(xtest_processed.shape[1])])\n",
    "            xtest = pd.concat([xtest, xtest_processed], axis=1)\n",
    "            xtest = xtest.drop(object_cols, axis=1)\n",
    " \n",
    "    elif obj_method == \"ordinal\":\n",
    "        # print (\"ordinal processing for categorical feature \")\n",
    "        ordinal_encoder = preprocessing.OrdinalEncoder()\n",
    "        xtrain[object_cols] = ordinal_encoder.fit_transform(xtrain[object_cols])\n",
    "        xvalid[object_cols] = ordinal_encoder.transform(xvalid[object_cols])\n",
    "        if xtest:\n",
    "            xtest[object_cols] = ordinal_encoder.transform(xtest[object_cols])\n",
    "    else:\n",
    "        pass\n",
    " \n",
    "     \n",
    "    # numerical\n",
    "    numerical_cols = [col for col in useful_features if col.startswith(\"cont\")]\n",
    "    if cat_method == \"standardize\":\n",
    "        # print (\"standardize processing for numerical feature\")\n",
    "        scaler = preprocessing.StandardScaler()\n",
    "        xtrain[numerical_cols] = scaler.fit_transform(xtrain[numerical_cols])\n",
    "        xvalid[numerical_cols] = scaler.transform(xvalid[numerical_cols])\n",
    "        if xtest:\n",
    "            xtest[numerical_cols] = scaler.transform(xtest[numerical_cols])\n",
    "     \n",
    "    elif cat_method == \"log\":\n",
    "        # print (\"log processing for numerical feature\")\n",
    "        for col in numerical_cols:\n",
    "            xtrain[col] = np.log1p(xtrain[col])\n",
    "            xvalid[col] = np.log1p(xvalid[col])\n",
    "            if xtest:\n",
    "                xtest[col] = np.log1p(xtest[col])\n",
    "    else:\n",
    "        pass\n",
    " \n",
    "    return xtrain, xvalid, xtest"
   ]
  },
  {
   "cell_type": "markdown",
   "metadata": {
    "button": false,
    "new_sheet": false,
    "run_control": {
     "read_only": false
    }
   },
   "source": [
    "<h2>Want to learn more?</h2>\n",
    "\n",
    "IBM SPSS Modeler is a comprehensive analytics platform that has many machine learning algorithms. It has been designed to bring predictive intelligence to decisions made by individuals, by groups, by systems – by your enterprise as a whole. A free trial is available through this course, available here: <a href=\"https://www.ibm.com/analytics/spss-statistics-software?utm_medium=Exinfluencer&utm_source=Exinfluencer&utm_content=000026UJ&utm_term=10006555&utm_id=NA-SkillsNetwork-Channel-SkillsNetworkCoursesIBMDeveloperSkillsNetworkML0101ENSkillsNetwork20718538-2021-01-01\">SPSS Modeler</a>\n",
    "\n",
    "Also, you can use Watson Studio to run these notebooks faster with bigger datasets. Watson Studio is IBM's leading cloud solution for data scientists, built by data scientists. With Jupyter notebooks, RStudio, Apache Spark and popular libraries pre-packaged in the cloud, Watson Studio enables data scientists to collaborate on their projects without having to install anything. Join the fast-growing community of Watson Studio users today with a free account at <a href=\"https://www.ibm.com/cloud/watson-studio?utm_medium=Exinfluencer&utm_source=Exinfluencer&utm_content=000026UJ&utm_term=10006555&utm_id=NA-SkillsNetwork-Channel-SkillsNetworkCoursesIBMDeveloperSkillsNetworkML0101ENSkillsNetwork20718538-2021-01-01\">Watson Studio</a>\n"
   ]
  },
  {
   "cell_type": "markdown",
   "metadata": {},
   "source": [
    "### Thank you for completing this lab!\n",
    "\n",
    "## Author\n",
    "\n",
    "Saeed Aghabozorgi\n",
    "\n",
    "### Other Contributors\n",
    "\n",
    "<a href=\"https://www.linkedin.com/in/joseph-s-50398b136/?utm_medium=Exinfluencer&utm_source=Exinfluencer&utm_content=000026UJ&utm_term=10006555&utm_id=NA-SkillsNetwork-Channel-SkillsNetworkCoursesIBMDeveloperSkillsNetworkML0101ENSkillsNetwork20718538-2021-01-01\" target=\"_blank\">Joseph Santarcangelo</a>\n",
    "\n",
    "## Change Log\n",
    "\n",
    "|  Date (YYYY-MM-DD) |  Version | Changed By  |  Change Description |\n",
    "|---|---|---|---|\n",
    "| 2020-11-20  | 2.2  | Lakshmi  | Changed import statement of StringIO|\n",
    "| 2020-11-03  | 2.1  | Lakshmi  | Changed URL of the csv            |\n",
    "| 2020-08-27  | 2.0  | Lavanya  |  Moved lab to course repo in GitLab |\n",
    "|   |   |   |   |\n",
    "|   |   |   |   |\n",
    "\n",
    "## <h3 align=\"center\"> © IBM Corporation 2020. All rights reserved. <h3/>\n"
   ]
  }
 ],
 "metadata": {
  "anaconda-cloud": {},
  "kernelspec": {
   "display_name": "Python 3",
   "language": "python",
   "name": "python3"
  },
  "language_info": {
   "codemirror_mode": {
    "name": "ipython",
    "version": 3
   },
   "file_extension": ".py",
   "mimetype": "text/x-python",
   "name": "python",
   "nbconvert_exporter": "python",
   "pygments_lexer": "ipython3",
   "version": "3.8.8"
  },
  "widgets": {
   "state": {},
   "version": "1.1.2"
  }
 },
 "nbformat": 4,
 "nbformat_minor": 2
}
