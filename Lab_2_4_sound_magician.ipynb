{
 "cells": [
  {
   "cell_type": "markdown",
   "metadata": {
    "id": "CtpmzhmaTg_C"
   },
   "source": [
    "## Lab Introduction\n",
    "Enhance! You've probably seen a movie or TV show where the super spy agents use some unbelievable technique to enhance a pixelated image, or to recover some lossy data. In this lab, you're going to do something similar—this time your objective is to use linear regression to recover or 'fill out' a completely deleted portion of an audio file!\n",
    "\n",
    "To complete this lab, you will be using The FSDD, Free-Spoken-Digits-Dataset, an audio dataset put together by Zohar Jackson once he noticed there weren't very many cleaned up audio (no dead-space, roughly same length, same bitrate, same samples-per-second rate, etc) audio libraries ready for machine learning."
   ]
  },
  {
   "cell_type": "code",
   "execution_count": 1,
   "metadata": {
    "id": "UPQa1SVTTg_G"
   },
   "outputs": [],
   "source": [
    "import numpy as np\n",
    "import pandas as pd\n",
    "\n",
    "from sklearn.utils.validation import check_random_state\n",
    "import scipy.io.wavfile as wavfile"
   ]
  },
  {
   "cell_type": "code",
   "execution_count": 2,
   "metadata": {},
   "outputs": [
    {
     "data": {
      "text/plain": [
       "'1.6.2'"
      ]
     },
     "execution_count": 2,
     "metadata": {},
     "output_type": "execute_result"
    }
   ],
   "source": [
    "import scipy\n",
    "scipy.__version__"
   ]
  },
  {
   "cell_type": "markdown",
   "metadata": {
    "id": "FIJAy5U0Tg_T"
   },
   "source": [
    "### About Audio"
   ]
  },
  {
   "cell_type": "markdown",
   "metadata": {
    "id": "y9lY3g5oTg_U"
   },
   "source": [
    "Samples are Observations. Each audio file will is a single sample in our dataset.\n",
    "\n",
    "Find more information about [Audio Samples here](https://en.wikipedia.org/wiki/Sampling_(signal_processing)).\n",
    "\n",
    "Each .wav file is actually just a bunch of numeric samples, \"sampled\" from the analog signal. Sampling is a type of discretization. When we mention 'samples', we mean observations. When we mention 'audio samples', we mean the actually \"features\" of the audio file.\n",
    "\n",
    "The goal of this lab is to use multi-target, linear regression to generate by extrapolation, the missing portion of the test audio file.\n",
    "\n",
    "Each one audio_sample features will be the output of an equation, which is a function of the provided portion of the audio_samples:\n",
    "\n",
    "    missing_samples = f(provided_samples)\n",
    "\n",
    "You can experiment with how much of the audio you want to chop off and have the computer generate using the Provided_Portion parameter."
   ]
  },
  {
   "cell_type": "markdown",
   "metadata": {
    "id": "ayulRqRrTg_W"
   },
   "source": [
    "Play with this. This is how much of the audio file will be provided, in percent. The remaining percent of the file will be generated via linear extrapolation."
   ]
  },
  {
   "cell_type": "code",
   "execution_count": 3,
   "metadata": {
    "id": "i7chXL5DTg_X"
   },
   "outputs": [],
   "source": [
    "Provided_Portion = 0.25"
   ]
  },
  {
   "cell_type": "markdown",
   "metadata": {
    "collapsed": true,
    "id": "CvGpdC1RTg_d"
   },
   "source": [
    "## 1. Data Preparation"
   ]
  },
  {
   "cell_type": "markdown",
   "metadata": {
    "collapsed": true,
    "id": "g4cw0sa3Tg_e"
   },
   "source": [
    "You have to download the dataset (audio files) from the website: https://github.com/Jakobovski/free-spoken-digit-dataset"
   ]
  },
  {
   "cell_type": "markdown",
   "metadata": {
    "id": "KMngCekmTg_f"
   },
   "source": [
    "Start by creating a regular Python List called `zero`:"
   ]
  },
  {
   "cell_type": "code",
   "execution_count": 4,
   "metadata": {
    "id": "14JWhfK6Tg_g"
   },
   "outputs": [],
   "source": [
    "# .. your code here ..\n",
    "zero = []"
   ]
  },
  {
   "cell_type": "markdown",
   "metadata": {
    "id": "lJTKO612Tg_m"
   },
   "source": [
    "Loop through the dataset and load up all 50 of the `0_jackson*.wav` files using the `wavfile.read()` method: https://docs.scipy.org/doc/scipy-0.14.0/reference/generated/scipy.io.wavfile.read.html Be careful! `.read()` returns a tuple and you're only interested in the audio data, and not sample_rate at this point. Inside your for loop, simply append the loaded audio data into your Python list `zero`:"
   ]
  },
  {
   "cell_type": "code",
   "execution_count": 33,
   "metadata": {},
   "outputs": [],
   "source": [
    "sample_rate  = wavfile.read('free-spoken-digit-dataset-master/recordings/0_jackson_28.wav')[0]"
   ]
  },
  {
   "cell_type": "code",
   "execution_count": 6,
   "metadata": {},
   "outputs": [],
   "source": [
    "from os import listdir\n",
    "from os.path import join as osjoin\n",
    "from os.path import dirname\n"
   ]
  },
  {
   "cell_type": "code",
   "execution_count": 7,
   "metadata": {
    "id": "DUwnRGm-Tg_n"
   },
   "outputs": [],
   "source": [
    "# .. your code here ..\n",
    "file_path = 'free-spoken-digit-dataset-master/recordings/'\n",
    "list_audio = listdir('free-spoken-digit-dataset-master/recordings/')\n",
    "for file in list_audio:\n",
    "    if file.startswith('0_jackson'):\n",
    "        audio = wavfile.read(osjoin(file_path, file))\n",
    "        zero.append(audio[1])"
   ]
  },
  {
   "cell_type": "code",
   "execution_count": 8,
   "metadata": {},
   "outputs": [
    {
     "data": {
      "text/plain": [
       "50"
      ]
     },
     "execution_count": 8,
     "metadata": {},
     "output_type": "execute_result"
    }
   ],
   "source": [
    "len(zero)"
   ]
  },
  {
   "cell_type": "code",
   "execution_count": 14,
   "metadata": {
    "scrolled": true
   },
   "outputs": [
    {
     "data": {
      "text/plain": [
       "[array([-369, -431, -475, ...,  301,  324,  304], dtype=int16),\n",
       " array([-311,  -91, -140, ...,  378,  357,  333], dtype=int16),\n",
       " array([-314, -303, -332, ..., -355, -343, -322], dtype=int16),\n",
       " array([347, 351, 462, ..., 365, 338, 302], dtype=int16),\n",
       " array([-336,  160,   65, ..., -315, -343, -319], dtype=int16),\n",
       " array([ 354,  442,  610, ..., -312, -336, -333], dtype=int16),\n",
       " array([ 397,  531,  638, ..., -357, -386, -353], dtype=int16),\n",
       " array([ 382,  459,  530, ..., -254, -301, -309], dtype=int16),\n",
       " array([-393,   54,  -71, ...,  319,  340,  313], dtype=int16),\n",
       " array([-311, -363, -318, ..., -239, -305, -304], dtype=int16),\n",
       " array([-316, -336, -342, ..., -442, -424, -310], dtype=int16),\n",
       " array([ 335,  392,  481, ..., -302, -314, -304], dtype=int16),\n",
       " array([-361, -226, -238, ..., -286, -311, -343], dtype=int16),\n",
       " array([-309, -323, -333, ..., -301, -300, -304], dtype=int16),\n",
       " array([ 305,  305,  294, ..., -379, -342, -300], dtype=int16),\n",
       " array([ 342,  452,  546, ..., -356, -353, -332], dtype=int16),\n",
       " array([-350, -391, -371, ..., -454, -416, -358], dtype=int16),\n",
       " array([-358, -447, -533, ..., -313, -261, -310], dtype=int16),\n",
       " array([-313, -347, -332, ..., -317, -350, -331], dtype=int16),\n",
       " array([ 332,    0,  -58, ..., -473, -511, -418], dtype=int16),\n",
       " array([-304, -319, -377, ..., -438, -457, -425], dtype=int16),\n",
       " array([-332, -396, -502, ..., -267, -274, -322], dtype=int16),\n",
       " array([-317, -346, -377, ...,  451,  432,  351], dtype=int16),\n",
       " array([ 323,  338,  357, ..., -246, -280, -301], dtype=int16),\n",
       " array([-328, -401, -471, ..., -213, -274, -360], dtype=int16),\n",
       " array([-328, -372, -403, ...,  219,  298,  329], dtype=int16),\n",
       " array([-310, -377, -502, ...,  294,  351,  323], dtype=int16),\n",
       " array([ 310,  339,  351, ..., -327, -351, -311], dtype=int16),\n",
       " array([-309, -385, -459, ...,  363,  364,  306], dtype=int16),\n",
       " array([303, 348, 354, ..., 135, 186, 302], dtype=int16),\n",
       " array([-348, -418, -431, ...,  329,  357,  354], dtype=int16),\n",
       " array([ 306,  399,  455, ..., -228, -345, -344], dtype=int16),\n",
       " array([-326, -362, -376, ..., -315, -321, -316], dtype=int16),\n",
       " array([-317, -199, -303, ...,  393,  409,  384], dtype=int16),\n",
       " array([-302, -312, -103, ..., -338, -333, -348], dtype=int16),\n",
       " array([ 322,  395,  470, ..., -344, -343, -319], dtype=int16),\n",
       " array([355, 425, 481, ..., 398, 372, 332], dtype=int16),\n",
       " array([ 331,  404,  490, ..., -297, -307, -318], dtype=int16),\n",
       " array([-307, -334, -336, ...,  354,  328,  312], dtype=int16),\n",
       " array([-316, -377, -435, ..., -325, -311, -301], dtype=int16),\n",
       " array([ 301,  394,  507, ..., -423, -401, -329], dtype=int16),\n",
       " array([343, 404, 454, ..., 420, 377, 345], dtype=int16),\n",
       " array([ 320,  372,  421, ..., -234, -264, -302], dtype=int16),\n",
       " array([-439, -572, -656, ...,  425,  343,  310], dtype=int16),\n",
       " array([-302, -337, -371, ...,   59, -180, -352], dtype=int16),\n",
       " array([ 305,  365,  419, ..., -313, -342, -346], dtype=int16),\n",
       " array([ 364,  420,  469, ..., -326, -334, -351], dtype=int16),\n",
       " array([-417,  152,  168, ...,  312,  316,  309], dtype=int16),\n",
       " array([ 330,  382,  389, ..., -410, -400, -385], dtype=int16),\n",
       " array([-312, -335, -338, ...,  384,  371,  345], dtype=int16)]"
      ]
     },
     "execution_count": 14,
     "metadata": {},
     "output_type": "execute_result"
    }
   ],
   "source": [
    "zero"
   ]
  },
  {
   "cell_type": "markdown",
   "metadata": {
    "id": "dzHr1FEzTg_u"
   },
   "source": [
    "Just for a second, convert zero into a DataFrame. When you do so, set the `dtype` to `np.int16`, since the input audio files are 16 bits per sample. If you don't know how to do this, read up on the docs here: http://pandas.pydata.org/pandas-docs/stable/generated/pandas.DataFrame.html\n",
    "\n",
    "Since these audio clips are unfortunately not length-normalized, we're going to have to just hard chop them to all be the same length. Since Pandas would have inserted NANs at any spot to make zero a  perfectly rectangular [n_observed_samples, n_audio_samples] array, do a `dropna` on the Y axis here. Then, convert one back into an NDArray using `yourarrayname.values`:"
   ]
  },
  {
   "cell_type": "code",
   "execution_count": 10,
   "metadata": {
    "id": "HzG76oSaTg_v"
   },
   "outputs": [
    {
     "data": {
      "text/plain": [
       "(50, 4087)"
      ]
     },
     "execution_count": 10,
     "metadata": {},
     "output_type": "execute_result"
    }
   ],
   "source": [
    "# .. your code here ..\n",
    "df = pd.DataFrame(zero, dtype = 'int16')\n",
    "df.dropna(axis = 1, inplace = True)\n",
    "df.shape"
   ]
  },
  {
   "cell_type": "code",
   "execution_count": 11,
   "metadata": {},
   "outputs": [
    {
     "data": {
      "text/html": [
       "<div>\n",
       "<style scoped>\n",
       "    .dataframe tbody tr th:only-of-type {\n",
       "        vertical-align: middle;\n",
       "    }\n",
       "\n",
       "    .dataframe tbody tr th {\n",
       "        vertical-align: top;\n",
       "    }\n",
       "\n",
       "    .dataframe thead th {\n",
       "        text-align: right;\n",
       "    }\n",
       "</style>\n",
       "<table border=\"1\" class=\"dataframe\">\n",
       "  <thead>\n",
       "    <tr style=\"text-align: right;\">\n",
       "      <th></th>\n",
       "      <th>0</th>\n",
       "      <th>1</th>\n",
       "      <th>2</th>\n",
       "      <th>3</th>\n",
       "      <th>4</th>\n",
       "      <th>5</th>\n",
       "      <th>6</th>\n",
       "      <th>7</th>\n",
       "      <th>8</th>\n",
       "      <th>9</th>\n",
       "      <th>...</th>\n",
       "      <th>4077</th>\n",
       "      <th>4078</th>\n",
       "      <th>4079</th>\n",
       "      <th>4080</th>\n",
       "      <th>4081</th>\n",
       "      <th>4082</th>\n",
       "      <th>4083</th>\n",
       "      <th>4084</th>\n",
       "      <th>4085</th>\n",
       "      <th>4086</th>\n",
       "    </tr>\n",
       "  </thead>\n",
       "  <tbody>\n",
       "    <tr>\n",
       "      <th>0</th>\n",
       "      <td>-369</td>\n",
       "      <td>-431</td>\n",
       "      <td>-475</td>\n",
       "      <td>-543</td>\n",
       "      <td>-571</td>\n",
       "      <td>-557</td>\n",
       "      <td>-528</td>\n",
       "      <td>-455</td>\n",
       "      <td>-394</td>\n",
       "      <td>-305</td>\n",
       "      <td>...</td>\n",
       "      <td>2475</td>\n",
       "      <td>2500</td>\n",
       "      <td>2331</td>\n",
       "      <td>1786</td>\n",
       "      <td>1057</td>\n",
       "      <td>358</td>\n",
       "      <td>158</td>\n",
       "      <td>-108</td>\n",
       "      <td>-402</td>\n",
       "      <td>-884</td>\n",
       "    </tr>\n",
       "    <tr>\n",
       "      <th>1</th>\n",
       "      <td>-311</td>\n",
       "      <td>-91</td>\n",
       "      <td>-140</td>\n",
       "      <td>-182</td>\n",
       "      <td>-271</td>\n",
       "      <td>-68</td>\n",
       "      <td>-235</td>\n",
       "      <td>-359</td>\n",
       "      <td>-129</td>\n",
       "      <td>-198</td>\n",
       "      <td>...</td>\n",
       "      <td>-122</td>\n",
       "      <td>-207</td>\n",
       "      <td>-266</td>\n",
       "      <td>-276</td>\n",
       "      <td>-316</td>\n",
       "      <td>-359</td>\n",
       "      <td>-396</td>\n",
       "      <td>-422</td>\n",
       "      <td>-462</td>\n",
       "      <td>-460</td>\n",
       "    </tr>\n",
       "    <tr>\n",
       "      <th>2</th>\n",
       "      <td>-314</td>\n",
       "      <td>-303</td>\n",
       "      <td>-332</td>\n",
       "      <td>-376</td>\n",
       "      <td>-344</td>\n",
       "      <td>-344</td>\n",
       "      <td>-334</td>\n",
       "      <td>-295</td>\n",
       "      <td>-243</td>\n",
       "      <td>-224</td>\n",
       "      <td>...</td>\n",
       "      <td>-2084</td>\n",
       "      <td>-1223</td>\n",
       "      <td>-226</td>\n",
       "      <td>960</td>\n",
       "      <td>2267</td>\n",
       "      <td>3264</td>\n",
       "      <td>3553</td>\n",
       "      <td>3418</td>\n",
       "      <td>2640</td>\n",
       "      <td>1202</td>\n",
       "    </tr>\n",
       "    <tr>\n",
       "      <th>3</th>\n",
       "      <td>347</td>\n",
       "      <td>351</td>\n",
       "      <td>462</td>\n",
       "      <td>451</td>\n",
       "      <td>499</td>\n",
       "      <td>509</td>\n",
       "      <td>469</td>\n",
       "      <td>534</td>\n",
       "      <td>362</td>\n",
       "      <td>464</td>\n",
       "      <td>...</td>\n",
       "      <td>1163</td>\n",
       "      <td>1075</td>\n",
       "      <td>831</td>\n",
       "      <td>269</td>\n",
       "      <td>-419</td>\n",
       "      <td>-1247</td>\n",
       "      <td>-2099</td>\n",
       "      <td>-2615</td>\n",
       "      <td>-2777</td>\n",
       "      <td>-2561</td>\n",
       "    </tr>\n",
       "    <tr>\n",
       "      <th>4</th>\n",
       "      <td>-336</td>\n",
       "      <td>160</td>\n",
       "      <td>65</td>\n",
       "      <td>-161</td>\n",
       "      <td>-23</td>\n",
       "      <td>61</td>\n",
       "      <td>39</td>\n",
       "      <td>-332</td>\n",
       "      <td>348</td>\n",
       "      <td>-198</td>\n",
       "      <td>...</td>\n",
       "      <td>105</td>\n",
       "      <td>98</td>\n",
       "      <td>118</td>\n",
       "      <td>99</td>\n",
       "      <td>64</td>\n",
       "      <td>-73</td>\n",
       "      <td>-181</td>\n",
       "      <td>-315</td>\n",
       "      <td>-343</td>\n",
       "      <td>-319</td>\n",
       "    </tr>\n",
       "  </tbody>\n",
       "</table>\n",
       "<p>5 rows × 4087 columns</p>\n",
       "</div>"
      ],
      "text/plain": [
       "   0     1     2     3     4     5     6     7     8     9     ...  4077  \\\n",
       "0  -369  -431  -475  -543  -571  -557  -528  -455  -394  -305  ...  2475   \n",
       "1  -311   -91  -140  -182  -271   -68  -235  -359  -129  -198  ...  -122   \n",
       "2  -314  -303  -332  -376  -344  -344  -334  -295  -243  -224  ... -2084   \n",
       "3   347   351   462   451   499   509   469   534   362   464  ...  1163   \n",
       "4  -336   160    65  -161   -23    61    39  -332   348  -198  ...   105   \n",
       "\n",
       "   4078  4079  4080  4081  4082  4083  4084  4085  4086  \n",
       "0  2500  2331  1786  1057   358   158  -108  -402  -884  \n",
       "1  -207  -266  -276  -316  -359  -396  -422  -462  -460  \n",
       "2 -1223  -226   960  2267  3264  3553  3418  2640  1202  \n",
       "3  1075   831   269  -419 -1247 -2099 -2615 -2777 -2561  \n",
       "4    98   118    99    64   -73  -181  -315  -343  -319  \n",
       "\n",
       "[5 rows x 4087 columns]"
      ]
     },
     "execution_count": 11,
     "metadata": {},
     "output_type": "execute_result"
    }
   ],
   "source": [
    "df.head()"
   ]
  },
  {
   "cell_type": "code",
   "execution_count": 12,
   "metadata": {},
   "outputs": [],
   "source": [
    "zero = df.to_numpy()"
   ]
  },
  {
   "cell_type": "markdown",
   "metadata": {
    "id": "litpLIunTg_2"
   },
   "source": [
    "It's important to know how (many audio_samples samples) long the data is now.\n",
    "\n",
    "`zero` is currently shaped like `[n_samples, n_audio_samples]`, so get the `n_audio_samples` count and store it in a variable called `n_audio_samples`:"
   ]
  },
  {
   "cell_type": "code",
   "execution_count": 13,
   "metadata": {},
   "outputs": [
    {
     "data": {
      "text/plain": [
       "(50, 4087)"
      ]
     },
     "execution_count": 13,
     "metadata": {},
     "output_type": "execute_result"
    }
   ],
   "source": [
    "zero.shape"
   ]
  },
  {
   "cell_type": "code",
   "execution_count": 14,
   "metadata": {
    "id": "BJT-HkwsTg_4"
   },
   "outputs": [],
   "source": [
    "# .. your code here ..\n",
    "n_audio_samples = zero.shape[1]"
   ]
  },
  {
   "cell_type": "code",
   "execution_count": 15,
   "metadata": {},
   "outputs": [
    {
     "data": {
      "text/plain": [
       "4087"
      ]
     },
     "execution_count": 15,
     "metadata": {},
     "output_type": "execute_result"
    }
   ],
   "source": [
    "n_audio_samples"
   ]
  },
  {
   "cell_type": "markdown",
   "metadata": {
    "id": "X_o9dFonajuZ"
   },
   "source": [
    "## 2. Training the Model"
   ]
  },
  {
   "cell_type": "markdown",
   "metadata": {
    "id": "OKs-DpagTg__"
   },
   "source": [
    "Create your linear regression model here and store it in a variable called `model`. Don't actually train or do anything else with it yet:"
   ]
  },
  {
   "cell_type": "code",
   "execution_count": 16,
   "metadata": {
    "id": "YYi87mhQThAA"
   },
   "outputs": [],
   "source": [
    "# .. your code here ..\n",
    "from sklearn.linear_model import LinearRegression\n",
    "model = LinearRegression()"
   ]
  },
  {
   "cell_type": "markdown",
   "metadata": {
    "id": "Q1sUz2UwThAF"
   },
   "source": [
    "There are 50 takes of each clip. You want to pull out just one of them, randomly, and that one will NOT be used in the training of your model. In other words, the one file we'll be testing / scoring on will be an unseen sample, independent to the rest of your training set:"
   ]
  },
  {
   "cell_type": "code",
   "execution_count": 17,
   "metadata": {},
   "outputs": [
    {
     "data": {
      "text/plain": [
       "RandomState(MT19937) at 0x1B5D7B63840"
      ]
     },
     "execution_count": 17,
     "metadata": {},
     "output_type": "execute_result"
    }
   ],
   "source": [
    "check_random_state(7)"
   ]
  },
  {
   "cell_type": "code",
   "execution_count": 18,
   "metadata": {
    "id": "8ewvSE_1ThAG"
   },
   "outputs": [],
   "source": [
    "# Leave this line alone until you've submitted your lab:\n",
    "rng = check_random_state(7)\n",
    "\n",
    "random_idx = rng.randint(zero.shape[0])\n",
    "test  = zero[random_idx]\n",
    "train = np.delete(zero, [random_idx], axis=0)"
   ]
  },
  {
   "cell_type": "markdown",
   "metadata": {
    "id": "l-ft2fTvThAO"
   },
   "source": [
    "Print out the shape of `train`, and the shape of `test`.\n",
    "\n",
    "`train` will be shaped: `[n_samples, n_audio_samples]`, where `n_audio_samples` are the 'features' of the audio file \n",
    "\n",
    "`test` will be shaped `[n_audio_features]`, since it is a single sample (audio file, e.g. observation)."
   ]
  },
  {
   "cell_type": "code",
   "execution_count": 30,
   "metadata": {
    "id": "Soc8ciucThAP"
   },
   "outputs": [
    {
     "name": "stdout",
     "output_type": "stream",
     "text": [
      "(49, 4087)\n",
      "(4087,)\n"
     ]
    }
   ],
   "source": [
    "# .. your code here ..\n",
    "print(train.shape)\n",
    "print(test.shape)"
   ]
  },
  {
   "cell_type": "markdown",
   "metadata": {
    "collapsed": true,
    "id": "xIoIIWN-ThAb"
   },
   "source": [
    "The test data will have two parts, `X_test` and `y_test`.\n",
    "\n",
    "`X_test` is going to be the first portion of the test audio file, which we will be providing the computer as input. \n",
    "\n",
    "`y_test`, the \"label\" if you will, is going to be the remaining portion of the audio file. Like such, the computer will use linear regression to derive the missing portion of the sound file based off of the training data its received!\n",
    "\n",
    "Let's save the original `test` clip, the one you're about to delete half of, to the current directory so that you can compare it to the 'patched' clip once you've generated it. You should have already got the `sample_rate` when you were loading up the .wav files:"
   ]
  },
  {
   "cell_type": "code",
   "execution_count": 34,
   "metadata": {
    "id": "zxPW90H9ThAd"
   },
   "outputs": [],
   "source": [
    "wavfile.write('Original Test Clip.wav', sample_rate, test)"
   ]
  },
  {
   "cell_type": "markdown",
   "metadata": {
    "id": "rIkmkMqNThAk"
   },
   "source": [
    "Prepare the TEST data by creating a slice called `X_test`. It should have `Provided_Portion` * `n_audio_samples` audio sample features, taken from your test audio file, currently stored in variable `test`. In other words, grab the FIRST `Provided_Portion` * `n_audio_samples` audio features from `test` and store it in `X_test`. This should be accomplished using indexing:"
   ]
  },
  {
   "cell_type": "code",
   "execution_count": 38,
   "metadata": {},
   "outputs": [
    {
     "data": {
      "text/plain": [
       "4087"
      ]
     },
     "execution_count": 38,
     "metadata": {},
     "output_type": "execute_result"
    }
   ],
   "source": [
    "n_audio_samples"
   ]
  },
  {
   "cell_type": "code",
   "execution_count": 40,
   "metadata": {},
   "outputs": [
    {
     "data": {
      "text/plain": [
       "array([-417,  152,  168, ...,  638,  463,  332], dtype=int16)"
      ]
     },
     "execution_count": 40,
     "metadata": {},
     "output_type": "execute_result"
    }
   ],
   "source": [
    "test"
   ]
  },
  {
   "cell_type": "code",
   "execution_count": 43,
   "metadata": {
    "id": "IECZK7pGThAl"
   },
   "outputs": [],
   "source": [
    "# .. your code here ..\n",
    "X_test = test[:int(Provided_Portion * n_audio_samples)]"
   ]
  },
  {
   "cell_type": "markdown",
   "metadata": {
    "id": "Pt50X7z-ThAw"
   },
   "source": [
    "If the first `Provided_Portion` * `n_audio_samples` features were stored in `X_test`, then we need to also grab the _remaining_ audio features and store them in `y_test`. With the remaining features stored in there, we will be able to R^2 \"score\" how well our algorithm did in completing the sound file."
   ]
  },
  {
   "cell_type": "code",
   "execution_count": 44,
   "metadata": {
    "id": "AbbmCXo9ThAx"
   },
   "outputs": [],
   "source": [
    "# .. your code here ..\n",
    "y_test = test[int(Provided_Portion * n_audio_samples):]"
   ]
  },
  {
   "cell_type": "code",
   "execution_count": 45,
   "metadata": {},
   "outputs": [
    {
     "data": {
      "text/plain": [
       "(1021,)"
      ]
     },
     "execution_count": 45,
     "metadata": {},
     "output_type": "execute_result"
    }
   ],
   "source": [
    "X_test.shape"
   ]
  },
  {
   "cell_type": "code",
   "execution_count": 46,
   "metadata": {},
   "outputs": [
    {
     "data": {
      "text/plain": [
       "(3066,)"
      ]
     },
     "execution_count": 46,
     "metadata": {},
     "output_type": "execute_result"
    }
   ],
   "source": [
    "y_test.shape"
   ]
  },
  {
   "cell_type": "markdown",
   "metadata": {
    "id": "W0DXxAEhThBA"
   },
   "source": [
    "Duplicate the same process for `X_train`, `y_train`. The only differences being:\n",
    "\n",
    "1. Your will be getting your audio data from `train` instead of from `test`\n",
    "2. Remember the shape of `train` that you printed out earlier? You want to do this slicing but for ALL samples (observations). For each observation, you want to slice the first `Provided_Portion` * `n_audio_samples` audio features into `X_train`, and the remaining go into `y_train`. All of this should be doable using regular indexing in two lines of code:"
   ]
  },
  {
   "cell_type": "code",
   "execution_count": 48,
   "metadata": {
    "id": "8CgSV4-IThBC"
   },
   "outputs": [],
   "source": [
    "# .. your code here ..\n",
    "X_train = train[:, :int(Provided_Portion * n_audio_samples)]\n",
    "y_train = train[:, int(Provided_Portion * n_audio_samples):]"
   ]
  },
  {
   "cell_type": "markdown",
   "metadata": {
    "id": "gVZG3AQwThBN"
   },
   "source": [
    "SciKit-Learn gets 'angry' if you don't supply your training data in the form of a 2D dataframe shaped like `[n_samples, n_features]`.\n",
    "\n",
    "So if you only have one SAMPLE, such as is our case with `X_test`, and `y_test`, then by calling `.reshape(1, -1)`, you can turn `[n_features]` into `[1, n_features]` in order to appease SciKit-Learn.\n",
    "\n",
    "On the other hand, if you only have one FEATURE, you can alternatively call `.reshape(-1, 1)` on your data to turn `[n_samples]` into `[n_samples, 1]`.\n",
    "\n",
    "Reshape X_test and y_test as [1, n_features]:"
   ]
  },
  {
   "cell_type": "code",
   "execution_count": 53,
   "metadata": {},
   "outputs": [
    {
     "ename": "TypeError",
     "evalue": "'ellipsis' object cannot be interpreted as an integer",
     "output_type": "error",
     "traceback": [
      "\u001b[1;31m---------------------------------------------------------------------------\u001b[0m",
      "\u001b[1;31mTypeError\u001b[0m                                 Traceback (most recent call last)",
      "\u001b[1;32m<ipython-input-53-bcd53eb1b85c>\u001b[0m in \u001b[0;36m<module>\u001b[1;34m\u001b[0m\n\u001b[1;32m----> 1\u001b[1;33m \u001b[0mX_test\u001b[0m\u001b[1;33m.\u001b[0m\u001b[0mreshape\u001b[0m\u001b[1;33m(\u001b[0m\u001b[1;33m...\u001b[0m\u001b[1;33m,\u001b[0m \u001b[1;36m1\u001b[0m\u001b[1;33m)\u001b[0m\u001b[1;33m\u001b[0m\u001b[1;33m\u001b[0m\u001b[0m\n\u001b[0m",
      "\u001b[1;31mTypeError\u001b[0m: 'ellipsis' object cannot be interpreted as an integer"
     ]
    }
   ],
   "source": [
    "X_test.reshape(..., 1)"
   ]
  },
  {
   "cell_type": "code",
   "execution_count": 54,
   "metadata": {
    "id": "ovi6Z4vAThBO"
   },
   "outputs": [],
   "source": [
    "# .. your code here ..\n",
    "X_test = X_test.reshape(1, -1)\n",
    "y_test = y_test.reshape(1, -1)"
   ]
  },
  {
   "cell_type": "markdown",
   "metadata": {
    "id": "pveoa3OSThBV"
   },
   "source": [
    "Fit your model using your training data and label:"
   ]
  },
  {
   "cell_type": "code",
   "execution_count": 55,
   "metadata": {
    "id": "aWrzESmWThBW"
   },
   "outputs": [
    {
     "data": {
      "text/plain": [
       "LinearRegression()"
      ]
     },
     "execution_count": 55,
     "metadata": {},
     "output_type": "execute_result"
    }
   ],
   "source": [
    "# .. your code here ..\n",
    "model.fit(X_train, y_train)"
   ]
  },
  {
   "cell_type": "markdown",
   "metadata": {
    "id": "beK3QB4Ha1SW"
   },
   "source": [
    "## 3. Model Evaluation"
   ]
  },
  {
   "cell_type": "markdown",
   "metadata": {
    "id": "xkUDZHtkThBd"
   },
   "source": [
    "Use your model to predict the `label` of `X_test`. Store the resulting prediction in a variable called `y_test_prediction`:"
   ]
  },
  {
   "cell_type": "code",
   "execution_count": 56,
   "metadata": {
    "id": "ShxFfA0IThBe"
   },
   "outputs": [],
   "source": [
    "# .. your code here ..\n",
    "y_test_prediction = model.predict(X_test)"
   ]
  },
  {
   "cell_type": "markdown",
   "metadata": {
    "id": "9oSFOALZThBi"
   },
   "source": [
    "SciKit-Learn will use float64 to generate your predictions so let's take those values back to int16, which is what our .wav files expect:"
   ]
  },
  {
   "cell_type": "code",
   "execution_count": 59,
   "metadata": {},
   "outputs": [
    {
     "data": {
      "text/plain": [
       "array([[-4926, -6274, -6148, ...,  2963,   605,   317]], dtype=int16)"
      ]
     },
     "execution_count": 59,
     "metadata": {},
     "output_type": "execute_result"
    }
   ],
   "source": [
    "y_test_prediction"
   ]
  },
  {
   "cell_type": "code",
   "execution_count": 58,
   "metadata": {
    "id": "wbnClMVCThBj"
   },
   "outputs": [],
   "source": [
    "y_test_prediction = y_test_prediction.astype(dtype=np.int16)"
   ]
  },
  {
   "cell_type": "markdown",
   "metadata": {
    "id": "oYqV-K4IThBo"
   },
   "source": [
    "Score how well your prediction would do for some good laughs, by passing in your test data and test label `y_test`:"
   ]
  },
  {
   "cell_type": "code",
   "execution_count": 123,
   "metadata": {},
   "outputs": [],
   "source": [
    "y_test = y_test.astype('int64')\n",
    "y_test_prediction = y_test_prediction.astype('int64')"
   ]
  },
  {
   "cell_type": "code",
   "execution_count": 124,
   "metadata": {
    "id": "qF-R89wLThBp"
   },
   "outputs": [],
   "source": [
    "# .. your code here ..\n",
    "\n",
    "score = 1 - ((y_test - y_test_prediction)**2).sum()/((y_test - y_test.mean())**2).sum()"
   ]
  },
  {
   "cell_type": "code",
   "execution_count": 127,
   "metadata": {},
   "outputs": [
    {
     "data": {
      "text/plain": [
       "285830374772"
      ]
     },
     "execution_count": 127,
     "metadata": {},
     "output_type": "execute_result"
    }
   ],
   "source": [
    "((y_test - y_test_prediction)**2).sum()"
   ]
  },
  {
   "cell_type": "code",
   "execution_count": 108,
   "metadata": {},
   "outputs": [
    {
     "data": {
      "text/plain": [
       "array([-25536, -19612,  21993, ...,  13828,  17761, -20848], dtype=int16)"
      ]
     },
     "execution_count": 108,
     "metadata": {},
     "output_type": "execute_result"
    }
   ],
   "source": [
    "np.power(y_test.reshape(-1,), 2)"
   ]
  },
  {
   "cell_type": "code",
   "execution_count": 104,
   "metadata": {},
   "outputs": [
    {
     "data": {
      "text/plain": [
       "array([[-25536, -19612,  21993, ...,  13828,  17761, -20848]], dtype=int16)"
      ]
     },
     "execution_count": 104,
     "metadata": {},
     "output_type": "execute_result"
    }
   ],
   "source": [
    "y_test**2"
   ]
  },
  {
   "cell_type": "code",
   "execution_count": 101,
   "metadata": {},
   "outputs": [
    {
     "data": {
      "text/plain": [
       "array([[-3066, -2376, -2857, ..., -2325,  -142,    15]], dtype=int16)"
      ]
     },
     "execution_count": 101,
     "metadata": {},
     "output_type": "execute_result"
    }
   ],
   "source": [
    "y_test - y_test_prediction"
   ]
  },
  {
   "cell_type": "code",
   "execution_count": 102,
   "metadata": {},
   "outputs": [
    {
     "data": {
      "text/plain": [
       "array([[ 28708,   9280, -29551, ...,  31673,  20164,    225]], dtype=int16)"
      ]
     },
     "execution_count": 102,
     "metadata": {},
     "output_type": "execute_result"
    }
   ],
   "source": [
    "np.power((y_test - y_test_prediction), 2)"
   ]
  },
  {
   "cell_type": "code",
   "execution_count": null,
   "metadata": {},
   "outputs": [],
   "source": []
  },
  {
   "cell_type": "code",
   "execution_count": 125,
   "metadata": {
    "id": "uAwVxcTOThBu"
   },
   "outputs": [
    {
     "name": "stdout",
     "output_type": "stream",
     "text": [
      "Extrapolation R^2 Score:  -8.901095022949223\n"
     ]
    }
   ],
   "source": [
    "print(\"Extrapolation R^2 Score: \", score)"
   ]
  },
  {
   "cell_type": "markdown",
   "metadata": {
    "id": "Qxlg7hWRThB1"
   },
   "source": [
    "Let's take the first `Provided_Portion` portion of the test clip, the part you fed into your linear regression model. Then, stitch that together with the 'abomination' the predictor model generated for you and then save the completed audio clip:"
   ]
  },
  {
   "cell_type": "code",
   "execution_count": 65,
   "metadata": {
    "id": "co0UKuZ0ThB2"
   },
   "outputs": [],
   "source": [
    "completed_clip = np.hstack((X_test, y_test_prediction))\n",
    "wavfile.write('Extrapolated Clip.wav', sample_rate, completed_clip[0])"
   ]
  },
  {
   "cell_type": "code",
   "execution_count": 72,
   "metadata": {},
   "outputs": [],
   "source": [
    "import matplotlib.pyplot as plt"
   ]
  },
  {
   "cell_type": "code",
   "execution_count": 92,
   "metadata": {},
   "outputs": [
    {
     "data": {
      "text/plain": [
       "[<matplotlib.lines.Line2D at 0x1b5ea823850>]"
      ]
     },
     "execution_count": 92,
     "metadata": {},
     "output_type": "execute_result"
    },
    {
     "data": {
      "image/png": "[encoded data removed]",
      "text/plain": [
       "<Figure size 432x288 with 1 Axes>"
      ]
     },
     "metadata": {
      "needs_background": "light"
     },
     "output_type": "display_data"
    }
   ],
   "source": [
    "plt.plot(test)"
   ]
  },
  {
   "cell_type": "code",
   "execution_count": 87,
   "metadata": {},
   "outputs": [
    {
     "data": {
      "text/plain": [
       "[<matplotlib.lines.Line2D at 0x1b5ea7bba00>]"
      ]
     },
     "execution_count": 87,
     "metadata": {},
     "output_type": "execute_result"
    },
    {
     "data": {
      "image/png": "[encoded data removed]",
      "text/plain": [
       "<Figure size 432x288 with 1 Axes>"
      ]
     },
     "metadata": {
      "needs_background": "light"
     },
     "output_type": "display_data"
    }
   ],
   "source": [
    "plt.plot(completed_clip.reshape(4087,))"
   ]
  },
  {
   "cell_type": "code",
   "execution_count": null,
   "metadata": {},
   "outputs": [],
   "source": []
  }
 ],
 "metadata": {
  "anaconda-cloud": {},
  "colab": {
   "collapsed_sections": [
    "CtpmzhmaTg_C",
    "FIJAy5U0Tg_T",
    "CvGpdC1RTg_d",
    "X_o9dFonajuZ",
    "beK3QB4Ha1SW"
   ],
   "name": "Lab 2.4-sound_magician.ipynb",
   "provenance": []
  },
  "kernelspec": {
   "display_name": "Python 3",
   "language": "python",
   "name": "python3"
  },
  "language_info": {
   "codemirror_mode": {
    "name": "ipython",
    "version": 3
   },
   "file_extension": ".py",
   "mimetype": "text/x-python",
   "name": "python",
   "nbconvert_exporter": "python",
   "pygments_lexer": "ipython3",
   "version": "3.8.8"
  },
  "toc": {
   "colors": {
    "hover_highlight": "#DAA520",
    "running_highlight": "#FF0000",
    "selected_highlight": "#FFD700"
   },
   "moveMenuLeft": true,
   "nav_menu": {
    "height": "58px",
    "width": "252px"
   },
   "navigate_menu": true,
   "number_sections": true,
   "sideBar": true,
   "threshold": 4,
   "toc_cell": false,
   "toc_section_display": "block",
   "toc_window_display": false,
   "widenNotebook": false
  }
 },
 "nbformat": 4,
 "nbformat_minor": 1
}
